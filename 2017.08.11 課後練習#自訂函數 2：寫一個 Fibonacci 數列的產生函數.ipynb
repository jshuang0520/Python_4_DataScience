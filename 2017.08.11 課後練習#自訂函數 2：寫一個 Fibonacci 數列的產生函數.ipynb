{
 "cells": [
  {
   "cell_type": "code",
   "execution_count": null,
   "metadata": {},
   "outputs": [],
   "source": [
    "#自訂函數 2：寫一個 Fibonacci 數列的產生函數，有三個輸入：第一個數字 f1、第二個數字 f2 與數列長度 fib_len fib_gen(f1, f2, fib_len)\n",
    "\n",
    "\n",
    "\n",
    "\n",
    "#參考資料\n",
    "\n",
    "\n",
    "\n",
    "\n",
    "f1 = 0\n",
    "f2 = 1\n",
    "\n",
    "費氏數列 = [f1 , f2]\n",
    "print(費氏數列)\n",
    "\n",
    "while len(費氏數列) < 20 :\n",
    "    f1, f2 = f2, f1+f2\n",
    "    費氏數列.append(f2)\n",
    "print(費氏數列)\n",
    "print('\\n')\n",
    "print(\"--------------------------------------------------------------------------------\")\n",
    "import math # 要使用 pi 得引入套件 math\n",
    "            # 定義自訂函數\n",
    "def circle_calculate(radius, is_area):\n",
    "    '''\n",
    "    依據輸入的半徑與 is_area 參數，計算圓形的面積或周長\n",
    "    '''\n",
    "    circle_area = math.pi * radius**2\n",
    "    circle_circum = 2 * math.pi * radius\n",
    "    if is_area == True:\n",
    "        return circle_area\n",
    "    else:\n",
    "        return circle_circum\n",
    "# 呼叫自訂函數\n",
    "help(circle_calculate) # 查詢自訂函數\n",
    "my_radius = 3\n",
    "print(circle_calculate(my_radius, is_area = True)) # 指定參數回傳面積\n",
    "print(circle_calculate(my_radius, is_area = False)) # 指定參數回傳周長\n",
    "print('\\n')\n",
    "print(\"--------------------------------------------------------------------------------\")\n",
    "def sum(a, b):\n",
    "    return a + b\n",
    " \n",
    "def fib(n):\n",
    "    i = 1\n",
    "    j = 1\n",
    "    while sum(i, j) < n:\n",
    "        i, j = j, sum(i, j)\n",
    "     \n",
    "    return j\n",
    " \n",
    "print(fib(100))\n",
    "\n",
    "\n",
    "    "
   ]
  },
  {
   "cell_type": "code",
   "execution_count": null,
   "metadata": {},
   "outputs": [],
   "source": [
    "#自訂函數 2：寫一個 Fibonacci 數列的產生函數，有三個輸入：第一個數字 f1、第二個數字 f2 與數列長度 fib_len fib_gen(f1, f2, fib_len)\n",
    "def Fibonacci(f1, f2, fib_len) :\n",
    "    '''\n",
    "    依據輸入的f1、f2與 fib_len 參數，產生一組首項、第二項及數列長度由你決定的Fibonacci 數列\n",
    "    ''' \n",
    "    f1 = my_f1\n",
    "    f2 = my_f2\n",
    "    F_list = [f1 , f2]\n",
    "    while len(費氏數列) < my_fib_len + 1 :\n",
    "        f1, f2 = f2, f1+f2\n",
    "        F_list.append(f2)\n",
    "    return F_list    \n",
    "    \n",
    "    \n",
    "my_f1 = 3    \n",
    "my_f2 = 4    \n",
    "my_fib_len = 3    \n",
    "print(Fibonacci(my_f1, my_f2, my_fib_len))"
   ]
  },
  {
   "cell_type": "code",
   "execution_count": null,
   "metadata": {
    "collapsed": true
   },
   "outputs": [],
   "source": []
  }
 ],
 "metadata": {
  "kernelspec": {
   "display_name": "Python 3",
   "language": "python",
   "name": "python3"
  },
  "language_info": {
   "codemirror_mode": {
    "name": "ipython",
    "version": 3
   },
   "file_extension": ".py",
   "mimetype": "text/x-python",
   "name": "python",
   "nbconvert_exporter": "python",
   "pygments_lexer": "ipython3",
   "version": "3.6.1"
  }
 },
 "nbformat": 4,
 "nbformat_minor": 2
}
