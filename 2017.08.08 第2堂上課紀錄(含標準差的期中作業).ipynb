{
 "cells": [
  {
   "cell_type": "code",
   "execution_count": 2,
   "metadata": {},
   "outputs": [
    {
     "ename": "SyntaxError",
     "evalue": "invalid syntax (<ipython-input-2-b0e9ae6166bb>, line 4)",
     "output_type": "error",
     "traceback": [
      "\u001b[1;36m  File \u001b[1;32m\"<ipython-input-2-b0e9ae6166bb>\"\u001b[1;36m, line \u001b[1;32m4\u001b[0m\n\u001b[1;33m    for i in range(101)\u001b[0m\n\u001b[1;37m                       ^\u001b[0m\n\u001b[1;31mSyntaxError\u001b[0m\u001b[1;31m:\u001b[0m invalid syntax\n"
     ]
    }
   ],
   "source": [
    "#練習用 for 迴圈計算 1 加到 100\n",
    "\n",
    "a = 0\n",
    "for i in range(101)\n",
    "    a = a + i\n",
    "print(a)"
   ]
  },
  {
   "cell_type": "code",
   "execution_count": 31,
   "metadata": {},
   "outputs": [
    {
     "name": "stdout",
     "output_type": "stream",
     "text": [
      "0\n",
      "1\n",
      "5050\n",
      "100\n",
      "50.5\n",
      "3628800\n"
     ]
    }
   ],
   "source": [
    "a = 0\n",
    "print(list(range(101))[0])\n",
    "print(list(range(1,101))[0])\n",
    "\n",
    "counts = 0\n",
    "\n",
    "for i in range(1,101):\n",
    "    a = a + i\n",
    "    counts += 1\n",
    "print(a)\n",
    "print(counts)\n",
    "print(a/counts)\n",
    "\n",
    "\n",
    "b=1\n",
    "for i in range(1,11):\n",
    "    b *= i\n",
    "print(b)"
   ]
  },
  {
   "cell_type": "code",
   "execution_count": 25,
   "metadata": {
    "scrolled": true
   },
   "outputs": [
    {
     "name": "stdout",
     "output_type": "stream",
     "text": [
      "1\n",
      "2\n",
      "6\n",
      "24\n",
      "120\n",
      "720\n",
      "5040\n",
      "40320\n",
      "362880\n",
      "3628800\n"
     ]
    }
   ],
   "source": [
    "b=1\n",
    "for i in range(1,11):\n",
    "    b *= i\n",
    "    print(b)"
   ]
  },
  {
   "cell_type": "code",
   "execution_count": 32,
   "metadata": {},
   "outputs": [
    {
     "name": "stdout",
     "output_type": "stream",
     "text": [
      "['2', '3', '2', '1', '6', '6', '3', '1', '1', '3', '1', '2', '2', '4', '3', '4', '3', '3', '1', '2', '6']\n",
      "21\n"
     ]
    }
   ],
   "source": [
    "from random import choice\n",
    "\n",
    "dice = [\"1\", \"2\", \"3\", \"4\", \"5\", \"6\"]\n",
    "flips = []\n",
    "while flips.count(\"6\") < 3:\n",
    "    flips.append(choice(dice))\n",
    "\n",
    "print(flips)\n",
    "print(len(flips))"
   ]
  },
  {
   "cell_type": "code",
   "execution_count": 33,
   "metadata": {},
   "outputs": [
    {
     "name": "stdout",
     "output_type": "stream",
     "text": [
      "['Tail', 'Head', 'Tail', 'Tail', 'Tail', 'Tail', 'Tail', 'Tail', 'Tail', 'Head', 'Head']\n",
      "11\n"
     ]
    }
   ],
   "source": [
    "from random import choice\n",
    "\n",
    "coin = [\"Head\", \"Tail\"]\n",
    "flips = []\n",
    "while flips.count(\"Head\") < 3:\n",
    "    flips.append(choice(coin))\n",
    "\n",
    "print(flips)\n",
    "print(len(flips))"
   ]
  },
  {
   "cell_type": "code",
   "execution_count": 34,
   "metadata": {
    "collapsed": true
   },
   "outputs": [
    {
     "name": "stdout",
     "output_type": "stream",
     "text": [
      "\n",
      "\n",
      "\n",
      "\n",
      "\n",
      "\n",
      "\n",
      "\n",
      "\n",
      "\n",
      "\n",
      "\n",
      "\n",
      "\n"
     ]
    }
   ],
   "source": [
    "#迴圈的結構\n",
    "#宣告迴圈的種類（for）\n",
    "#宣告一個 iterator（weekday）\n",
    "#宣告一個迴圈要跑的空間（weekdays）\n",
    "#縮排宣告每一次 iterator 變動的時候要做什麼事（print(weekday)）\n",
    "\n",
    "print(\"\\n\")\n",
    "#for 迴圈\n",
    "#迭代子為序列內容的結構：\n",
    "# for element in sequence:\n",
    "    # 做什麼事\n",
    "    \n",
    "print(\"\\n\")\n",
    "#for 迴圈（2）\n",
    "#迭代子為索引值的結構：\n",
    "# for ind in range(len(sequence)):\n",
    "#    print(sequence[ind])\n",
    "\n",
    "print(\"\\n\")\n",
    "#for 迴圈（3）\n",
    "#element 不必要為單一變數\n",
    "#In [3]:\n",
    "#seq = [87, [1, 2, 3], {\"city\": \"Taipei\"}]\n",
    "\n",
    "#for element in seq:\n",
    "#    print(element)\n",
    "#87\n",
    "#[1, 2, 3]\n",
    "#{'city': 'Taipei'}\n",
    "\n",
    "print(\"\\n\")\n",
    "#for 迴圈（4）\n",
    "#如果 sequence 是一個字典，會直接輸出鍵值（key）\n",
    "#In [4]:\n",
    "#my_dict = {\"country\": \"Taiwan\", \"city\":\"Taipei\"}\n",
    "\n",
    "#for element in my_dict:\n",
    "#    print(element)\n",
    "#country\n",
    "#city\n",
    "\n",
    "print(\"\\n\")\n",
    "#for 迴圈（5）\n",
    "#sequence 是字典時，可讀性更強的寫法：\n",
    "#In [5]:\n",
    "#my_dict = {\"country\": \"Taiwan\", \"city\":\"Taipei\"}\n",
    "#print(my_dict.keys())\n",
    "\n",
    "#for element in my_dict.keys():\n",
    "#    print(element)\n",
    "#dict_keys(['country', 'city'])\n",
    "#country\n",
    "#city\n",
    "\n",
    "print(\"\\n\")\n",
    "#for 迴圈（6）\n",
    "#sequence 是字典時，可讀性更強的寫法：\n",
    "#In [6]:\n",
    "#my_dict = {\"country\": \"Taiwan\", \"city\":\"Taipei\"}\n",
    "#print(my_dict.values())\n",
    "\n",
    "#for element in my_dict.values():\n",
    "#    print(element)\n",
    "#dict_values(['Taiwan', 'Taipei'])\n",
    "#Taiwan\n",
    "#Taipei\n",
    "\n",
    "print(\"\\n\")\n",
    "#for 迴圈（7）\n",
    "#sequence 是字典時，可讀性更強的寫法：\n",
    "#In [7]:\n",
    "#my_dict = {\"country\": \"Taiwan\", \"city\":\"Taipei\"}\n",
    "#print(my_dict.items())\n",
    "\n",
    "#for (key, value) in my_dict.items():\n",
    "#    print(\"%s：%s\" % (key, value))\n",
    "#dict_items([('country', 'Taiwan'), ('city', 'Taipei')])\n",
    "#country：Taiwan\n",
    "#city：Taipei"
   ]
  },
  {
   "cell_type": "code",
   "execution_count": 35,
   "metadata": {},
   "outputs": [
    {
     "name": "stdout",
     "output_type": "stream",
     "text": [
      "[0, 1, 1, 2, 3, 5, 8, 13, 21, 34, 55, 89, 144, 233, 377, 610, 987, 1597, 2584, 4181]\n"
     ]
    }
   ],
   "source": [
    "f1 = 0\n",
    "f2 = 1\n",
    "fib = [f1, f2]\n",
    "fib_len = 20\n",
    "for i in range(fib_len - 2):\n",
    "    fib.append(f1 + f2)\n",
    "    f1, f2 = f2, f1 + f2\n",
    "\n",
    "print(fib)"
   ]
  },
  {
   "cell_type": "code",
   "execution_count": 36,
   "metadata": {},
   "outputs": [
    {
     "name": "stdout",
     "output_type": "stream",
     "text": [
      "[(0, 'Monday'), (1, 'Tuesday'), (2, 'Wednesday'), (3, 'Thursday'), (4, 'Friday')]\n"
     ]
    }
   ],
   "source": [
    "weekdays = [\"Monday\", \"Tuesday\", \"Wednesday\", \"Thursday\", \"Friday\"]\n",
    "print(list(enumerate(weekdays)))"
   ]
  },
  {
   "cell_type": "code",
   "execution_count": 38,
   "metadata": {},
   "outputs": [
    {
     "data": {
      "image/png": "[encoded data removed]",
      "text/plain": [
       "<matplotlib.figure.Figure at 0x4bc8a58>"
      ]
     },
     "metadata": {},
     "output_type": "display_data"
    }
   ],
   "source": [
    "import matplotlib.pyplot as plt\n",
    "plt.subplot(2,2,1)\n",
    "plt.subplot(2,2,2)\n",
    "plt.subplot(2,2,3)\n",
    "plt.subplot(2,2,4)\n",
    "plt.show()"
   ]
  },
  {
   "cell_type": "code",
   "execution_count": 39,
   "metadata": {},
   "outputs": [
    {
     "name": "stdout",
     "output_type": "stream",
     "text": [
      "星期一 : Monday\n",
      "星期二 : Tuesday\n",
      "星期三 : Wednesday\n",
      "星期四 : Thursday\n",
      "星期五 : Friday\n"
     ]
    }
   ],
   "source": [
    "weekdays_ch = [\"星期一\", \"星期二\", \"星期三\", \"星期四\", \"星期五\"]\n",
    "weekdays = [\"Monday\", \"Tuesday\", \"Wednesday\", \"Thursday\", \"Friday\"]\n",
    "\n",
    "for weekday_ch, weekday in zip(weekdays_ch, weekdays):\n",
    "    print(weekday_ch, \":\", weekday)"
   ]
  },
  {
   "cell_type": "code",
   "execution_count": 90,
   "metadata": {},
   "outputs": [
    {
     "name": "stdout",
     "output_type": "stream",
     "text": [
      "去戶外跑步\n",
      "去健身房\n",
      "去健身房\n"
     ]
    }
   ],
   "source": [
    "from random import choice\n",
    "\n",
    "weather = [\"晴天\", \"陰天\", \"雨天\"]\n",
    "\n",
    "\n",
    "for a in weather :\n",
    "    if a == weather[0] :\n",
    "        print(\"去戶外跑步\")\n",
    "    else :\n",
    "        print(\"去健身房\")"
   ]
  },
  {
   "cell_type": "code",
   "execution_count": 105,
   "metadata": {},
   "outputs": [
    {
     "name": "stdout",
     "output_type": "stream",
     "text": [
      "去健身房\n"
     ]
    }
   ],
   "source": [
    "from random import choice\n",
    "\n",
    "weather = [\"晴天\", \"陰天\", \"雨天\"]\n",
    "today = choice(weather)\n",
    "\n",
    "if today == \"晴天\":\n",
    "    print(\"去戶外跑步\")\n",
    "else :\n",
    "    print(\"去健身房\")"
   ]
  },
  {
   "cell_type": "code",
   "execution_count": 146,
   "metadata": {},
   "outputs": [
    {
     "name": "stdout",
     "output_type": "stream",
     "text": [
      "去戶外跑步\n"
     ]
    }
   ],
   "source": [
    "weather = [\"晴天\", \"多雲\", \"毛毛雨\", \"狂風\", \"暴雨\", \"下雪\", \"打雷閃電\"]\n",
    "#練習：晴天或多雲印\"去戶外跑步\"，毛毛雨印\"去健身房\"，否則印\"當沙發馬鈴薯\"\n",
    "today = choice(weather)\n",
    "\n",
    "if today in [\"晴天\",\"多雲\"]:\n",
    "    print(\"去戶外跑步\")\n",
    "elif today == \"毛毛雨\":\n",
    "    print(\"去健身房\")\n",
    "else:\n",
    "    print(\"當沙發馬鈴薯\")\n"
   ]
  },
  {
   "cell_type": "code",
   "execution_count": 143,
   "metadata": {},
   "outputs": [
    {
     "name": "stdout",
     "output_type": "stream",
     "text": [
      "0\n",
      "1\n",
      "5050\n",
      "100\n",
      "50.5\n"
     ]
    }
   ],
   "source": [
    "a = 0\n",
    "print(list(range(101))[0])\n",
    "print(list(range(1,101))[0])\n",
    "\n",
    "counts = 0\n",
    "\n",
    "for i in range(1,101):\n",
    "    a = a + i\n",
    "    counts += 1\n",
    "print(a)\n",
    "print(counts)\n",
    "print(a/counts)"
   ]
  },
  {
   "cell_type": "code",
   "execution_count": 1,
   "metadata": {},
   "outputs": [
    {
     "name": "stdout",
     "output_type": "stream",
     "text": [
      "今天天氣是下雪，當沙發馬鈴薯\n"
     ]
    }
   ],
   "source": [
    "from random import choice\n",
    "\n",
    "weather = [\"晴天\", \"多雲\", \"毛毛雨\", \"狂風\", \"暴雨\", \"下雪\", \"打雷閃電\"]\n",
    "today = choice(weather)\n",
    "if today in [\"晴天\", \"多雲\"]:\n",
    "    print(\"今天天氣是%s，去戶外跑步\" % today)\n",
    "elif today == \"毛毛雨\":\n",
    "    print(\"今天天氣是%s，去健身房\" % today)\n",
    "else:\n",
    "    print(\"今天天氣是%s，當沙發馬鈴薯\" % today)"
   ]
  },
  {
   "cell_type": "code",
   "execution_count": 25,
   "metadata": {
    "scrolled": true
   },
   "outputs": [
    {
     "name": "stdout",
     "output_type": "stream",
     "text": [
      "5050\n",
      "100\n",
      "50.5\n",
      "83325.0\n",
      "range(1, 101) 的標準差 :  29.011491975882016\n"
     ]
    }
   ],
   "source": [
    "#期中作業（2）\n",
    "#實作標準差的計算\n",
    "#計算 range(1, 101) 的標準差\n",
    "\n",
    "a = 0\n",
    "counts = 0\n",
    "\n",
    "for i in range(1,101):\n",
    "    a = a + i\n",
    "    counts += 1\n",
    "print(a)\n",
    "print(counts)\n",
    "print(a/counts)\n",
    "\n",
    "\n",
    "\n",
    "c = 0\n",
    "for d in range(1,101):\n",
    "    c = c + (d - (a/counts))**2\n",
    "print(c)\n",
    "\n",
    "SD_數列1到100 = (c/(counts - 1))**0.5\n",
    "print(\"range(1, 101) 的標準差 : \" , SD_數列1到100)\n",
    "\n",
    "\n",
    "#83325/99 開根號後 = 29.01149"
   ]
  },
  {
   "cell_type": "code",
   "execution_count": 29,
   "metadata": {},
   "outputs": [
    {
     "name": "stdout",
     "output_type": "stream",
     "text": [
      "55\n",
      "10\n",
      "5.5\n",
      "82.5\n",
      "range(1, 11) 的標準差 :  3.0276503540974917\n"
     ]
    }
   ],
   "source": [
    "#期中作業小變化一下\n",
    "#實作標準差的計算\n",
    "#計算 range(1, 11) 的標準差\n",
    "\n",
    "a = 0\n",
    "counts = 0\n",
    "\n",
    "for i in range(1,11):\n",
    "    a = a + i\n",
    "    counts += 1\n",
    "print(a)\n",
    "print(counts)\n",
    "print(a/counts)\n",
    "\n",
    "\n",
    "\n",
    "c = 0\n",
    "for d in range(1,11):\n",
    "    c = c + (d - (a/counts))**2\n",
    "print(c)\n",
    "\n",
    "SD_數列1到10 = (c/(counts - 1))**0.5\n",
    "print(\"range(1, 11) 的標準差 : \" , SD_數列1到10)\n",
    "\n",
    "\n",
    "#82.5/9 開根號後 = 3.02765"
   ]
  },
  {
   "cell_type": "code",
   "execution_count": 31,
   "metadata": {},
   "outputs": [
    {
     "name": "stdout",
     "output_type": "stream",
     "text": [
      "[1, 2, 3, 4, 5, 6, 7, 8, 9, 10]\n"
     ]
    }
   ],
   "source": [
    "print(list(range(1, 11)))"
   ]
  },
  {
   "cell_type": "code",
   "execution_count": 151,
   "metadata": {},
   "outputs": [
    {
     "name": "stdout",
     "output_type": "stream",
     "text": [
      "[1, 2, 3, 4, 5, 6, 7, 8, 9, 10]\n",
      "\n",
      "\n",
      "(1, 2, 3, 4, 5, 6, 7, 8, 9, 10)\n",
      "\n",
      "\n",
      "list 可以選取元素值，位移值 0 的元素為 : 1 \n",
      "tuple可以選取元素值，位移值 0 的元素為 : 1 \n",
      "['a', 'b', 'c', 'd', 'e', 'f', 'g', 'h', 'i', 'j']\n",
      "\n",
      "\n",
      "{'j': 10}\n",
      "{'j': 10}\n",
      "{'j': 10}\n",
      "{'j': 10}\n",
      "{'j': 10}\n",
      "{'j': 10}\n",
      "{'j': 10}\n",
      "{'j': 10}\n",
      "{'j': 10}\n",
      "{'j': 10}\n",
      "\n",
      "\n",
      "[(0, 'a'), (1, 'b'), (2, 'c'), (3, 'd'), (4, 'e'), (5, 'f'), (6, 'g'), (7, 'h'), (8, 'i'), (9, 'j')]\n"
     ]
    }
   ],
   "source": [
    "list_1到10 = list(range(1, 11))\n",
    "print(list_1到10)\n",
    "print(\"\\n\")\n",
    "\n",
    "tuple_1到10 = tuple(range(1, 11))\n",
    "print(tuple_1到10)\n",
    "print(\"\\n\")\n",
    "\n",
    "print(\"list 可以選取元素值，位移值 %i 的元素為 : %i \" % (list_1到10[0]-1 , list_1到10[0]))\n",
    "print(\"tuple可以選取元素值，位移值 %i 的元素為 : %i \" % (tuple_1到10[0]-1 , tuple_1到10[0]))\n",
    "\n",
    "字母_list = [\"a\",\"b\",\"c\",\"d\",\"e\",\"f\",\"g\",\"h\",\"i\",\"j\"]\n",
    "print(字母_list)\n",
    "print(\"\\n\")\n",
    "\n",
    "\n",
    "for i in range(1,11) :\n",
    "    dict_a到j配上1到10 = {\"%s\" % 字母_list[i-1] : list_1到10[i-1]} \n",
    "    print(dict_a到k配上1到10)\n",
    "print(\"\\n\")    \n",
    "\n",
    "\n",
    "字母_list = [\"a\",\"b\",\"c\",\"d\",\"e\",\"f\",\"g\",\"h\",\"i\",\"j\"]\n",
    "print(list(enumerate(字母_list)))"
   ]
  },
  {
   "cell_type": "code",
   "execution_count": 109,
   "metadata": {},
   "outputs": [
    {
     "name": "stdout",
     "output_type": "stream",
     "text": [
      "星期一 : Monday\n",
      "星期二 : Tuesday\n",
      "星期三 : Wednesday\n",
      "星期四 : Thursday\n",
      "星期五 : Friday\n"
     ]
    }
   ],
   "source": [
    "weekdays_ch = [\"星期一\", \"星期二\", \"星期三\", \"星期四\", \"星期五\"]\n",
    "weekdays = [\"Monday\", \"Tuesday\", \"Wednesday\", \"Thursday\", \"Friday\"]\n",
    "\n",
    "for weekday_ch, weekday in zip(weekdays_ch, weekdays):\n",
    "    print(weekday_ch, \":\", weekday)"
   ]
  },
  {
   "cell_type": "code",
   "execution_count": 122,
   "metadata": {},
   "outputs": [
    {
     "name": "stdout",
     "output_type": "stream",
     "text": [
      "['a', 'b', 'c', 'd', 'e', 'f', 'g', 'h', 'i', 'j']\n",
      "['1', '2', '3', '4', '5', '6', '7', '8', '9', '10']\n",
      "a : 1\n",
      "b : 2\n",
      "c : 3\n",
      "d : 4\n",
      "e : 5\n",
      "f : 6\n",
      "g : 7\n",
      "h : 8\n",
      "i : 9\n",
      "j : 10\n"
     ]
    }
   ],
   "source": [
    "letters_list = [\"a\",\"b\",\"c\",\"d\",\"e\",\"f\",\"g\",\"h\",\"i\",\"j\"]\n",
    "numbers_list = [\"1\",\"2\",\"3\",\"4\",\"5\",\"6\",\"7\",\"8\",\"9\",\"10\"]\n",
    "print(letters_list)\n",
    "print(numbers_list)\n",
    "\n",
    "#for 迭代子iterator(通常取list的單數形態當作迭代子的名稱) in 迭代要跑的空間/範圍 : (記得冒號!!!!!!!!)\n",
    "for A , B in zip(letters_list , numbers_list):\n",
    "    print(A , \":\" , B)"
   ]
  }
 ],
 "metadata": {
  "kernelspec": {
   "display_name": "Python 3",
   "language": "python",
   "name": "python3"
  },
  "language_info": {
   "codemirror_mode": {
    "name": "ipython",
    "version": 3
   },
   "file_extension": ".py",
   "mimetype": "text/x-python",
   "name": "python",
   "nbconvert_exporter": "python",
   "pygments_lexer": "ipython3",
   "version": "3.6.1"
  }
 },
 "nbformat": 4,
 "nbformat_minor": 2
}
