{
 "cells": [
  {
   "cell_type": "code",
   "execution_count": 1,
   "metadata": {
    "collapsed": true
   },
   "outputs": [],
   "source": [
    "#CH9 隨堂練習（2）\n",
    "#定義一個類別 DBFighter\n",
    "#一個屬性：姓名\n",
    "#三個方法：拳、踢、氣功波\n",
    "\n",
    "class DB_Fighter():\n",
    "    '''\n",
    "    七龍珠格鬥遊戲\n",
    "    '''\n",
    "    def __init__(self, name):\n",
    "        self.name = name\n",
    "    \n",
    "    def punch(self):\n",
    "        return \"%s使用拳擊！\" % self.name\n",
    "    \n",
    "    def kick(self):\n",
    "        return \"%s使用踢擊！\" % self.name\n",
    "    \n",
    "    def shock_wave(self):\n",
    "        return \"%s使用氣功波！\" % self.name"
   ]
  },
  {
   "cell_type": "code",
   "execution_count": 20,
   "metadata": {},
   "outputs": [
    {
     "name": "stdout",
     "output_type": "stream",
     "text": [
      "'卡洛特(Kakarot)'是孫悟空的原名\n",
      "\n",
      "\n",
      "卡洛特(Kakarot) 使用 龜 派 氣 功 ! ! ! \n"
     ]
    }
   ],
   "source": [
    "#隨堂練習（3）\n",
    "#定義一個類別 Goku 繼承 DBFighter，增加原名（Kakarot）、新增龜派氣功方法（Kamehameha），\n",
    "#利用 Goku 建立 goku 物件，印出原名與使用龜派氣功方法\n",
    "\n",
    "class Goku(DB_Fighter) :\n",
    "    def __init__(self, name, original_name):\n",
    "        super().__init__(name)                      #super().__init__(母類別裡面，除了self以外的所有屬性)\n",
    "        self.original_name = original_name          #搭配self.屬性 = 屬性   來新增屬性\n",
    "    \n",
    "    def Kamehameha(self) :   #def 方法(self) :             *定義函數的時候()內要加self；print(函數/方法())的時後()內不要加self!!!!\n",
    "        return \"%s 使用 龜 派 氣 功 ! ! ! \" %  self.original_name\n",
    "    \n",
    "goku = Goku(\"孫悟空\", \"卡洛特(Kakarot)\")\n",
    "\n",
    "#印出原名\n",
    "print(\"'%s'是孫悟空的原名\" % goku.original_name)         #print(物件.屬性)!!!!!物件，是物件，不是類別.屬性!!!!!  不能print類別.屬性啦\n",
    "print(\"\\n\")\n",
    "#印出方法 (使用龜派氣功方法)\n",
    "print(goku.Kamehameha())    #print(函數/方法())            *定義函數的時候()內要加self；print(函數/方法())的時後()內不要加self!!!!\n",
    "\n",
    "\n",
    "    "
   ]
  },
  {
   "cell_type": "code",
   "execution_count": 21,
   "metadata": {},
   "outputs": [
    {
     "name": "stdout",
     "output_type": "stream",
     "text": [
      "貝基塔, 使用終極閃光!!!\n"
     ]
    }
   ],
   "source": [
    "#隨堂練習（4）\n",
    "#定義一個類別 Vegeta 繼承 DBFighter，新增終極閃光方法（final_flash），利用 Vegeta 建立 vegeta 物件，印出姓名與使用終極閃光方法\n",
    "\n",
    "class Vegeta(DB_Fighter) :\n",
    "    def final_flash(self) :\n",
    "        return \"%s, 使用終極閃光!!!\" % self.name\n",
    "vegeta = Vegeta(\"貝基塔\")\n",
    "\n",
    "print(vegeta.final_flash())"
   ]
  }
 ],
 "metadata": {
  "kernelspec": {
   "display_name": "Python 3",
   "language": "python",
   "name": "python3"
  },
  "language_info": {
   "codemirror_mode": {
    "name": "ipython",
    "version": 3
   },
   "file_extension": ".py",
   "mimetype": "text/x-python",
   "name": "python",
   "nbconvert_exporter": "python",
   "pygments_lexer": "ipython3",
   "version": "3.6.1"
  }
 },
 "nbformat": 4,
 "nbformat_minor": 2
}
