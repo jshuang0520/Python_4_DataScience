{
 "cells": [
  {
   "cell_type": "code",
   "execution_count": null,
   "metadata": {
    "collapsed": true
   },
   "outputs": [],
   "source": [
    "# -----------------------------------------  N u m p y  前  言  。  -----------------------------------------\n",
    "\n",
    "#套件Numpy                 \n",
    "\n",
    "#Numpy 有ndarray!!!!!!!!!!!\n",
    "#介紹一個新的資料結構ndarray，多維度陣列，可以做元素級別的運算      N, D=dimension , ND代表N個維度--------->想像成N個column\n",
    "\n",
    "\n",
    "\n",
    "#回憶 : python的資料結構\n",
    "\n",
    "\n",
    "\n",
    "#資料結構 : 是不同的變數存放方法           http://yaojenkuo.io/python_4_ds/ch3.slides.html#/1\n",
    "#我們要講哪些資料結構\n",
    "\n",
    "#Python 原生資料結構\n",
    "#list              建立時使用 [] 中括號；可以容納不同的變數類型（str, int, float, bool, complex）；Python 的索引值從 0 開始算\n",
    "#tuple             建立時使用 () 小括號或者使用 tuple() 函數轉換既有的 list；跟 list 很像，但是我們不能新增，刪除或者更新 tuple 的元素\n",
    "#dict      {}表空字典        建立時使用大括號 {}；帶有鍵值（key）的 list\n",
    "#set    set()表空集合        建立時使用大括號 {}；存放唯一值（unique values）的結構\n",
    "\n",
    "#套件資料結構\n",
    "#ndarray                         引入 numpy 套件，因為他有資料結構ndarray(多維度陣列)，可以做元素級別的運算!!!!!!!!!!\n",
    "#data frame\n",
    "\n",
    "# -----------------------------------------  N u m p y  前  言  。  -----------------------------------------\n"
   ]
  },
  {
   "cell_type": "code",
   "execution_count": null,
   "metadata": {
    "collapsed": true
   },
   "outputs": [],
   "source": [
    "# -----------------------------------------  N u m p y  重  點  1  -----------------------------------------\n",
    "\n",
    "#建立 資料結構 ndarray 的方法 : \n",
    "\n",
    "#import numpy as np\n",
    "\n",
    "#numpy.array()                         上課一直在用的 np.array()\n",
    "#numpy.arange()\n",
    "#numpy.linspace()\n",
    "#numpy.ones()\n",
    "#numpy.zeros()\n",
    "#numpy.eye()\n",
    "#numpy.diag(list)\n",
    "#numpy.random.rand()\n",
    "#numpy.random.randn()\n",
    "#numpy.random.randint()\n",
    "\n",
    "# -----------------------------------------  N u m p y  重  點  1  -----------------------------------------\n",
    "\n",
    "#方法\t描述\n",
    "\n",
    "\n",
    "\n",
    "#numpy.array()\t基本的建立\n",
    "\n",
    "\n",
    "#numpy.arange(start, end ,step)\t似 range()，只取到(end-1)!!!!!!!!!!，但可以跳著選!!!!!!!  \n",
    "                                                           \n",
    "                                              #print(np.arange(start, end ,step))，和range一樣取到(end-1)!!!!!!!!!!\n",
    "                                              #print(np.arange(2, 10 ,2)) ---->[2 4 6 8]沒有10喔因為是數列2~9 \n",
    "\n",
    "\n",
    "#numpy.linspace(start, end, 個數)\t建立等距切分的陣列           \n",
    "                                              #print(np.linspace(start, end, 個數))\n",
    "                                              #print(np.linspace(2, 10, 3))---->[  2.   6.  10.]\n",
    "\n",
    "\n",
    "#numpy.ones(tuple)\t建立都是 1 的陣列              每一個圖片是__像素*__像素，所以是2維\n",
    "    \n",
    "                      #錯誤版本 錯誤版本 : print(np.ones(2, 5)) : 錯誤版本 錯誤版本 ---->因為ones裡面只放數字，而不是帶有小括號的tuple\n",
    "    \n",
    "                                               #print(np.ones((2, 5)))才對，因為np.ones(裡面放一個tuple)\n",
    "                                               #維度 :          2 row *5 column\n",
    "                                               #[[ 1.  1.  1.  1.  1.]\n",
    "                                               # [ 1.  1.  1.  1.  1.]]\n",
    "    \n",
    "                                               #print(np.ones((2, 3, 5)))\n",
    "                                                           #  2個  3(列)*5(行) 的陣列\n",
    "                         #                     [[[ 1.  1.  1.  1.  1.]\n",
    "                         #                       [ 1.  1.  1.  1.  1.]\n",
    "                         #                       [ 1.  1.  1.  1.  1.]]\n",
    "\n",
    "                         #                      [[ 1.  1.  1.  1.  1.]\n",
    "                         #                       [ 1.  1.  1.  1.  1.]\n",
    "                         #                       [ 1.  1.  1.  1.  1.]]]\n",
    "                            \n",
    "                                         #print(np.ones((4, 2, 3, 5))) \n",
    "                                         #維度 : 4個大array(大區塊)，裡面各有兩個小單位(2個3row*5column矩陣)\n",
    "\n",
    "\n",
    "            \n",
    "#numpy.zeros(tuple)\t建立都是 0 的陣列          \n",
    "                                              #print(np.zeros((2, 5)))\n",
    "\n",
    "\n",
    "\n",
    "#numpy.eye(n)\t建立n x n單位矩陣               \n",
    "                                              #print(np.eye(2))\n",
    "                                                 # [[ 1.  0.]\n",
    "                                                 #  [ 0.  1.]]\n",
    "\n",
    "\n",
    "\n",
    "#numpy.diag(list)\t建立len(lsit) x len(list)對角矩陣                        \n",
    "                                              #print(np.diag([1, 2, 3]))\n",
    "                                                 #[[1 0 0]\n",
    "                                                 # [0 2 0]\n",
    "                                                 # [0 0 3]]\n",
    "\n",
    "\n",
    "\n",
    "                \n",
    "                \n",
    "                \n",
    "                \n",
    "                \n",
    "                \n",
    "#以下為隨機建立符合某一分配的方法    np.random._________            \n",
    "                                # np.random.rand(n)\n",
    "                                # np.random.randn(n)\n",
    "                                # np.random.randint(low, high, size(tuple))    \n",
    "    \n",
    "    \n",
    "#numpy.random.rand(n)\t隨機建立n筆符合 0~1 均勻分布的數據      \n",
    "                                              #print(np.random.rand(30))                                              \n",
    "                                              #print(\"隨機建立30筆 符合 0~1 均勻分布的數據\")\n",
    "                                              #arr = np.random.rand(30)\n",
    "                                              #plt.hist(arr)\n",
    "                                              #plt.show()\n",
    "\n",
    "\n",
    "#numpy.random.randn(n)\t隨機建立n筆符合常態分布的陣列\n",
    "                                              #print(\"隨機建立30筆 符合標準常態分布的數據\")\n",
    "                                              #arr = np.random.randn(30)\n",
    "                                              #plt.hist(arr)\n",
    "                                              #plt.show()\n",
    "\n",
    "\n",
    "#numpy.random.randint(low, high, size(tuple))\t隨機建立介於 low，high 之間，且維度為size(tuple)的整數陣列\n",
    "\n",
    "                                              #print(\"隨機建立介於 low，high 之間，且維度為size(tuple)的整數陣列\")\n",
    "                                              #arr = np.random.randint(0, 100, size = 10)\n",
    "                                              #print(arr)\n",
    "            \n",
    "                                              #arr = np.random.randint(0, 100, size = (2, 5))\n",
    "                                              #print(arr)\n"
   ]
  },
  {
   "cell_type": "code",
   "execution_count": 61,
   "metadata": {},
   "outputs": [
    {
     "name": "stdout",
     "output_type": "stream",
     "text": [
      "[ 0.58265974  0.48423635  0.80987723  0.2836797   0.38634739  0.24149298\n",
      "  0.70368885  0.94610574  0.51379295  0.75342266  0.52875752  0.99299926\n",
      "  0.80129281  0.35227126  0.07513076  0.94118951  0.59242608  0.73024976\n",
      "  0.29506086  0.69267696  0.27228998  0.19794569  0.22465283  0.72455904\n",
      "  0.3100407   0.47932807  0.371698    0.76200583  0.94617004  0.76511501]\n",
      "隨機建立30筆 符合 0~1 均勻分布的數據\n"
     ]
    },
    {
     "data": {
      "image/png": "[encoded data removed]",
      "text/plain": [
       "<matplotlib.figure.Figure at 0x6c8ba30>"
      ]
     },
     "metadata": {},
     "output_type": "display_data"
    },
    {
     "name": "stdout",
     "output_type": "stream",
     "text": [
      "\n",
      "\n",
      "隨機建立10000筆 符合 0~1 均勻分布的數據\n"
     ]
    },
    {
     "data": {
      "image/png": "[encoded data removed]",
      "text/plain": [
       "<matplotlib.figure.Figure at 0x6d8eef0>"
      ]
     },
     "metadata": {},
     "output_type": "display_data"
    }
   ],
   "source": [
    "#numpy.random.rand(n)\t隨機建立n筆符合 0~1 均勻分布的數劇 \n",
    "\n",
    "import numpy as np\n",
    "import matplotlib.pyplot as plt \n",
    "\n",
    "print(np.random.rand(30))\n",
    "\n",
    "print(\"隨機建立30筆 符合 0~1 均勻分布的數據\")\n",
    "arr = np.random.rand(30)\n",
    "plt.hist(arr)\n",
    "plt.show()\n",
    "\n",
    "print(\"\\n\")\n",
    "\n",
    "print(\"隨機建立10000筆 符合 0~1 均勻分布的數據\")\n",
    "arr = np.random.rand(10000)\n",
    "plt.hist(arr)\n",
    "plt.show()\n"
   ]
  },
  {
   "cell_type": "code",
   "execution_count": 64,
   "metadata": {},
   "outputs": [
    {
     "name": "stdout",
     "output_type": "stream",
     "text": [
      "[ 0.35013878  0.28770804  0.51041171  0.95438349  0.01928251  1.00710762]\n"
     ]
    },
    {
     "data": {
      "image/png": "[encoded data removed]",
      "text/plain": [
       "<matplotlib.figure.Figure at 0x6cf92d0>"
      ]
     },
     "metadata": {},
     "output_type": "display_data"
    },
    {
     "name": "stdout",
     "output_type": "stream",
     "text": [
      "隨機建立30筆 符合標準常態分布的數據\n"
     ]
    },
    {
     "data": {
      "image/png": "[encoded data removed]",
      "text/plain": [
       "<matplotlib.figure.Figure at 0x5b72450>"
      ]
     },
     "metadata": {},
     "output_type": "display_data"
    },
    {
     "name": "stdout",
     "output_type": "stream",
     "text": [
      "\n",
      "\n",
      "隨機建立10000筆 符合標準常態分布的數據\n"
     ]
    },
    {
     "data": {
      "image/png": "[encoded data removed]",
      "text/plain": [
       "<matplotlib.figure.Figure at 0x6d64cb0>"
      ]
     },
     "metadata": {},
     "output_type": "display_data"
    }
   ],
   "source": [
    "#numpy.random.randn(n)\t隨機建立n筆 符合標準常態分布的數據\n",
    "\n",
    "import numpy as np\n",
    "import matplotlib.pyplot as plt\n",
    "\n",
    "arr = np.random.randn(100)\n",
    "print(arr[:6])\n",
    "plt.hist(arr)\n",
    "plt.show()\n",
    "\n",
    "\n",
    "\n",
    "\n",
    "print(\"隨機建立30筆 符合標準常態分布的數據\")\n",
    "arr = np.random.randn(30)\n",
    "plt.hist(arr)\n",
    "plt.show()\n",
    "\n",
    "print(\"\\n\")\n",
    "\n",
    "print(\"隨機建立10000筆 符合標準常態分布的數據\")\n",
    "arr = np.random.randn(1000)\n",
    "plt.hist(arr)\n",
    "plt.show()"
   ]
  },
  {
   "cell_type": "code",
   "execution_count": 65,
   "metadata": {},
   "outputs": [
    {
     "name": "stdout",
     "output_type": "stream",
     "text": [
      "[84 23 25 24 70 32 39  1 75 94]\n",
      "[[58 27 72 96 78]\n",
      " [18  2 55 47 26]]\n"
     ]
    }
   ],
   "source": [
    "#numpy.random.randint(low, high, size(tuple))\t隨機建立介於 low，high 之間，且維度為size(tuple)的整數陣列\n",
    "\n",
    "import numpy as np\n",
    "\n",
    "arr = np.random.randint(0, 100, size = 10)\n",
    "print(arr)\n",
    "\n",
    "print(\"隨機建立介於 low，high 之間，且維度為size(tuple)的整數陣列\")\n",
    "arr = np.random.randint(0, 100, size = (2, 5))\n",
    "print(arr)"
   ]
  },
  {
   "cell_type": "code",
   "execution_count": 22,
   "metadata": {},
   "outputs": [
    {
     "name": "stdout",
     "output_type": "stream",
     "text": [
      "<class 'numpy.ndarray'>\n",
      "[ 21.85171573  20.97505669  21.75028214  24.7473475   21.44127836]\n"
     ]
    }
   ],
   "source": [
    "#練習計算 BMI\n",
    "\n",
    "import numpy as np\n",
    "\n",
    "heights = [173, 168, 171, 189, 179]\n",
    "weights = [65.4, 59.2, 63.6, 88.4, 68.7]\n",
    "\n",
    "arr_heights = np.array(heights)\n",
    "arr_weights = np.array(weights)\n",
    "\n",
    "BMI = ( arr_weights / (arr_heights / 100)**2 )\n",
    "\n",
    "print(type(BMI))\n",
    "print(BMI)"
   ]
  },
  {
   "cell_type": "code",
   "execution_count": null,
   "metadata": {
    "collapsed": true
   },
   "outputs": [],
   "source": [
    "# -----------------------------------------  N u m p y  重  點  2  -----------------------------------------\n",
    "\n",
    "#資料類型\n",
    "\n",
    "# 使用 numpy 的 屬性 dtype 來指定或檢視                  data_type\n",
    "# 使用 numpy 的 方法 astype() 轉換資料類型               assign_type\n",
    "\n",
    "# -----------------------------------------  N u m p y  重  點  2  -----------------------------------------\n",
    "\n",
    "#使用 dtype 屬性來指定或檢視\n",
    "#整數 int :\n",
    "#          int8\n",
    "#          int16\n",
    "#          int32\n",
    "#          int64（預設）\n",
    "\n",
    "\n",
    "#使用 dtype 屬性來指定或檢視\n",
    "#浮點數 float :\n",
    "#          float16\n",
    "#          float32\n",
    "#          float64（預設）\n",
    "#          float128\n",
    "\n",
    "\n",
    "#使用 dtype 屬性來指定或檢視\n",
    "#複數 complex :\n",
    "#          complex64\n",
    "#          complex128（預設）\n",
    "#          complex256\n",
    "\n",
    "\n",
    "#使用 dtype 屬性來指定或檢視\n",
    "#布林\n",
    "#          bool\n",
    "\n",
    "\n",
    "#使用 dtype 屬性來指定或檢視\n",
    "#文字\n",
    "#          string_（一個字元以一個 byte 儲存） : 中文一個字元要以兩個 byte 儲存，所以不能儲存為 string_\n",
    "#          unicode_（預設）                  :  就可以存中文字了\n",
    "\n"
   ]
  },
  {
   "cell_type": "code",
   "execution_count": null,
   "metadata": {
    "collapsed": true
   },
   "outputs": [],
   "source": [
    "import numpy as np\n",
    "\n",
    "arr = np.array()"
   ]
  },
  {
   "cell_type": "code",
   "execution_count": null,
   "metadata": {
    "collapsed": true
   },
   "outputs": [],
   "source": [
    "# -----------------------------------------  N u m p y  重  點  3  -----------------------------------------\n",
    "\n",
    "# ndarray特性 : \n",
    "\n",
    "#1. ndarray，可以做元素級別的運算 :       \n",
    "#                                多維度陣列    N, D=dimension , ND代表N個維度--------->想像成N個column\n",
    "\n",
    "#2. ndarray 只能容許一個變數類型 : \n",
    "\n",
    "#   資料類型有 : 布林值 [ bool ], 數值 [ int, float, complex ] , 文字 [string_ / unicode_ ]\n",
    "\n",
    "#   ndarray 的 uni variable type優先順序 : 文字 [ string_ / unicode_(預設) ] \n",
    "#                                           v\n",
    "#                                         數值 [ complex(預設128) > float(預設64) > int(預設64) ] \n",
    "#                                           v\n",
    "#                                         布林值 [ bool ]\n",
    "                                  \n",
    "\n",
    "#                                同時儲存有數值，布林值，會被自動轉換為數值\n",
    "#                                同時儲存有數值，布林值與文字，會被自動轉換為文字\n",
    "#    uni variable type--------->有文字的話--優先全部轉成文字\n",
    "#                      -------->只有數值的話--優先順序:Complex -> Float -> Iinteger\n",
    "\n",
    "#  ndarray 只能容許一個變數類型\n",
    "#  舉例 : \n",
    "#       list[]本來可以儲存多種變數類型嘛，但進入ndarray之後全轉成浮點數，才能做元素級別的運算!!!!!!!!!!!!!!!!!!!!!!!!!!\n",
    "\n",
    "\n",
    "# -----------------------------------------  N u m p y  重  點  3  -----------------------------------------"
   ]
  },
  {
   "cell_type": "code",
   "execution_count": 23,
   "metadata": {},
   "outputs": [
    {
     "name": "stdout",
     "output_type": "stream",
     "text": [
      "展示用索引值來 任 意 跳 著 選 元素\n",
      "[0, 1, 2, 3, 4]\n",
      "[0 2 4]\n",
      "\n",
      "\n",
      "展示slicing arr選元素\n",
      "[0, 1, 2, 3, 4, 5, 6, 7, 8, 9, 10, 11, 12, 13, 14, 15, 16, 17, 18, 19, 20, 21]\n",
      "[ 0  3  6  9 12 15 18]\n",
      "[ 0  3  6  9 12 15 18 21]\n",
      "\n",
      "\n",
      "展示如何選矩陣內的元素，用 tuple( 但其實是用中括號+索引值[index] ) 方式選擇\n",
      "[[ 0  1  2  3  4]\n",
      " [ 5  6  7  8  9]\n",
      " [10 11 12 13 14]\n",
      " [15 16 17 18 19]]\n",
      "3\n",
      "19\n",
      "\n",
      "\n",
      "展示如何判斷矩陣內含的元素 是否符合所開的條件，用布林選擇\n",
      "[[ 0  1  2  3  4]\n",
      " [ 5  6  7  8  9]\n",
      " [10 11 12 13 14]\n",
      " [15 16 17 18 19]]\n",
      "[[ True  True  True  True  True]\n",
      " [False False False False False]\n",
      " [False False False False False]\n",
      " [False False False False False]]\n",
      "[[ True  True  True  True  True]\n",
      " [False False False False False]\n",
      " [False False False False False]\n",
      " [False  True  True  True  True]]\n",
      "\n",
      "\n",
      "把矩陣中符合條件的元素全部列出來\n",
      "[ 0  1  2  3  4 16 17 18 19]\n",
      "[ 5  6  7  8  9 10 11 12 13 14]\n"
     ]
    }
   ],
   "source": [
    "# -----------------------------------------  N u m p y  重  點  4  -----------------------------------------\n",
    "\n",
    "#選擇 ndarray 的元素 : \n",
    "\n",
    "# 1. 用索引值選擇 : 可以 任 意 跳 著 選\n",
    "\n",
    "print(\"展示用索引值來 任 意 跳 著 選 元素\")\n",
    "\n",
    "import numpy as np\n",
    "arr = np.arange(5)\n",
    "print(list(arr))\n",
    "print(arr[ [0, 2, 4] ]) # To the rescue!   可以用索引值來 任 意 跳 著 選 元素!!!!!!!!!!!!!!!!!!!!!!!!!!!!!!!!!!!!!!!!!!!!!!!!\n",
    "print(\"\\n\")\n",
    "\n",
    "# 2. slicing arr[startIndex: endIndex: stepValue]    ----->  跟前面slice[]一樣，不包含end index，即取到(end index - 1)!!!!!!!!\n",
    "\n",
    "print(\"展示slicing arr選元素\")\n",
    "\n",
    "import numpy as np\n",
    "arr = np.arange(22)\n",
    "print(list(arr))\n",
    "print(arr [ 0 : 21 : 3 ] )        #跟前面slice一樣，不包含end index\n",
    "print(arr [ 0 : 22 : 3 ] )\n",
    "print(\"\\n\")\n",
    "\n",
    "\n",
    "# 3. 多維度的 ndarray 可以用 tuple( 但其實是用中括號+索引值[index] ) 方式選擇\n",
    "\n",
    "print(\"展示如何選矩陣內的元素，用 tuple( 但其實是用中括號+索引值[index] ) 方式選擇\")\n",
    "\n",
    "import numpy as np\n",
    "arr = np.arange(20).reshape((4, 5))\n",
    "print(arr)\n",
    "print(arr [ 0, 3 ] )         #以索引值來看 : 第 0 row , 第 3 column 的元素是3\n",
    "print(arr [ 3, 4 ] )         #以索引值來看 : 第 3 row , 第 4 column 的元素是19\n",
    "print(\"\\n\")\n",
    "\n",
    "# 4. 用布林選擇\n",
    "\n",
    "print(\"展示如何判斷矩陣內含的元素 是否符合所開的條件，用布林選擇\")   #print( (arr條件1) | (arr條件2) ) ，注意小括號在開出的條件那邊也有\n",
    "import numpy as np\n",
    "arr = np.arange(20).reshape((4, 5))\n",
    "print(arr)\n",
    "print(arr < 5 )\n",
    "print( (arr < 5) | (arr > 15) )\n",
    "print(\"\\n\")\n",
    "\n",
    "print(\"把矩陣中符合條件的元素全部列出來\")   #!!!!!!!!!!!在numpy想要list出來，是使用arr[]而不是list()!!!!!!!!!!!\n",
    "#其實倒也不是全用arr，而是看你取的名字叫什麼，\n",
    "#arr_heights = np.array(heights)\n",
    "#arr_weights = np.array(weights)\n",
    "#BMI = arr_weights / (arr_heights/100)**2\n",
    "#像這裡就是是是是是是是是是是是是是是是是是是是是是是是是是print(BMI[ BMI > 21] ) ，\n",
    "#而不是不是不是不是不是不是print(arr[ BMI > 21] ) 喔!!!!!!!!!!!!!!!!!!!!!!!!\n",
    "\n",
    "print( arr[(arr < 5) | (arr > 15)] )                 #print( arr[ (arr條件1) | (arr條件2) ] )         \"或\"\n",
    "print( arr[(4 < arr) & (arr < 15)] )                 #print( arr[ (arr條件1) & (arr條件2) ] )         \"且\"\n",
    "\n",
    "# -----------------------------------------  N u m p y  重  點  4  -----------------------------------------"
   ]
  },
  {
   "cell_type": "code",
   "execution_count": 31,
   "metadata": {},
   "outputs": [
    {
     "name": "stdout",
     "output_type": "stream",
     "text": [
      "[0 1 2 3 4 5 6 7 8]\n",
      "[0 1 2 8]\n"
     ]
    }
   ],
   "source": [
    "#選擇 ndarray 的元素（4）\n",
    "#從上述例子，練習選出未滿 3 與超過 7 的元素\n",
    "\n",
    "import numpy as np\n",
    "arr = np.arange(9)\n",
    "\n",
    "print(arr)\n",
    "print( arr[ (arr < 3) | (arr > 7) ] )           #在numpy想要list出來，是使用arr[]而不是list()!!!!!!!!!!!"
   ]
  },
  {
   "cell_type": "code",
   "execution_count": 33,
   "metadata": {},
   "outputs": [
    {
     "name": "stdout",
     "output_type": "stream",
     "text": [
      "[ True False False  True False  True False  True  True]\n",
      "[19 19 17 36 90]\n"
     ]
    }
   ],
   "source": [
    "#選擇 ndarray 的元素（5）\n",
    "#練習選出未滿 20 與超過 30 的元素\n",
    "\n",
    "import numpy as np\n",
    "age = [19, 21, 20, 19, 21, 17, 30, 36, 90]\n",
    "\n",
    "arr = np.array(age)\n",
    "print( (arr < 20) | (arr > 30) )\n",
    "print( arr[ (arr < 20) | (arr > 30) ] )"
   ]
  },
  {
   "cell_type": "code",
   "execution_count": 42,
   "metadata": {},
   "outputs": [
    {
     "name": "stdout",
     "output_type": "stream",
     "text": [
      "[ 21.85171573  20.97505669  21.75028214  24.7473475   21.44127836]\n",
      "[ 21.85171573  21.75028214  24.7473475   21.44127836]\n"
     ]
    }
   ],
   "source": [
    "#選擇 ndarray 的元素（6）\n",
    "#練習從五人中選出 BMI > 21 的元素\n",
    "\n",
    "import numpy as np\n",
    "heights = [173, 168, 171, 189, 179]\n",
    "weights = [65.4, 59.2, 63.6, 88.4, 68.7]\n",
    "\n",
    "arr_heights = np.array(heights)\n",
    "arr_weights = np.array(weights)\n",
    "BMI = arr_weights / (arr_heights/100)**2\n",
    "print(BMI)\n",
    "\n",
    "print(BMI[ BMI > 21] ) #像這裡就是是是是是是是是是是是是是是是是是是是是是是是是是 print(BMI[ BMI > 21] ) ，\n",
    "#而不是不是不是不是不是不是不是不是不是不是不是不是print(arr[ BMI > 21] ) 喔!!!!!!!!!!!!!!!!!!!!!!!!"
   ]
  },
  {
   "cell_type": "code",
   "execution_count": 46,
   "metadata": {},
   "outputs": [
    {
     "name": "stdout",
     "output_type": "stream",
     "text": [
      "['Lisa Kudrow' 'Matt LeBlanc']\n",
      "[False False  True  True False False]\n"
     ]
    }
   ],
   "source": [
    "#選擇 ndarray 的元素（7）\n",
    "#練習使用布林選出 Matthew Perry 與 Lisa Kudrow                   布林就用 >, <, == 等等的條件/邏輯式判斷，搭配 | &\n",
    "\n",
    "import numpy as np\n",
    "\n",
    "friends_stars = [\"Jennifer Aniston\", \"Courteney Cox\", \"Lisa Kudrow\",\"Matt LeBlanc\", \"Matthew Perry\", \"David Schwimmer\"]\n",
    "\n",
    "arr = np.array(friends_stars)\n",
    "\n",
    "print( (arr == \"Matt LeBlanc\") | (arr == \"Lisa Kudrow\") )\n",
    "print( arr[ (arr == \"Matt LeBlanc\") | (arr == \"Lisa Kudrow\") ] )\n",
    "#自己練習犯的錯誤 : print(arr[\"Matt LeBlanc\", \"Lisa Kudrow\"])，少了\"==\"的判斷式(arr == \"Matt LeBlanc\") | (arr == \"Lisa Kudrow\")\n"
   ]
  },
  {
   "cell_type": "code",
   "execution_count": 47,
   "metadata": {},
   "outputs": [
    {
     "name": "stdout",
     "output_type": "stream",
     "text": [
      "False\n"
     ]
    }
   ],
   "source": [
    "#選擇 ndarray 的元素（8）\n",
    "#假如希望判斷兩個 ndarray 是否相同，可以使用 np.array_equal()\n",
    "\n",
    "import numpy as np\n",
    "\n",
    "arr_1 = np.arange(8)\n",
    "arr_2 = np.arange(7)\n",
    "\n",
    "print(np.array_equal(arr_1, arr_2))"
   ]
  },
  {
   "cell_type": "code",
   "execution_count": 54,
   "metadata": {},
   "outputs": [
    {
     "name": "stdout",
     "output_type": "stream",
     "text": [
      "一維的 ndarray符合 element-wise 運算\n",
      "[0 1 2 3 4 5 6 7 8 9]\n",
      "[11 12 13 14 15 16 17 18 19 20]\n",
      "\n",
      "\n",
      "[  0  12  26  42  60  80 102 126 152 180]\n",
      "\n",
      "\n",
      "二維的 ndarray符合 element-wise 運算\n",
      "[[0 1]\n",
      " [2 3]]\n",
      "[[5 6]\n",
      " [7 8]]\n",
      "\n",
      "\n",
      "[[ 0  6]\n",
      " [14 24]]\n"
     ]
    }
   ],
   "source": [
    "#ndarray 的運算\n",
    "\n",
    "#ndarray 的運算（2）\n",
    "#一維的 ndarray 與二維的 ndarray 也都符合 element-wise 運算\n",
    "\n",
    "print(\"一維的 ndarray符合 element-wise 運算\")\n",
    "import numpy as np\n",
    "\n",
    "arr_1 = np.arange(10)\n",
    "arr_2 = np.arange(11, 21)\n",
    "\n",
    "print(arr_1)\n",
    "print(arr_2)\n",
    "print(\"\\n\")\n",
    "print(arr_1 * arr_2)  #注意 : 這裡使用的 \" * \" 不是矩陣內積，而是真的各個位置的元素在做element-wise相乘而已 ex. a1*b1=c1\n",
    "print(\"\\n\")\n",
    "\n",
    "print(\"二維的 ndarray符合 element-wise 運算\")\n",
    "import numpy as np\n",
    "\n",
    "arr_1 = np.arange(4).reshape(2, 2)\n",
    "arr_2 = np.arange(5, 9).reshape(2, 2)\n",
    "\n",
    "print(arr_1)\n",
    "print(arr_2)\n",
    "print(\"\\n\")\n",
    "print(arr_1 * arr_2)  #注意 : 這裡使用的 \" * \" 不是矩陣內積，而是真的各個位置的元素在做element-wise相乘而已 ex. a1*b1=c1"
   ]
  },
  {
   "cell_type": "code",
   "execution_count": 63,
   "metadata": {},
   "outputs": [
    {
     "name": "stdout",
     "output_type": "stream",
     "text": [
      "2x5的2d array (我們在numpy的ndarray裡，所以他不叫矩陣)\n",
      "[[0 1 2 3 4]\n",
      " [5 6 7 8 9]]\n",
      "5x2的2d array (我們在numpy的ndarray裡，所以他不叫矩陣)\n",
      "[[0 1]\n",
      " [2 3]\n",
      " [4 5]\n",
      " [6 7]\n",
      " [8 9]]\n",
      "2x5的2d array 和 5x2的2d array 內積!!!   內積 : 使用np.dot()\n",
      "[[ 60  70]\n",
      " [160 195]]\n"
     ]
    }
   ],
   "source": [
    "#ndarray 的運算（3）\n",
    "#二維的 ndarray 可以進行矩陣的內積運算 : 使用 .dot() 方法或 np.dot()\n",
    "\n",
    "#注意 : 我們會說在用 2d array在作業，而不是說在做矩陣處理\n",
    "#原因是 : 在numpy，還真的有另一個class叫 numpy.matrix，可是這裡不是，我們還在 numpy的 ndarray 裡面，所以我們是在做2d array!!!\n",
    "\n",
    "#回憶 -- 建立 資料結構 ndarray 的方法 : \n",
    "\n",
    "#import numpy as np\n",
    "\n",
    "#numpy.array()                         上課一直在用的 np.array()\n",
    "#numpy.arange()\n",
    "#numpy.linspace()\n",
    "#numpy.ones()\n",
    "#numpy.zeros()\n",
    "#numpy.eye()\n",
    "#numpy.diag(list)\n",
    "#numpy.random.rand()\n",
    "#numpy.random.randn()\n",
    "#numpy.random.randint()\n",
    "\n",
    "\n",
    "\n",
    "\n",
    "\n",
    "import numpy as np\n",
    "\n",
    "arr_1 = np.arange(10).reshape(2, 5) \n",
    "arr_2 = np.arange(10).reshape(5, 2)\n",
    "\n",
    "print(\"2x5的2d array (我們在numpy的ndarray裡，所以他不叫矩陣)\")\n",
    "print(arr_1)\n",
    "print(\"5x2的2d array (我們在numpy的ndarray裡，所以他不叫矩陣)\")\n",
    "print(arr_2)\n",
    "print(\"2x5的2d array 和 5x2的2d array 內積!!!   內積 : 使用np.dot()\")\n",
    "print( np.dot(arr_1, arr_2) )"
   ]
  },
  {
   "cell_type": "code",
   "execution_count": null,
   "metadata": {
    "collapsed": true
   },
   "outputs": [],
   "source": [
    "#ndarray 的運算（4）\n",
    "#          T\n",
    "#練習計算 u   v\n",
    "\n",
    "#轉置transpose (行列互換) : a(i,j) <--> a(j,i)   \n",
    "\n",
    "#u = ⎡  4 ⎤\n",
    "#   ⎢ -4 ⎥\n",
    "#  ⎣ -3 ⎦\n",
    "\n",
    "#v = ⎡ 4 ⎤\n",
    "#   ⎢ 2 ⎥\n",
    "#  ⎣ 4 ⎦\n",
    "\n",
    "import numpy as np\n",
    "\n"
   ]
  },
  {
   "cell_type": "code",
   "execution_count": 64,
   "metadata": {},
   "outputs": [
    {
     "name": "stdout",
     "output_type": "stream",
     "text": [
      "[[ 6  6  6]\n",
      " [15 15 15]\n",
      " [24 24 24]]\n"
     ]
    }
   ],
   "source": [
    "#ndarray 的運算（5）\n",
    "#練習計算 A∗IA∗I 與 I∗A\n",
    "\n",
    "#A = ⎡  1 2 3   ⎤\n",
    "#   ⎢   4 5 6  ⎥  \n",
    "#  ⎣    7 8 9 ⎦\n",
    "\n",
    "#I = ⎡  1 1 1   ⎤\n",
    "#   ⎢   1 1 1  ⎥  \n",
    "#  ⎣    1 1 1 ⎦\n",
    "\n",
    "import numpy as np\n",
    "\n",
    "arr_A = np.array([\n",
    "    [1, 2, 3],\n",
    "    [4, 5, 6],\n",
    "    [7, 8, 9]\n",
    "])\n",
    "arr_I = np.array([\n",
    "    [1, 1, 1],\n",
    "    [1, 1, 1],\n",
    "    [1, 1, 1]\n",
    "])\n",
    "\n",
    "print(np.dot( arr_A, arr_I ))"
   ]
  },
  {
   "cell_type": "code",
   "execution_count": null,
   "metadata": {
    "collapsed": true
   },
   "outputs": [],
   "source": [
    "#ndarray 的運算（6）\n",
    "#練習計算 A∗BA∗B 與 B∗AB∗A\n",
    "#A=[1 2\n",
    "#   4 5]\n",
    "\n",
    "#B=[4 3\n",
    "#   2 1]\n",
    "\n"
   ]
  },
  {
   "cell_type": "code",
   "execution_count": 85,
   "metadata": {},
   "outputs": [
    {
     "name": "stdout",
     "output_type": "stream",
     "text": [
      "50.5\n",
      "841.666666667\n",
      "29.0114919759\n"
     ]
    }
   ],
   "source": [
    "#CH4期中作業\n",
    "#利用 numpy 提供的方法實作樣本標準差函數\n",
    "\n",
    "#計算數列 1 到 n 的標準差\n",
    "\n",
    "import numpy as np\n",
    "\n",
    "n = 100                          #在最後呼叫函數( 此為print() )之前，先宣告好每一個自變數\n",
    "\n",
    "arr = np.arange(1, n+1)\n",
    "x_bar = arr.mean()\n",
    "SSE = ( ( sum( (arr - x_bar)**2) ) / (n-1) )\n",
    "SD = SSE**0.5\n",
    "\n",
    "print(x_bar)\n",
    "print(SSE)\n",
    "print(SD)\n"
   ]
  },
  {
   "cell_type": "code",
   "execution_count": 100,
   "metadata": {},
   "outputs": [
    {
     "name": "stdout",
     "output_type": "stream",
     "text": [
      "[[ 1  2  3  4  5  6  7  8  9]\n",
      " [10 11 12 13 14 15 16 17 18]\n",
      " [19 20 21 22 23 24 25 26 27]\n",
      " [28 29 30 31 32 33 34 35 36]\n",
      " [37 38 39 40 41 42 43 44 45]\n",
      " [46 47 48 49 50 51 52 53 54]\n",
      " [55 56 57 58 59 60 61 62 63]\n",
      " [64 65 66 67 68 69 70 71 72]\n",
      " [73 74 75 76 77 78 79 80 81]]\n"
     ]
    },
    {
     "ename": "TypeError",
     "evalue": "'numpy.ndarray' object is not callable",
     "output_type": "error",
     "traceback": [
      "\u001b[1;31m---------------------------------------------------------------------------\u001b[0m",
      "\u001b[1;31mTypeError\u001b[0m                                 Traceback (most recent call last)",
      "\u001b[1;32m<ipython-input-100-5fbf08993ddd>\u001b[0m in \u001b[0;36m<module>\u001b[1;34m()\u001b[0m\n\u001b[0;32m      8\u001b[0m \u001b[0mprint\u001b[0m\u001b[1;33m(\u001b[0m\u001b[0marr_0\u001b[0m\u001b[1;33m)\u001b[0m\u001b[1;33m\u001b[0m\u001b[0m\n\u001b[0;32m      9\u001b[0m \u001b[1;33m\u001b[0m\u001b[0m\n\u001b[1;32m---> 10\u001b[1;33m \u001b[0marr_1\u001b[0m \u001b[1;33m=\u001b[0m \u001b[0mnp\u001b[0m\u001b[1;33m.\u001b[0m\u001b[0mwhere\u001b[0m\u001b[1;33m(\u001b[0m\u001b[0marr_0\u001b[0m\u001b[1;33m[\u001b[0m \u001b[1;36m0\u001b[0m \u001b[1;33m:\u001b[0m \u001b[1;36m9\u001b[0m \u001b[1;33m]\u001b[0m \u001b[1;33m,\u001b[0m \u001b[1;33m(\u001b[0m \u001b[1;33m(\u001b[0m \u001b[0marr_0\u001b[0m\u001b[1;33m[\u001b[0m \u001b[1;36m0\u001b[0m \u001b[1;33m:\u001b[0m \u001b[1;36m9\u001b[0m \u001b[1;33m]\u001b[0m \u001b[1;33m)\u001b[0m\u001b[1;33m*\u001b[0m\u001b[1;36m2\u001b[0m \u001b[1;33m)\u001b[0m\u001b[1;33m,\u001b[0m \u001b[0marr_0\u001b[0m\u001b[1;33m(\u001b[0m\u001b[0maxis\u001b[0m \u001b[1;33m=\u001b[0m \u001b[1;36m1\u001b[0m\u001b[1;33m)\u001b[0m\u001b[1;33m)\u001b[0m\u001b[1;33m\u001b[0m\u001b[0m\n\u001b[0m\u001b[0;32m     11\u001b[0m \u001b[0mprint\u001b[0m\u001b[1;33m(\u001b[0m\u001b[0marr_1\u001b[0m\u001b[1;33m)\u001b[0m\u001b[1;33m\u001b[0m\u001b[0m\n",
      "\u001b[1;31mTypeError\u001b[0m: 'numpy.ndarray' object is not callable"
     ]
    }
   ],
   "source": [
    "#隨堂練習\n",
    "#建立一個外觀為 (9, 9) 的 ndarray\n",
    "#填入九九乘法表\n",
    "\n",
    "import numpy as np\n",
    "\n",
    "arr_0 = np.arange(1, 82).reshape(9, 9)\n",
    "print(arr_0)\n",
    "\n",
    "arr_1 = np.where(arr_0[ 0 : 9 ] , ( ( arr_0[ 0 : 9 ] )*2 ), arr_0(axis = 1))\n",
    "print(arr_1)"
   ]
  },
  {
   "cell_type": "code",
   "execution_count": 114,
   "metadata": {},
   "outputs": [
    {
     "name": "stdout",
     "output_type": "stream",
     "text": [
      "[[ 1  2  3  4  5  6  7  8  9]\n",
      " [10 11 12 13 14 15 16 17 18]\n",
      " [19 20 21 22 23 24 25 26 27]\n",
      " [28 29 30 31 32 33 34 35 36]\n",
      " [37 38 39 40 41 42 43 44 45]\n",
      " [46 47 48 49 50 51 52 53 54]\n",
      " [55 56 57 58 59 60 61 62 63]\n",
      " [64 65 66 67 68 69 70 71 72]\n",
      " [73 74 75 76 77 78 79 80 81]]\n",
      "(9, 9)\n",
      "9\n",
      "9\n",
      "[[ 1  2  3  4  5  6  7  8  9]\n",
      " [ 2  4  6  8 10 12 14 16 18]\n",
      " [ 3  6  9 12 15 18 21 24 27]\n",
      " [ 4  8 12 16 20 24 28 32 36]\n",
      " [ 5 10 15 20 25 30 35 40 45]\n",
      " [ 6 12 18 24 30 36 42 48 54]\n",
      " [ 7 14 21 28 35 42 49 56 63]\n",
      " [ 8 16 24 32 40 48 56 64 72]\n",
      " [ 9 18 27 36 45 54 63 72 81]]\n"
     ]
    }
   ],
   "source": [
    "#隨堂練習\n",
    "#建立一個外觀為 (9, 9) 的 ndarray\n",
    "#填入九九乘法表\n",
    "\n",
    "import numpy as np\n",
    "\n",
    "arr = np.arange(1, 82).reshape(9, 9)\n",
    "print(arr)\n",
    "\n",
    "print(arr.shape)  #         print(arr.shape) == (9, 9)\n",
    "print(arr.shape[0])       #因為arr是9x9的陣列，所以 第0個索引值(代表row)     是9 (代表row有9列)\n",
    "print(arr.shape[1])       #因為                    第1個索引值(代表column)也是9 (代表column有9行)\n",
    "#print(arr.shape[2])      #因為arr是9x9的陣列，所以他沒有第2個索引值了， 於是輸入左邊的式子會出現錯誤\n",
    "\n",
    "\n",
    "for i in range(arr.shape[0]) :\n",
    "    for j in range(arr.shape[1]) : \n",
    "        arr[i, j] = (i + 1) * (j + 1)\n",
    "print(arr)"
   ]
  }
 ],
 "metadata": {
  "kernelspec": {
   "display_name": "Python 3",
   "language": "python",
   "name": "python3"
  },
  "language_info": {
   "codemirror_mode": {
    "name": "ipython",
    "version": 3
   },
   "file_extension": ".py",
   "mimetype": "text/x-python",
   "name": "python",
   "nbconvert_exporter": "python",
   "pygments_lexer": "ipython3",
   "version": "3.6.1"
  }
 },
 "nbformat": 4,
 "nbformat_minor": 2
}
