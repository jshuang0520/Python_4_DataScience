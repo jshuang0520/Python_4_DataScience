{
 "cells": [
  {
   "cell_type": "code",
   "execution_count": 9,
   "metadata": {},
   "outputs": [
    {
     "name": "stdout",
     "output_type": "stream",
     "text": [
      "3\n",
      "6\n",
      "6\n",
      "3\n"
     ]
    }
   ],
   "source": [
    "#自訂函數 3.1：寫一個公正的骰子 dice() 函數（使用 random.choice()）\n",
    "from random import choice\n",
    "\n",
    "def dice() :\n",
    "    return choice([\"1\",\"2\",\"3\",\"4\",\"5\",\"6\"])\n",
    "print(dice())\n",
    "print(dice())\n",
    "print(dice())\n",
    "print(dice())"
   ]
  },
  {
   "cell_type": "code",
   "execution_count": 4,
   "metadata": {},
   "outputs": [
    {
     "name": "stdout",
     "output_type": "stream",
     "text": [
      "[['1', '6', '5', '1', '1', '5', '5', '3', '2', '4', '5', '2', '6', '3', '5', '3', '2', '3', '6'], 19]\n"
     ]
    }
   ],
   "source": [
    "#自訂函數 3.2：延續3.1寫一個 six_for_three_times()函數計算擲幾次公正的骰子才會有三個六，並且把每次擲的記錄也回傳(使用 list的count()方法)\n",
    "\n",
    "#用3.1的函式\n",
    "from random import choice\n",
    "\n",
    "def dice() :\n",
    "    return choice([\"1\",\"2\",\"3\",\"4\",\"5\",\"6\"])\n",
    "\n",
    "#3.2開始\n",
    "def six_for_three_times():\n",
    "    '''\n",
    "    這個函數計算擲幾次公正的骰子才會有三個六，並且把每次擲的記錄也回傳\n",
    "    '''\n",
    "    flips = []\n",
    "    while flips.count(\"6\") < 3:\n",
    "        flips.append(dice())\n",
    "    return flips, len(flips)\n",
    "print(list(six_for_three_times()))"
   ]
  }
 ],
 "metadata": {
  "kernelspec": {
   "display_name": "Python 3",
   "language": "python",
   "name": "python3"
  },
  "language_info": {
   "codemirror_mode": {
    "name": "ipython",
    "version": 3
   },
   "file_extension": ".py",
   "mimetype": "text/x-python",
   "name": "python",
   "nbconvert_exporter": "python",
   "pygments_lexer": "ipython3",
   "version": "3.6.1"
  }
 },
 "nbformat": 4,
 "nbformat_minor": 2
}
