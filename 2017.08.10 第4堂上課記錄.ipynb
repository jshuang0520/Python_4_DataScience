{
 "cells": [
  {
   "cell_type": "code",
   "execution_count": 4,
   "metadata": {},
   "outputs": [
    {
     "name": "stdout",
     "output_type": "stream",
     "text": [
      "(12.566370614359172, 12.566370614359172)\n"
     ]
    }
   ],
   "source": [
    "#從命令列執行 Python 程式（4）\n",
    "\n",
    "import sys\n",
    "import math\n",
    "\n",
    "def circle_calculate(radius):\n",
    "    circle_area = math.pi * radius**2\n",
    "    circle_circum = 2 * math.pi * radius\n",
    "    return circle_area, circle_circum\n",
    "\n",
    "user_input = 2\n",
    "ans = circle_calculate(user_input)\n",
    "print(ans)\n"
   ]
  },
  {
   "cell_type": "code",
   "execution_count": null,
   "metadata": {
    "collapsed": true
   },
   "outputs": [],
   "source": [
    "#__init__.py\n",
    "__all__ = [\"sd_calculate\", \"mean_calculate\"]\n"
   ]
  },
  {
   "cell_type": "code",
   "execution_count": 28,
   "metadata": {
    "collapsed": true
   },
   "outputs": [],
   "source": [
    "#sd_calculate.py\n",
    "from statspy import mean_calculate\n",
    "\n",
    "def my_sd(x):\n",
    "\tn_minus_one = len(x) - 1\n",
    "\tx_bar = mean_calculate.my_mean(x)\n",
    "\tsse = 0\n",
    "\tfor i in x:\n",
    "\t\tsse += (i - x_bar)**2\n",
    "\treturn (sse / n_minus_one)**0.5"
   ]
  },
  {
   "cell_type": "code",
   "execution_count": 29,
   "metadata": {
    "collapsed": true
   },
   "outputs": [],
   "source": [
    "#mean_calculate.py\n",
    "def my_mean(x):\n",
    "\tsummations = 0\n",
    "\tcnts = 0\n",
    "\tfor i in x:\n",
    "\t\tsummations += i\n",
    "\t\tcnts += 1\n",
    "\treturn summations / cnts"
   ]
  },
  {
   "cell_type": "code",
   "execution_count": 30,
   "metadata": {},
   "outputs": [
    {
     "name": "stdout",
     "output_type": "stream",
     "text": [
      "50.5\n"
     ]
    },
    {
     "ename": "AttributeError",
     "evalue": "'function' object has no attribute 'my_sd'",
     "output_type": "error",
     "traceback": [
      "\u001b[1;31m---------------------------------------------------------------------------\u001b[0m",
      "\u001b[1;31mAttributeError\u001b[0m                            Traceback (most recent call last)",
      "\u001b[1;32m<ipython-input-30-4cb20f85e6e7>\u001b[0m in \u001b[0;36m<module>\u001b[1;34m()\u001b[0m\n\u001b[0;32m      4\u001b[0m \u001b[0mtest_data\u001b[0m \u001b[1;33m=\u001b[0m \u001b[0mrange\u001b[0m\u001b[1;33m(\u001b[0m\u001b[1;36m1\u001b[0m\u001b[1;33m,\u001b[0m \u001b[1;36m101\u001b[0m\u001b[1;33m)\u001b[0m\u001b[1;33m\u001b[0m\u001b[0m\n\u001b[0;32m      5\u001b[0m \u001b[0mprint\u001b[0m\u001b[1;33m(\u001b[0m\u001b[0mmean_calculate\u001b[0m\u001b[1;33m.\u001b[0m\u001b[0mmy_mean\u001b[0m\u001b[1;33m(\u001b[0m\u001b[0mtest_data\u001b[0m\u001b[1;33m)\u001b[0m\u001b[1;33m)\u001b[0m\u001b[1;33m\u001b[0m\u001b[0m\n\u001b[1;32m----> 6\u001b[1;33m \u001b[0mprint\u001b[0m\u001b[1;33m(\u001b[0m\u001b[0msd_calculate\u001b[0m\u001b[1;33m.\u001b[0m\u001b[0mmy_sd\u001b[0m\u001b[1;33m(\u001b[0m\u001b[0mtest_data\u001b[0m\u001b[1;33m)\u001b[0m\u001b[1;33m)\u001b[0m\u001b[1;33m\u001b[0m\u001b[0m\n\u001b[0m",
      "\u001b[1;31mAttributeError\u001b[0m: 'function' object has no attribute 'my_sd'"
     ]
    }
   ],
   "source": [
    "#test_statspy.py\n",
    "from statspy import *\n",
    "\n",
    "test_data = range(1, 101)\n",
    "print(mean_calculate.my_mean(test_data))\n",
    "print(sd_calculate.my_sd(test_data))"
   ]
  },
  {
   "cell_type": "code",
   "execution_count": null,
   "metadata": {
    "collapsed": true
   },
   "outputs": [],
   "source": []
  }
 ],
 "metadata": {
  "kernelspec": {
   "display_name": "Python 3",
   "language": "python",
   "name": "python3"
  },
  "language_info": {
   "codemirror_mode": {
    "name": "ipython",
    "version": 3
   },
   "file_extension": ".py",
   "mimetype": "text/x-python",
   "name": "python",
   "nbconvert_exporter": "python",
   "pygments_lexer": "ipython3",
   "version": "3.6.1"
  }
 },
 "nbformat": 4,
 "nbformat_minor": 2
}
