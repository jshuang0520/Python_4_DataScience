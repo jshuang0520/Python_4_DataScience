{
 "cells": [
  {
   "cell_type": "code",
   "execution_count": 9,
   "metadata": {},
   "outputs": [
    {
     "name": "stdout",
     "output_type": "stream",
     "text": [
      "寫法1的結果\n",
      "Monday\n",
      "Tuesday\n",
      "Wednesday\n",
      "Thursday\n",
      "Friday\n",
      "\n",
      "\n",
      "寫法2的結果\n",
      "Monday\n",
      "Tuesday\n",
      "Wednesday\n",
      "Thursday\n",
      "Friday\n"
     ]
    }
   ],
   "source": [
    "#練習：印出週間工作日\n",
    "weekdays = [\"Sunday\", \"Monday\", \"Tuesday\", \"Wednesday\", \"Thursday\", \"Friday\", \"Saturday\"]\n",
    "print(\"寫法1的結果\")\n",
    "for a in weekdays :\n",
    "    if a == \"Sunday\" :\n",
    "        continue\n",
    "    elif a ==  \"Saturday\" :\n",
    "        continue\n",
    "    else :\n",
    "        print(a)        \n",
    "print(\"\\n\")\n",
    "\n",
    "print(\"寫法2的結果\")\n",
    "for a in weekdays :\n",
    "    if a in [\"Sunday\",\"Saturday\"] :\n",
    "        continue\n",
    "    else :\n",
    "        print(a)        "
   ]
  },
  {
   "cell_type": "code",
   "execution_count": 10,
   "metadata": {
    "collapsed": true
   },
   "outputs": [],
   "source": [
    "#print(sorted(distances, reverse = True))\n",
    "\n",
    "#輸入（input）　:　distances\n",
    "\n",
    "#參數（arguments, 常縮寫為 args） :　reverse (設定= True)\n",
    "\n",
    "#輸出（output） : 最後跑出來的"
   ]
  },
  {
   "cell_type": "code",
   "execution_count": 17,
   "metadata": {},
   "outputs": [
    {
     "name": "stdout",
     "output_type": "stream",
     "text": [
      "100\n"
     ]
    }
   ],
   "source": [
    "def squared(x):                    # \"輸入\" 為x\n",
    "                                   #接下來是對此自訂函數的描述Docstrings\n",
    "    '''\n",
    "    將輸入的數字平方之後回傳        \n",
    "    '''\n",
    "    y = x**2                       #此函數所運作的方程式    (這函數不像sorted(distances, reverse = True)有參數reverse)\n",
    "    return y                       #最後 \"輸出 \" (return)\n",
    "\n",
    "print(squared(10))"
   ]
  },
  {
   "cell_type": "code",
   "execution_count": 35,
   "metadata": {},
   "outputs": [
    {
     "name": "stdout",
     "output_type": "stream",
     "text": [
      "sgn(100) = 1\n",
      "sgn(0) = 0\n",
      "sgn(-100) = -1\n"
     ]
    }
   ],
   "source": [
    "#練習：自訂 Sign 函數\n",
    "\n",
    "\n",
    "def sgn(x) :\n",
    "    ''''\n",
    "    這是自訂函數\n",
    "    '''\n",
    "    if x > 0 :\n",
    "        return(\"sgn(%i) = 1\" % x)\n",
    "    elif x == 0 :\n",
    "        return(\"sgn(%i) = 0\" % x) \n",
    "    else :\n",
    "        return(\"sgn(%i) = -1\" % x) \n",
    "\n",
    "        \n",
    "print(sgn(100))\n",
    "print(sgn(0))\n",
    "print(sgn(-100))"
   ]
  },
  {
   "cell_type": "code",
   "execution_count": 64,
   "metadata": {},
   "outputs": [
    {
     "name": "stdout",
     "output_type": "stream",
     "text": [
      "這是一段有很多bug的程式碼，修正完的版本在下面\n",
      "\n",
      "\n",
      "\n",
      "\n",
      "\n",
      "\n"
     ]
    }
   ],
   "source": [
    "print(\"這是一段有很多bug的程式碼，修正完的版本在下面\")\n",
    "\n",
    "\n",
    "#練習自訂函數\n",
    "#總合函數 sum_fun()\n",
    "#計算個數的函數cnt_fun()\n",
    "#平均數函數mean_fun()\n",
    "\n",
    "def sum_fun() :\n",
    "    ''''\n",
    "    這是自訂的總合函數\n",
    "    '''\n",
    "    \n",
    "    a = 0\n",
    "    \n",
    "    for b in range(1, 10000000000001) :\n",
    "        a = a + b\n",
    "    return(a)\n",
    "print(\"\\n\")\n",
    "\n",
    "\n",
    "def cnt_fun() :\n",
    "    ''''\n",
    "    這是自訂的計算個數的函數\n",
    "    '''\n",
    "    \n",
    "    c = 0\n",
    "    \n",
    "    for d in range(1, 10000000000001) :\n",
    "        c = c + d\n",
    "    return(c)\n",
    "print(\"\\n\")\n",
    "\n",
    "\n",
    "\n",
    "def mean_fun() :\n",
    "    ''''\n",
    "    這是自訂的平均數函數\n",
    "    '''\n",
    "    \n",
    "    a = 0\n",
    "    \n",
    "    for b in range(1, 10000000000001) :\n",
    "        a = a + b\n",
    "    return(a)\n",
    "print(\"\\n\")"
   ]
  },
  {
   "cell_type": "code",
   "execution_count": 49,
   "metadata": {},
   "outputs": [
    {
     "name": "stdout",
     "output_type": "stream",
     "text": [
      "5050\n",
      "\n",
      "\n"
     ]
    }
   ],
   "source": [
    "#練習自訂函數\n",
    "#總合函數 sum_fun()\n",
    "#計算個數的函數cnt_fun()\n",
    "#平均數函數mean_fun()\n",
    "\n",
    "def sum_fun(x) :\n",
    "    ''''\n",
    "    這是自訂的總合函數\n",
    "    '''\n",
    "    \n",
    "    summations = 0\n",
    "    for i in x :\n",
    "        summations += i\n",
    "    return summations\n",
    "print(sum_fun(range(1,101)))\n",
    "print(\"\\n\")\n",
    "\n"
   ]
  },
  {
   "cell_type": "code",
   "execution_count": 73,
   "metadata": {},
   "outputs": [
    {
     "name": "stdout",
     "output_type": "stream",
     "text": [
      "5050\n",
      "100\n",
      "5.5\n",
      "\n",
      "\n",
      "這是我修正過後的版本\n",
      "記得自訂函數的時候，def函數括號內要放輸入值x(要有input阿!!!)\n",
      "依然，記得if後面要放冒號(if ~~~ :)\n",
      "原來，return過後會算出，但不會印出(顯示出)值!!!\n"
     ]
    }
   ],
   "source": [
    "#這是我修正過後的版本\n",
    "def sum_fun(x) :\n",
    "    ''''\n",
    "    這是自訂的總合函數\n",
    "    '''    \n",
    "    a = 0\n",
    "    for b in x :\n",
    "        a = a + b\n",
    "    return(a)\n",
    "\n",
    "def cnt_fun(x) :\n",
    "    ''''\n",
    "    這是自訂的計算個數的函數\n",
    "    '''    \n",
    "    c = 0    \n",
    "    for d in x :\n",
    "        c = c + 1\n",
    "    return(c)\n",
    "\n",
    "def mean_fun(x) :\n",
    "    ''''\n",
    "    這是自訂的平均數函數\n",
    "    '''\n",
    "    return sum_fun(x) / cnt_fun(x)\n",
    "\n",
    "print(sum_fun(range(1,101)))\n",
    "print(cnt_fun(range(1,101)))\n",
    "print(mean_fun(range(1, 11)))\n",
    "\n",
    "print(\"\\n\")\n",
    "print(\"這是我修正過後的版本\")\n",
    "print(\"記得自訂函數的時候，def函數括號內要放輸入值x(要有input阿!!!)\")\n",
    "print(\"依然，記得if後面要放冒號(if ~~~ :)\")\n",
    "print(\"原來，return過後會算出，但不會印出(顯示出)值!!!\")\n"
   ]
  },
  {
   "cell_type": "code",
   "execution_count": 74,
   "metadata": {},
   "outputs": [
    {
     "name": "stdout",
     "output_type": "stream",
     "text": [
      "55\n",
      "10\n",
      "5.5\n",
      "\n",
      "\n",
      "這是老師INSTACODE版本\n"
     ]
    }
   ],
   "source": [
    "#這是老師INSTACODE版本\n",
    "\n",
    "def sum_fun(x):\n",
    "    '''\n",
    "    這是一個計算加總的函數\n",
    "    '''\n",
    "    summations = 0\n",
    "    for i in x:\n",
    "        summations += i\n",
    "    return summations\n",
    "\n",
    "def cnt_fun(x):\n",
    "    '''\n",
    "    這是一個計算個數的函數\n",
    "    '''\n",
    "    cnts = 0\n",
    "    for i in x:\n",
    "        cnts += 1\n",
    "    return cnts\n",
    "\n",
    "def mean_fun(x):\n",
    "    '''\n",
    "    這是一個計算平均數的函數\n",
    "    '''\n",
    "    return sum_fun(x) / cnt_fun(x)\n",
    "\n",
    "print(sum_fun(range(1, 11)))\n",
    "print(cnt_fun(range(1, 11)))\n",
    "print(mean_fun(range(1, 11)))\n",
    "\n",
    "print(\"\\n\")\n",
    "print(\"這是老師INSTACODE版本\")"
   ]
  },
  {
   "cell_type": "code",
   "execution_count": 82,
   "metadata": {},
   "outputs": [
    {
     "name": "stdout",
     "output_type": "stream",
     "text": [
      "4.0\n",
      "3.141592653589793\n",
      "半徑為 3.00 的圓面積為 18.8496\n",
      "半徑為 3.00 的圓周長為 18.8496\n"
     ]
    }
   ],
   "source": [
    "#計算圓形的面積或周長\n",
    "import math\n",
    "print(math.sqrt(16))\n",
    "print(math.pi)\n",
    "\n",
    "def circle_calculate(r, is_area):\n",
    "    if is_area == True :\n",
    "        return math.pi * r**2\n",
    "    else : \n",
    "        return 2 * math.pi * r\n",
    "radius = 3\n",
    "circle_area = circle_calculator(radius) #因為沒有預設值，所以要修正成, circle_area = circle_calculator(radius, is_area = False)!!!\n",
    "circle_circum = circle_calculator(radius, is_area = False)\n",
    "print(\"半徑為 %.2f 的圓面積為 %.4f\" % (radius, circle_area))\n",
    "print(\"半徑為 %.2f 的圓周長為 %.4f\" % (radius, circle_circum))"
   ]
  },
  {
   "cell_type": "code",
   "execution_count": 83,
   "metadata": {},
   "outputs": [
    {
     "name": "stdout",
     "output_type": "stream",
     "text": [
      "半徑為 3.00 的圓面積為 28.2743\n",
      "半徑為 3.00 的圓周長為 18.8496\n"
     ]
    }
   ],
   "source": [
    "#老師版本\n",
    "import math\n",
    "\n",
    "def circle_calculator(r, is_area = True):     #is_area = True這個\"= True\"就是在預設回傳面積\n",
    "    '''\n",
    "    圓形計算機函數。\n",
    "    is_area 為 True 的時候回傳面積（預設值）；\n",
    "    is_area 為 False 的時候回傳周長。\n",
    "    '''\n",
    "    if is_area == True:\n",
    "        return math.pi * r**2\n",
    "    else:\n",
    "        return 2 * math.pi * r\n",
    "\n",
    "radius = 3\n",
    "circle_area = circle_calculator(radius)\n",
    "circle_circum = circle_calculator(radius, is_area = False)\n",
    "print(\"半徑為 %.2f 的圓面積為 %.4f\" % (radius, circle_area))\n",
    "print(\"半徑為 %.2f 的圓周長為 %.4f\" % (radius, circle_circum))"
   ]
  },
  {
   "cell_type": "code",
   "execution_count": 85,
   "metadata": {
    "collapsed": true
   },
   "outputs": [],
   "source": [
    "#外面的iterater/裡面的iterater                                                               4 2 1 3 \n",
    "#index值 = 0  <-> 1          (索引值0的那個元素數值，和索引值1的那個元素數值比較大小)            2 4 1 3\n",
    "#             <-> 2          (索引值0的那個元素數值，和索引值2的那個元素數值比較大小)            1 4 2 3\n",
    "#             <-> 3          (索引值0的那個元素數值，和索引值3的那個元素數值比較大小)            1 4 2 3\n",
    "#index值 = 1  <-> 2          (索引值1的那個元素數值，和索引值2的那個元素數值比較大小)            1 2 4 3\n",
    "#             <-> 3          (索引值1的那個元素數值，和索引值3的那個元素數值比較大小)            1 2 4 3\n",
    "#index值 = 2  <-> 3          (索引值2的那個元素數值，和索引值3的那個元素數值比較大小)            1 2 3 4\n",
    "#因為裡面的iterater先跑完(跑了1~3)，然後外面的iterater才跑完\n",
    "#所以這是一個巢狀迴圈"
   ]
  },
  {
   "cell_type": "code",
   "execution_count": 146,
   "metadata": {},
   "outputs": [
    {
     "name": "stdout",
     "output_type": "stream",
     "text": [
      "[18, 94, 24, 69, 13, 35, 96, 42, 82, 90]\n",
      "\n",
      "\n",
      "[13, 18, 24, 35, 42, 69, 82, 90, 94, 96]\n",
      "[13, 18, 24, 35, 42, 69, 82, 90, 94, 96]\n",
      "\n",
      "\n",
      "[96, 94, 90, 82, 69, 42, 35, 24, 18, 13]\n"
     ]
    }
   ],
   "source": [
    "#練習：在交換排序法中增加一個參數：reverse，預設 reverse = False 遞增排序\n",
    "\n",
    "import random\n",
    "\n",
    "def exchange_sort(x, reverse = False):\n",
    "    for i in range(0, len(x) - 1):\n",
    "            for j in range(i + 1, len(x)):\n",
    "                if x[j] < x[i] :\n",
    "                    x[j], x[i] = x[i], x[j]\n",
    "    if reverse == False :\n",
    "        return x    \n",
    "    else :\n",
    "        return x[::-1]\n",
    "                \n",
    "random.seed(87)\n",
    "unsorted_list = random.sample(range(0, 100), 10)\n",
    "print(unsorted_list)\n",
    "print(\"\\n\")\n",
    "\n",
    "print(exchange_sort(unsorted_list))\n",
    "print(exchange_sort(unsorted_list, reverse = False))\n",
    "print(\"\\n\")\n",
    "\n",
    "print(exchange_sort(unsorted_list, reverse = True))"
   ]
  },
  {
   "cell_type": "code",
   "execution_count": 137,
   "metadata": {},
   "outputs": [
    {
     "name": "stdout",
     "output_type": "stream",
     "text": [
      "[18, 94, 24, 69, 13, 35, 96, 42, 82, 90]\n",
      "[13, 18, 24, 35, 42, 69, 82, 90, 94, 96]\n",
      "[96, 94, 90, 82, 69, 42, 35, 24, 18, 13]\n"
     ]
    }
   ],
   "source": [
    "#老師版本\n",
    "import random\n",
    "\n",
    "def exchange_sort(x, reverse = False):\n",
    "    for i in range(0, len(x) - 1):\n",
    "            for j in range(i + 1, len(x)):\n",
    "                if x[j] < x[i]:\n",
    "                    x[j], x[i] = x[i], x[j]\n",
    "    if reverse == False:\n",
    "        return x\n",
    "    else:\n",
    "        return x[::-1]\n",
    "\n",
    "random.seed(87)\n",
    "unsorted_list = random.sample(range(0, 100), 10)\n",
    "print(unsorted_list)\n",
    "print(exchange_sort(unsorted_list))\n",
    "print(exchange_sort(unsorted_list, reverse = True))"
   ]
  },
  {
   "cell_type": "code",
   "execution_count": 150,
   "metadata": {},
   "outputs": [
    {
     "name": "stdout",
     "output_type": "stream",
     "text": [
      "半徑為 3.00 的圓面積為 28.2743\n",
      "半徑為 3.00 的圓周長為 18.8496\n",
      "請輸入數值\n"
     ]
    }
   ],
   "source": [
    "#錯誤處理-->老師講解+自己註記\n",
    "import math\n",
    "\n",
    "def circle_calculator(r, is_area = True):     #is_area = True這個\"= True\"就是在預設回傳面積\n",
    "    '''\n",
    "    圓形計算機函數。\n",
    "    is_area 為 True 的時候回傳面積（預設值）；\n",
    "    is_area 為 False 的時候回傳周長。\n",
    "    '''\n",
    "    try :                                    #try的功能 : 如果沒出現任何錯誤error的話，走這個路徑\n",
    "        if is_area == True:                  #用if當作判斷是否出錯的條件\n",
    "            return math.pi * r**2\n",
    "        else:\n",
    "            return 2 * math.pi * r\n",
    "    except:\n",
    "        return \"請輸入數值\"\n",
    "radius = 3\n",
    "circle_area = circle_calculator(radius)\n",
    "circle_circum = circle_calculator(radius, is_area = False)\n",
    "print(\"半徑為 %.2f 的圓面積為 %.4f\" % (radius, circle_area))\n",
    "print(\"半徑為 %.2f 的圓周長為 %.4f\" % (radius, circle_circum))\n",
    "print(circle_calculator(\"3\"))\n"
   ]
  },
  {
   "cell_type": "code",
   "execution_count": 157,
   "metadata": {},
   "outputs": [
    {
     "name": "stdout",
     "output_type": "stream",
     "text": [
      "分母不能為0\n",
      "分子和分母的變數類型應為數值\n"
     ]
    }
   ],
   "source": [
    "def divide(x, y) :              #def後面也要記得冒號:\n",
    "    try :        \n",
    "        return x / y\n",
    "    except ZeroDivisionError :\n",
    "        return \"分母不能為0\"\n",
    "    except TypeError :\n",
    "        return \"分子和分母的變數類型應為數值\"\n",
    "    except :\n",
    "        return \"其他錯誤\"\n",
    "print(divide(5,0))\n",
    "print(divide(5,\"1\"))\n"
   ]
  },
  {
   "cell_type": "code",
   "execution_count": 169,
   "metadata": {},
   "outputs": [
    {
     "name": "stdout",
     "output_type": "stream",
     "text": [
      "9\n",
      "\n",
      "\n",
      "filter(匿名函數/篩選規則 , 欲篩選的list清單)\n",
      "<filter object at 0x037767F0>\n",
      "[1, 2, 3, 4, 5, 6, 7, 8, 9, 10]\n",
      "\n",
      "\n",
      "map(匿名函數/平方規則 , 欲進行的list清單)\n",
      "<map object at 0x03776DB0>\n",
      "[1, 4, 9, 16, 25, 36, 49, 64, 81, 100]\n"
     ]
    }
   ],
   "source": [
    "#匿名函數，又稱為 lambda 函數。不需要 def、return 的敘述\n",
    "\n",
    "my_squared = lambda x : x ** 2\n",
    "print(my_squared(3))\n",
    "print(\"\\n\")\n",
    "\n",
    "#常與內建的兩個函數一起使用：\n",
    "#filter()\n",
    "#map()\n",
    "\n",
    "print(\"filter(匿名函數/篩選規則 , 欲篩選的list清單)\")\n",
    "lst = range(1, 11)\n",
    "odds_res = filter(lambda x : x ** 2, lst)\n",
    "print(odds_res)\n",
    "print(list(odds_res))\n",
    "print(\"\\n\")\n",
    "\n",
    "print(\"map(匿名函數/平方規則 , 欲進行的list清單)\")\n",
    "lst = range(1, 11)\n",
    "maps_res = map(lambda x : x ** 2, lst)\n",
    "print(maps_res)\n",
    "print(list(maps_res))\n"
   ]
  },
  {
   "cell_type": "code",
   "execution_count": null,
   "metadata": {
    "collapsed": true
   },
   "outputs": [],
   "source": []
  }
 ],
 "metadata": {
  "kernelspec": {
   "display_name": "Python 3",
   "language": "python",
   "name": "python3"
  },
  "language_info": {
   "codemirror_mode": {
    "name": "ipython",
    "version": 3
   },
   "file_extension": ".py",
   "mimetype": "text/x-python",
   "name": "python",
   "nbconvert_exporter": "python",
   "pygments_lexer": "ipython3",
   "version": "3.6.1"
  }
 },
 "nbformat": 4,
 "nbformat_minor": 2
}
