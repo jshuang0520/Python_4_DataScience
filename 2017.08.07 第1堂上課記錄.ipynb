{
 "cells": [
  {
   "cell_type": "code",
   "execution_count": 21,
   "metadata": {},
   "outputs": [
    {
     "name": "stdout",
     "output_type": "stream",
     "text": [
      "['Chicago Bulls', 72, 10, 0.8780487804878049, True]\n",
      "('Chicago Bulls', 72, 10, 0.8780487804878049, True)\n",
      "('Chicago Bulls', 72, 10, 0.8780487804878049, True, '1995-96')\n"
     ]
    }
   ],
   "source": [
    "team_name = \"Chicago Bulls\"\n",
    "wins = 72\n",
    "losses = 10\n",
    "win_percentage = wins / (wins + losses)\n",
    "is_champion = True\n",
    "season = \"1995-96\"\n",
    "\n",
    "Bulls_list = [team_name , wins , losses , win_percentage , is_champion]\n",
    "print(Bulls_list)\n",
    "\n",
    "Bulls_tuple = tuple(Bulls_list)\n",
    "print(Bulls_tuple)\n",
    "\n",
    "Bulls_list.append(season)\n",
    "print(tuple(Bulls_list))\n"
   ]
  },
  {
   "cell_type": "code",
   "execution_count": 32,
   "metadata": {},
   "outputs": [
    {
     "name": "stdout",
     "output_type": "stream",
     "text": [
      "{'Team Name': 'Chicago Bulls', 'Wins': 72, 'Losses': 10, 'Winning Percentage': 0.8780487804878049, 'Is Champion': True}\n",
      "True\n",
      "dict_keys(['Team Name', 'Wins', 'Losses', 'Winning Percentage', 'Is Champion'])\n",
      "dict_values(['Chicago Bulls', 72, 10, 0.8780487804878049, True])\n"
     ]
    }
   ],
   "source": [
    "team_name = \"Chicago Bulls\"\n",
    "wins = 72\n",
    "losses = 10\n",
    "win_percentage = wins / (wins + losses)\n",
    "is_champion = True\n",
    "\n",
    "chicago_bulls = {\n",
    "    \"Team Name\": team_name,\n",
    "    \"Wins\": wins,\n",
    "    \"Losses\": losses,\n",
    "    \"Winning Percentage\": win_percentage,\n",
    "    \"Is Champion\": is_champion\n",
    "}\n",
    "\n",
    "print(chicago_bulls)\n",
    "print(chicago_bulls[\"Is Champion\"])\n",
    "print(chicago_bulls.keys())\n",
    "print(chicago_bulls.values())"
   ]
  },
  {
   "cell_type": "code",
   "execution_count": 31,
   "metadata": {},
   "outputs": [
    {
     "name": "stdout",
     "output_type": "stream",
     "text": [
      "{'Team Name': 'Chicago Bulls', 'Wins': 72, 'Losses': 10, 'Winning Percentage': 0.8780487804878049, 'Is Champion': True}\n",
      "True\n",
      "dict_keys(['Team Name', 'Wins', 'Losses', 'Winning Percentage', 'Is Champion'])\n",
      "dict_values(['Chicago Bulls', 72, 10, 0.8780487804878049, True])\n"
     ]
    }
   ],
   "source": [
    "chicago_bulls = {\n",
    "    \"Team Name\": \"Chicago Bulls\",\n",
    "    \"Wins\": 72,\n",
    "    \"Losses\": 10,\n",
    "    \"Winning Percentage\": (72/(72+10)),\n",
    "    \"Is Champion\": True\n",
    "}\n",
    "\n",
    "print(chicago_bulls)\n",
    "print(chicago_bulls[\"Is Champion\"])\n",
    "print(chicago_bulls.keys())\n",
    "print(chicago_bulls.values())"
   ]
  },
  {
   "cell_type": "code",
   "execution_count": 51,
   "metadata": {},
   "outputs": [
    {
     "name": "stdout",
     "output_type": "stream",
     "text": [
      "{'Genre': 'SitCom', 'Seasons': 10, 'Episodes': 236, 'Stars': ['Jennifer Aniston', 'Courteney Cox', 'Lisa Kudrow', 'Matt LeBlanc', 'Matthew Perry', 'David Schwimmer']}\n",
      "\n",
      "\n",
      "六人行有 10 季\n",
      "Phoebe Buffay 由 Lisa Kudrow 飾演\n"
     ]
    }
   ],
   "source": [
    "genre = \"SitCom\"\n",
    "seasons = 10\n",
    "episodes = 236\n",
    "stars = [\"Jennifer Aniston\", \"Courteney Cox\", \"Lisa Kudrow\",\n",
    "\"Matt LeBlanc\", \"Matthew Perry\", \"David Schwimmer\"]\n",
    "\n",
    "六人行_dict = {\"Genre\" : genre , \"Seasons\" : seasons , \"Episodes\" : episodes, \"Stars\" : stars}\n",
    "\n",
    "\n",
    "print(六人行_dict)\n",
    "print(\"\\n\")\n",
    "\n",
    "print(\"六人行有 %i 季\" % 六人行_dict[\"Seasons\"])\n",
    "print(\"Phoebe Buffay 由 %s 飾演\" % 六人行_dict[\"Stars\"][2])\n",
    "\n"
   ]
  },
  {
   "cell_type": "code",
   "execution_count": 86,
   "metadata": {
    "scrolled": true
   },
   "outputs": [
    {
     "name": "stdout",
     "output_type": "stream",
     "text": [
      "1\n",
      "Monday\n",
      "Tuesday\n",
      "Wednesday\n",
      "Thursday\n",
      "Friday\n",
      "Saturday\n",
      "Sunday\n",
      "\n",
      "\n",
      "2\n",
      "range(0, 5)\n",
      "就等於\n",
      "[0, 1, 2, 3, 4]\n",
      "python的慣例就是不包括你輸入最後一個值\n",
      "\n",
      "\n",
      "3\n",
      "[0, 1, 2, 3, 4, 5, 6]\n",
      "\n",
      "\n",
      "4\n",
      "Monday\n",
      "Tuesday\n",
      "Wednesday\n",
      "Thursday\n",
      "Friday\n",
      "Saturday\n",
      "Sunday\n"
     ]
    }
   ],
   "source": [
    "weekdays = [\"Monday\", \"Tuesday\", \"Wednesday\", \"Thursday\", \"Friday\", \"Saturday\", \"Sunday\"]\n",
    "print(\"1\")\n",
    "# 迴圈結構\n",
    "for weekday in weekdays:\n",
    "    print(weekday)\n",
    "print(\"\\n\")\n",
    "\n",
    "print(\"2\")\n",
    "print(range(5))\n",
    "print('就等於')\n",
    "print(list(range(5)))\n",
    "print('python的慣例就是不包括你輸入最後一個值')\n",
    "print(\"\\n\")\n",
    "\n",
    "print(\"3\")\n",
    "weekdays = [\"Monday\", \"Tuesday\", \"Wednesday\", \"Thursday\", \"Friday\", \"Saturday\", \"Sunday\"]\n",
    "print(list(range(len(weekdays))))\n",
    "print(\"\\n\")\n",
    "\n",
    "print(\"4\")\n",
    "weekdays = [\"Monday\", \"Tuesday\", \"Wednesday\", \"Thursday\", \"Friday\", \"Saturday\", \"Sunday\"]\n",
    "for i in range(len(weekdays)):\n",
    "    print(weekdays[i])"
   ]
  },
  {
   "cell_type": "code",
   "execution_count": 96,
   "metadata": {},
   "outputs": [
    {
     "name": "stdout",
     "output_type": "stream",
     "text": [
      "\n",
      "\n",
      "\n",
      "1\n",
      "country\n",
      "city\n",
      "\n",
      "\n",
      "2\n",
      "Taiwan\n",
      "Taipei\n",
      "\n",
      "\n",
      "3\n",
      "('country', 'Taiwan')\n",
      "('city', 'Taipei')\n",
      "\n",
      "\n",
      "4\n",
      "country Taiwan\n",
      "city Taipei\n",
      "\n",
      "\n"
     ]
    }
   ],
   "source": [
    "my_dict = {\"country\": \"Taiwan\", \"city\":\"Taipei\"}\n",
    "\n",
    "print(\"\")\n",
    "print(\"\\n\")\n",
    "\n",
    "print(\"1\")\n",
    "for element in my_dict:\n",
    "    print(element)\n",
    "print(\"\\n\")\n",
    "\n",
    "print(\"2\")\n",
    "for element in my_dict.values():\n",
    "    print(element)\n",
    "print(\"\\n\")\n",
    "\n",
    "print(\"3\")\n",
    "for element in my_dict.items():\n",
    "    print(element)\n",
    "print(\"\\n\")\n",
    "\n",
    "print(\"4\")\n",
    "for key, country in my_dict.items():\n",
    "    print(key, country)\n",
    "print(\"\\n\")"
   ]
  },
  {
   "cell_type": "code",
   "execution_count": 114,
   "metadata": {},
   "outputs": [
    {
     "ename": "SyntaxError",
     "evalue": "invalid syntax (<ipython-input-114-9905ce55f3b1>, line 5)",
     "output_type": "error",
     "traceback": [
      "\u001b[1;36m  File \u001b[1;32m\"<ipython-input-114-9905ce55f3b1>\"\u001b[1;36m, line \u001b[1;32m5\u001b[0m\n\u001b[1;33m    for i in range(101)\u001b[0m\n\u001b[1;37m                       ^\u001b[0m\n\u001b[1;31mSyntaxError\u001b[0m\u001b[1;31m:\u001b[0m invalid syntax\n"
     ]
    }
   ],
   "source": [
    "#練習用 for 迴圈計算 1 加到 100\n",
    "\n",
    "a = 0\n",
    "i=[]\n",
    "for i in range(101)\n",
    "    a = a + i\n",
    "print(a)"
   ]
  },
  {
   "cell_type": "code",
   "execution_count": 109,
   "metadata": {},
   "outputs": [
    {
     "name": "stdout",
     "output_type": "stream",
     "text": [
      "range(0, 101)\n"
     ]
    }
   ],
   "source": [
    "print(range(101))"
   ]
  },
  {
   "cell_type": "code",
   "execution_count": null,
   "metadata": {
    "collapsed": true
   },
   "outputs": [],
   "source": []
  },
  {
   "cell_type": "code",
   "execution_count": null,
   "metadata": {
    "collapsed": true
   },
   "outputs": [],
   "source": []
  },
  {
   "cell_type": "code",
   "execution_count": null,
   "metadata": {
    "collapsed": true
   },
   "outputs": [],
   "source": []
  },
  {
   "cell_type": "code",
   "execution_count": null,
   "metadata": {
    "collapsed": true
   },
   "outputs": [],
   "source": []
  },
  {
   "cell_type": "markdown",
   "metadata": {},
   "source": [
    "# 2017.10.05 複習 python的原生資料結構 dictionary (有 key-value pair 的 list)"
   ]
  },
  {
   "cell_type": "code",
   "execution_count": 1,
   "metadata": {},
   "outputs": [
    {
     "name": "stdout",
     "output_type": "stream",
     "text": [
      "Chicago Bulls\n",
      "---------------------------------------------------------------\n",
      "['Jennifer Aniston', 'Courteney Cox', 'Lisa Kudrow', 'Matt LeBlanc', 'Matthew Perry', 'David Schwimmer']\n",
      "Lisa Kudrow\n"
     ]
    }
   ],
   "source": [
    "# 2017.10.05 複習 python的原生資料結構 dictionary (有 key-value pair 的 list)\n",
    "\n",
    "# 1.\n",
    "team_name = \"Chicago Bulls\"\n",
    "wins = 72\n",
    "losses = 10\n",
    "win_percentage = wins / (wins + losses)\n",
    "is_champion = True\n",
    "\n",
    "# 建立字典\n",
    "chicago_bulls = {\n",
    "    \"team_name\": team_name, # 注意逗號  # 注意逗號  # 注意逗號  # 注意逗號  # 注意逗號\n",
    "    \"wins\": wins,\n",
    "    \"losses\": losses,\n",
    "    \"win_percentage\": win_percentage,\n",
    "    \"is_champion\": is_champion\n",
    "}\n",
    "print(chicago_bulls[\"team_name\"])\n",
    "print(\"---------------------------------------------------------------\")\n",
    "\n",
    "# 2.\n",
    "genre = \"SitCom\"\n",
    "seasons = 10\n",
    "episodes = 236\n",
    "stars = [\"Jennifer Aniston\", \"Courteney Cox\", \"Lisa Kudrow\",\n",
    "\"Matt LeBlanc\", \"Matthew Perry\", \"David Schwimmer\"]\n",
    "\n",
    "# 建立字典\n",
    "friends_dict = {\n",
    "    \"genre\" : genre,  # 注意逗號  # 注意逗號  # 注意逗號  # 注意逗號  # 注意逗號\n",
    "    \"seasons\" : seasons,\n",
    "    \"episodes\" : episodes,\n",
    "    \"stars\" : stars\n",
    "}\n",
    "\n",
    "print(friends_dict[\"stars\"])\n",
    "print(friends_dict[\"stars\"][2])"
   ]
  }
 ],
 "metadata": {
  "kernelspec": {
   "display_name": "Python 3",
   "language": "python",
   "name": "python3"
  },
  "language_info": {
   "codemirror_mode": {
    "name": "ipython",
    "version": 3
   },
   "file_extension": ".py",
   "mimetype": "text/x-python",
   "name": "python",
   "nbconvert_exporter": "python",
   "pygments_lexer": "ipython3",
   "version": "3.6.1"
  }
 },
 "nbformat": 4,
 "nbformat_minor": 2
}
