{
 "cells": [
  {
   "cell_type": "code",
   "execution_count": 77,
   "metadata": {},
   "outputs": [
    {
     "name": "stdout",
     "output_type": "stream",
     "text": [
      "1 4 2 5 4 5\n"
     ]
    }
   ],
   "source": [
    "#自訂函數 3.1：寫一個公正的骰子 dice() 函數（使用 random.choice()）\n",
    "from random import choice\n",
    "\n",
    "def dice() :\n",
    "    return choice([\"1\",\"2\",\"3\",\"4\",\"5\",\"6\"])\n",
    "print(dice(),dice(),dice(),dice(),dice(),dice())"
   ]
  },
  {
   "cell_type": "code",
   "execution_count": 71,
   "metadata": {},
   "outputs": [
    {
     "name": "stdout",
     "output_type": "stream",
     "text": [
      "[['2', '3', '5', '3', '2', '1', '2', '5', '3', '5', '2', '5', '6', '4', '3', '5', '2', '3', '2', '4', '2', '3', '3', '5', '4', '4', '5', '4', '3', '2', '5', '6', '6'], 33]\n"
     ]
    }
   ],
   "source": [
    "#自訂函數 3.2：延續3.1寫一個 six_for_three_times()函數計算擲幾次公正的骰子才會有三個六，並且把每次擲的記錄也回傳(使用 list的count()方法)\n",
    "\n",
    "#用3.1的函式\n",
    "from random import choice\n",
    "\n",
    "def dice() :\n",
    "    return choice([\"1\",\"2\",\"3\",\"4\",\"5\",\"6\"])\n",
    "\n",
    "#3.2開始\n",
    "def six_for_three_times():\n",
    "    '''\n",
    "    這個函數計算擲幾次公正的骰子才會有三個六，並且把每次擲的記錄也回傳\n",
    "    '''\n",
    "    flips = []\n",
    "    while flips.count(\"6\") < 3:\n",
    "        flips.append(dice())\n",
    "    return flips, len(flips)\n",
    "print(list(six_for_three_times()))"
   ]
  },
  {
   "cell_type": "code",
   "execution_count": 13,
   "metadata": {},
   "outputs": [
    {
     "name": "stdout",
     "output_type": "stream",
     "text": [
      "['Head', 'Tail', 'Tail', 'Head', 'Head']\n",
      "5\n"
     ]
    }
   ],
   "source": [
    "#參考資料 CH6 while迴圈的例子\n",
    "# http://yaojenkuo.io/python_4_ds/ch6.slides.html#/4/3\n",
    "\n",
    "from random import choice\n",
    "\n",
    "coin = [\"Head\", \"Tail\"]\n",
    "flips = []\n",
    "while flips.count(\"Head\") < 3:\n",
    "    flips.append(choice(coin))\n",
    "\n",
    "print(flips)\n",
    "print(len(flips))\n",
    "\n"
   ]
  },
  {
   "cell_type": "code",
   "execution_count": 72,
   "metadata": {},
   "outputs": [
    {
     "name": "stdout",
     "output_type": "stream",
     "text": [
      "['5', '4', '3', '6', '5', '2', '6', '3', '6']\n",
      "9\n"
     ]
    }
   ],
   "source": [
    "from random import choice\n",
    "\n",
    "dice = [\"1\", \"2\", \"3\", \"4\", \"5\", \"6\"]\n",
    "flips = []\n",
    "while flips.count(\"6\") < 3:\n",
    "    flips.append(choice(dice))\n",
    "\n",
    "print(flips)\n",
    "print(len(flips))"
   ]
  }
 ],
 "metadata": {
  "kernelspec": {
   "display_name": "Python 3",
   "language": "python",
   "name": "python3"
  },
  "language_info": {
   "codemirror_mode": {
    "name": "ipython",
    "version": 3
   },
   "file_extension": ".py",
   "mimetype": "text/x-python",
   "name": "python",
   "nbconvert_exporter": "python",
   "pygments_lexer": "ipython3",
   "version": "3.6.1"
  }
 },
 "nbformat": 4,
 "nbformat_minor": 2
}
