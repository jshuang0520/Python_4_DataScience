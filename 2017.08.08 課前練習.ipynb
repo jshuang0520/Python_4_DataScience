{
 "cells": [
  {
   "cell_type": "code",
   "execution_count": 27,
   "metadata": {},
   "outputs": [
    {
     "name": "stdout",
     "output_type": "stream",
     "text": [
      "{'genre': 'SitCom', 'seasons': 10, 'episodes': 236, 'stars': ['Jennifer Aniston', 'Courteney Cox', 'Lisa Kudrow', 'Matt LeBlanc', 'Matthew Perry', 'David Schwimmer']}\n",
      "六人行有 236 集。\n",
      "演員名稱 Matt LeBlanc\n"
     ]
    }
   ],
   "source": [
    "genre = \"SitCom\"\n",
    "seasons = 10\n",
    "episodes = 236\n",
    "stars = [\"Jennifer Aniston\", \"Courteney Cox\", \"Lisa Kudrow\",\n",
    "\"Matt LeBlanc\", \"Matthew Perry\", \"David Schwimmer\"]\n",
    "\n",
    "friends_dict = {\"genre\" : genre , \"seasons\" : seasons , \"episodes\" : episodes , \"stars\" : stars}\n",
    "\n",
    "print(friends_dict)\n",
    "\n",
    "print(\"六人行有 %i 集。\" % friends_dict['episodes'])\n",
    "print(\"演員名稱 %s\" % friends_dict['stars'][3])"
   ]
  },
  {
   "cell_type": "code",
   "execution_count": 69,
   "metadata": {},
   "outputs": [
    {
     "name": "stdout",
     "output_type": "stream",
     "text": [
      "range(0, 101)\n",
      "\n",
      "\n",
      "5050\n",
      "\n",
      "\n",
      "[0, 1]\n",
      "\n",
      "\n",
      "[0, 1, 1, 2, 3, 5, 8, 13, 21, 34, 55, 89, 144, 233, 377, 610, 987, 1597, 2584, 4181]\n"
     ]
    }
   ],
   "source": [
    "number = range(0,101)\n",
    "\n",
    "\n",
    "print(number)\n",
    "print(\"\\n\")\n",
    "\n",
    "\n",
    "a = 0\n",
    "for number in range(0,101):\n",
    "    a = a+number\n",
    "print(a)\n",
    "print(\"\\n\")\n",
    "\n",
    "\n",
    "\n",
    "f1 = 0\n",
    "f2 = 1\n",
    "\n",
    "費氏數列 = [f1 , f2]\n",
    "print(費氏數列)\n",
    "print(\"\\n\")\n",
    "\n",
    "\n",
    "while len(費氏數列) < 20 :\n",
    "    f1, f2 = f2, f1+f2\n",
    "    費氏數列.append(f2)\n",
    "print(費氏數列)"
   ]
  },
  {
   "cell_type": "code",
   "execution_count": 70,
   "metadata": {},
   "outputs": [
    {
     "name": "stdout",
     "output_type": "stream",
     "text": [
      "1.12.1\n",
      "0.20.1\n",
      "2.0.2\n",
      "0.18.1\n"
     ]
    }
   ],
   "source": [
    "import numpy as np\n",
    "import pandas as pd\n",
    "import matplotlib\n",
    "import sklearn\n",
    "\n",
    "print(np.__version__)\n",
    "print(pd.__version__)\n",
    "print(matplotlib.__version__)\n",
    "print(sklearn.__version__)"
   ]
  },
  {
   "cell_type": "code",
   "execution_count": null,
   "metadata": {
    "collapsed": true
   },
   "outputs": [],
   "source": []
  }
 ],
 "metadata": {
  "kernelspec": {
   "display_name": "Python 3",
   "language": "python",
   "name": "python3"
  },
  "language_info": {
   "codemirror_mode": {
    "name": "ipython",
    "version": 3
   },
   "file_extension": ".py",
   "mimetype": "text/x-python",
   "name": "python",
   "nbconvert_exporter": "python",
   "pygments_lexer": "ipython3",
   "version": "3.6.1"
  }
 },
 "nbformat": 4,
 "nbformat_minor": 2
}
