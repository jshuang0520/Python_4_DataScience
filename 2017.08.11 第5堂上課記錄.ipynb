{
 "cells": [
  {
   "cell_type": "code",
   "execution_count": null,
   "metadata": {
    "collapsed": true
   },
   "outputs": [],
   "source": [
    "#類別、物件、屬性與方法的階層關係\n",
    "\n",
    "#類別（Class） :\n",
    "#      物件（Object） : \n",
    "#           1.屬性（Attribute）    2.方法（Method）"
   ]
  },
  {
   "cell_type": "code",
   "execution_count": 3,
   "metadata": {},
   "outputs": [
    {
     "name": "stdout",
     "output_type": "stream",
     "text": [
      "城鎮中心\n",
      "\n",
      "    建築物類別\n",
      "    \n",
      "軍營\n",
      "\n",
      "    建築物類別\n",
      "    \n",
      "修道院\n",
      "\n",
      "    建築物類別\n",
      "    \n"
     ]
    }
   ],
   "source": [
    "#自訂類別（3）\n",
    "#__init__() 方法稱為建構子或者初始化方法\n",
    "#self 就像是 this 的作用，在使用方法時不需要加入\n",
    "#__doc__ 屬性可以看類別說明文件\n",
    "\n",
    "\n",
    "class Building():                               #自訂Building類別     Class 類別()\n",
    "    '''\n",
    "    建築物類別\n",
    "    '''\n",
    "    def __init__(self, name):                   #定義物件初始化方法/函數   def __init__(self, 物件屬性)\n",
    "        self.name = name                                             #       self.屬性 = 屬性\n",
    "\n",
    "town_center = Building(\"城鎮中心\")               #create物件 : town_center  barrack  monastery\n",
    "barrack = Building(\"軍營\")                                #物件 = 類別(\"物件名稱\")\n",
    "monastery = Building(\"修道院\")\n",
    "\n",
    "\n",
    "print(town_center.name)                         #print(物件.屬性)\n",
    "print(town_center.__doc__)\n",
    "\n",
    "print(barrack.name)\n",
    "print(town_center.__doc__)\n",
    "\n",
    "print(monastery.name)\n",
    "print(town_center.__doc__)"
   ]
  },
  {
   "cell_type": "code",
   "execution_count": null,
   "metadata": {
    "collapsed": true
   },
   "outputs": [],
   "source": [
    "#自訂類別（4）\n",
    "#建築物（Building）類別有基本方法為生產：\n",
    "\n",
    "class Building():\n",
    "    '''\n",
    "    建築物類別\n",
    "    '''\n",
    "    def __init__(self, name, unit):                   #__init__為初始化的函數/方法\n",
    "        self.name = name\n",
    "        self.unit = unit\n",
    "    \n",
    "    def create(self):                                 #定義方法 (這裡的例子是，這個方法/函數要印出此物件所有的屬性/資料)\n",
    "        return \"%s生產%s\" %(self.name, self.unit)\n",
    "\n",
    "town_center = Building(\"城鎮中心\", \"村民\")\n",
    "barrack = Building(\"軍營\", \"長劍兵\")\n",
    "monastery = Building(\"修道院\", \"僧侶\")\n",
    "\n",
    "print(town_center.create())\n",
    "print(barrack.create())\n",
    "print(monastery.create())"
   ]
  },
  {
   "cell_type": "code",
   "execution_count": 11,
   "metadata": {},
   "outputs": [
    {
     "name": "stdout",
     "output_type": "stream",
     "text": [
      "類別具有繼承的特性 : Castle類別繼承了母類別 Building類別 的 屬性及方法\n",
      "城堡\n",
      "城堡生產特殊兵種\n",
      "\n",
      "    城堡類別\n",
      "    \n",
      "------------------------------------------\n",
      "城堡\n",
      "\n",
      "\n",
      "類別繼承之後可以改寫方法 : \n",
      "城堡生產特殊兵種與巨型投石車\n",
      "\n",
      "\n",
      "類別繼承之後可以新增方法 : \n",
      "城堡使用弓箭攻擊\n"
     ]
    }
   ],
   "source": [
    "#自訂類別（5）（6）\n",
    "#類別具有繼承的特性                ------>透過class 新類別(母類別)    可以繼承母類別的屬性和方法，\n",
    "#類別繼承之後可以新增或改寫方法                                                          而且可以新增和改寫方法\n",
    "                                             #那想要新增屬性呢? 下一張的super()\n",
    "class Building():\n",
    "    '''\n",
    "    建築物類別\n",
    "    '''\n",
    "    def __init__(self, name, unit):\n",
    "        self.name = name\n",
    "        self.unit = unit\n",
    "    \n",
    "    def create(self):\n",
    "        return \"%s生產%s\" %(self.name, self.unit)\n",
    "\n",
    "class Castle(Building):            #類別具有繼承的特性 (我們class Castle類別 要繼承Building類別)\n",
    "    '''\n",
    "    城堡類別\n",
    "    '''\n",
    "    pass\n",
    "\n",
    "print(\"類別具有繼承的特性 : Castle類別繼承了母類別 Building類別 的 屬性及方法\")\n",
    "castle = Castle(\"城堡\", \"特殊兵種\")\n",
    "print(castle.name)\n",
    "print(castle.create())\n",
    "print(castle.__doc__)\n",
    "\n",
    "\n",
    "\n",
    "print(\"------------------------------------------\")\n",
    "\n",
    "\n",
    "class Building():\n",
    "    '''\n",
    "    建築物類別\n",
    "    '''\n",
    "    def __init__(self, name, unit):\n",
    "        self.name = name\n",
    "        self.unit = unit\n",
    "    \n",
    "    def create(self):\n",
    "        return \"%s生產%s\" %(self.name, self.unit)\n",
    "\n",
    "class Castle(Building):\n",
    "    '''\n",
    "    城堡類別\n",
    "    '''\n",
    "    def create(self):                                           #類別繼承之後可以改寫方法\n",
    "        return \"%s生產%s與巨型投石車\" %(self.name, self.unit)\n",
    "    \n",
    "    def attack(self):                                           #類別繼承之後可以新增方法\n",
    "        return \"%s使用弓箭攻擊\" %(self.name)\n",
    "\n",
    "castle = Castle(\"城堡\", \"特殊兵種\")\n",
    "print(castle.name)\n",
    "print(\"\\n\")\n",
    "print(\"類別繼承之後可以改寫方法 : \")\n",
    "print(castle.create())\n",
    "print(\"\\n\")\n",
    "print(\"類別繼承之後可以新增方法 : \")\n",
    "print(castle.attack())"
   ]
  },
  {
   "cell_type": "code",
   "execution_count": null,
   "metadata": {
    "collapsed": true
   },
   "outputs": [],
   "source": [
    "#自訂類別（7）\n",
    "#使用 super() 繼承母類別的屬性\n",
    "\n",
    "\n",
    "\n",
    "\n",
    "\n"
   ]
  },
  {
   "cell_type": "code",
   "execution_count": 2,
   "metadata": {},
   "outputs": [
    {
     "ename": "IndentationError",
     "evalue": "expected an indented block (<ipython-input-2-2d1621f5ba73>, line 29)",
     "output_type": "error",
     "traceback": [
      "\u001b[1;36m  File \u001b[1;32m\"<ipython-input-2-2d1621f5ba73>\"\u001b[1;36m, line \u001b[1;32m29\u001b[0m\n\u001b[1;33m    super().__init__(name, punch, kick, shock_wave)\u001b[0m\n\u001b[1;37m        ^\u001b[0m\n\u001b[1;31mIndentationError\u001b[0m\u001b[1;31m:\u001b[0m expected an indented block\n"
     ]
    }
   ],
   "source": [
    "#自己練習寫的\n",
    "\n",
    "#隨堂練習（3）\n",
    "#定義一個類別 Goku 繼承 DBFighter，增加原名（Kakarot）、新增龜派氣功方法（Kamehameha），\n",
    "#利用 Goku 建立 goku 物件，印出原名與使用龜派氣功方法\n",
    "\n",
    "class DBFighter():\n",
    "    '''\n",
    "    七龍珠格鬥遊戲\n",
    "    '''\n",
    "    def __init__(self, name):\n",
    "        self.name = name\n",
    "    \n",
    "    def punch(self):\n",
    "        return \"%s使用拳擊！\" % self.name\n",
    "    \n",
    "    def kick(self):\n",
    "        return \"%s使用踢擊！\" % self.name\n",
    "    \n",
    "    def shock_wave(self):\n",
    "        return \"%s使用氣功波！\" % self.name\n",
    "    \n",
    "\n",
    "class Goku(DBFighter):\n",
    "    '''\n",
    "    悟空類別，繼承DBFighter類別\n",
    "    '''    \n",
    "    def __init__(self, name, punch, kick, shock_wave):\n",
    "    super().__init__(name, punch, kick, shock_wave)\n",
    "    self.Kamehameha = Kamehameha\n",
    "    \n",
    "    def Kamehameha(self):\n",
    "        return \"%s使用龜派氣功\" %(self.name)\n",
    "goku = Goku(\"原名\", \"龜派氣功\")\n",
    "print(goku.name)\n",
    "print(goku.punch())\n",
    "print(goku.kick())\n",
    "print(goku.shock_wave())\n",
    "print(goku.Kamehameha())"
   ]
  },
  {
   "cell_type": "code",
   "execution_count": 1,
   "metadata": {},
   "outputs": [
    {
     "ename": "NameError",
     "evalue": "name 'Kakarot' is not defined",
     "output_type": "error",
     "traceback": [
      "\u001b[1;31m---------------------------------------------------------------------------\u001b[0m",
      "\u001b[1;31mNameError\u001b[0m                                 Traceback (most recent call last)",
      "\u001b[1;32m<ipython-input-1-021960ef2f03>\u001b[0m in \u001b[0;36m<module>\u001b[1;34m()\u001b[0m\n\u001b[0;32m     28\u001b[0m     \u001b[1;32mdef\u001b[0m \u001b[0mKamehameha\u001b[0m\u001b[1;33m(\u001b[0m\u001b[0mself\u001b[0m\u001b[1;33m)\u001b[0m\u001b[1;33m:\u001b[0m\u001b[1;33m\u001b[0m\u001b[0m\n\u001b[0;32m     29\u001b[0m         \u001b[1;32mreturn\u001b[0m \u001b[1;34m\"%s使用龜派氣功\"\u001b[0m \u001b[1;33m%\u001b[0m\u001b[1;33m(\u001b[0m\u001b[0mself\u001b[0m\u001b[1;33m.\u001b[0m\u001b[0mname\u001b[0m\u001b[1;33m)\u001b[0m\u001b[1;33m\u001b[0m\u001b[0m\n\u001b[1;32m---> 30\u001b[1;33m \u001b[0mgoku\u001b[0m \u001b[1;33m=\u001b[0m \u001b[0mGoku\u001b[0m\u001b[1;33m(\u001b[0m\u001b[1;34m\"孫悟空\"\u001b[0m\u001b[1;33m,\u001b[0m \u001b[1;34m\"龜派氣功\"\u001b[0m\u001b[1;33m)\u001b[0m                    \u001b[1;31m#在Goku這個類別 做出goku物件， 因為有新增一個屬性original_name，所以不要忘記\u001b[0m\u001b[1;33m\u001b[0m\u001b[0m\n\u001b[0m\u001b[0;32m     31\u001b[0m \u001b[0mprint\u001b[0m\u001b[1;33m(\u001b[0m\u001b[0mgoku\u001b[0m\u001b[1;33m.\u001b[0m\u001b[0mname\u001b[0m\u001b[1;33m)\u001b[0m\u001b[1;33m\u001b[0m\u001b[0m\n\u001b[0;32m     32\u001b[0m \u001b[0mprint\u001b[0m\u001b[1;33m(\u001b[0m\u001b[0mgoku\u001b[0m\u001b[1;33m.\u001b[0m\u001b[0mpunch\u001b[0m\u001b[1;33m(\u001b[0m\u001b[1;33m)\u001b[0m\u001b[1;33m)\u001b[0m\u001b[1;33m\u001b[0m\u001b[0m\n",
      "\u001b[1;32m<ipython-input-1-021960ef2f03>\u001b[0m in \u001b[0;36m__init__\u001b[1;34m(self, name, original_name)\u001b[0m\n\u001b[0;32m     24\u001b[0m     \u001b[1;32mdef\u001b[0m \u001b[0m__init__\u001b[0m\u001b[1;33m(\u001b[0m\u001b[0mself\u001b[0m\u001b[1;33m,\u001b[0m \u001b[0mname\u001b[0m\u001b[1;33m,\u001b[0m \u001b[0moriginal_name\u001b[0m\u001b[1;33m)\u001b[0m\u001b[1;33m:\u001b[0m         \u001b[1;31m#新增original_name這個屬性\u001b[0m\u001b[1;33m\u001b[0m\u001b[0m\n\u001b[0;32m     25\u001b[0m         \u001b[0msuper\u001b[0m\u001b[1;33m(\u001b[0m\u001b[1;33m)\u001b[0m\u001b[1;33m.\u001b[0m\u001b[0m__init__\u001b[0m\u001b[1;33m(\u001b[0m\u001b[0mname\u001b[0m\u001b[1;33m)\u001b[0m\u001b[1;33m\u001b[0m\u001b[0m\n\u001b[1;32m---> 26\u001b[1;33m         \u001b[0mself\u001b[0m\u001b[1;33m.\u001b[0m\u001b[0moriginal_name\u001b[0m \u001b[1;33m=\u001b[0m \u001b[0mKakarot\u001b[0m\u001b[1;33m\u001b[0m\u001b[0m\n\u001b[0m\u001b[0;32m     27\u001b[0m \u001b[1;33m\u001b[0m\u001b[0m\n\u001b[0;32m     28\u001b[0m     \u001b[1;32mdef\u001b[0m \u001b[0mKamehameha\u001b[0m\u001b[1;33m(\u001b[0m\u001b[0mself\u001b[0m\u001b[1;33m)\u001b[0m\u001b[1;33m:\u001b[0m\u001b[1;33m\u001b[0m\u001b[0m\n",
      "\u001b[1;31mNameError\u001b[0m: name 'Kakarot' is not defined"
     ]
    }
   ],
   "source": [
    "#看老師版本修正的\n",
    "\n",
    "class DBFighter():                              #把母類別的定義貼過來\n",
    "    '''\n",
    "    七龍珠格鬥遊戲\n",
    "    '''\n",
    "    def __init__(self, name):                    #name是屬性\n",
    "        self.name = name\n",
    "    \n",
    "    def punch(self):\n",
    "        return \"%s使用拳擊！\" % self.name\n",
    "    \n",
    "    def kick(self):\n",
    "        return \"%s使用踢擊！\" % self.name\n",
    "    \n",
    "    def shock_wave(self):\n",
    "        return \"%s使用氣功波！\" % self.name\n",
    "    \n",
    "\n",
    "class Goku(DBFighter):\n",
    "    '''\n",
    "    悟空類別，繼承DBFighter類別\n",
    "    '''    \n",
    "    def __init__(self, name, original_name):         #新增original_name這個屬性\n",
    "        super().__init__(name)\n",
    "        self.original_name = Kakarot\n",
    "    \n",
    "    def Kamehameha(self):\n",
    "        return \"%s使用龜派氣功\" %(self.name)\n",
    "goku = Goku(\"孫悟空\", \"龜派氣功\")                    #在Goku這個類別 做出goku物件， 因為有新增一個屬性original_name，所以不要忘記\n",
    "print(goku.name)\n",
    "print(goku.punch())\n",
    "print(goku.kick())\n",
    "print(goku.shock_wave())\n",
    "print(goku.Kamehameha())"
   ]
  },
  {
   "cell_type": "code",
   "execution_count": 1,
   "metadata": {},
   "outputs": [
    {
     "name": "stdout",
     "output_type": "stream",
     "text": [
      "貝基塔\n",
      "貝基塔使用終極閃光！\n",
      "Kakarot\n",
      "孫悟空使用龜派氣功！\n"
     ]
    }
   ],
   "source": [
    "#老師INSTACODE\n",
    "\n",
    "#類別、物件、屬性與方法的階層關係\n",
    "#類別（Class） : \n",
    "#   物件（Object） : \n",
    "#         屬性（Attribute）\n",
    "#         方法（Method）\n",
    "\n",
    "#自訂類別 : \n",
    "#__init__() 方法稱為建構子或者初始化方法\n",
    "#self 就像是 this 的作用，在使用方法時不需要加入\n",
    "#__doc__ 屬性可以看類別說明文件\n",
    "\n",
    "\n",
    "class DBFighter():                                    #把母類別的定義貼過來\n",
    "    '''\n",
    "    七龍珠格鬥遊戲\n",
    "    '''                                               \n",
    "    def __init__(self, name):                         #__init__() 方法稱為建構子或者初始化方法\n",
    "        self.name = name                              #name是屬性，self 就像是 this 的作用，在使用方法時不需要加入\n",
    "    \n",
    "    def punch(self):\n",
    "        return \"%s使用拳擊！\" % self.name\n",
    "    \n",
    "    def kick(self):\n",
    "        return \"%s使用踢擊！\" % self.name              #punch  kick  shock_wave 是方法/函數\n",
    "    \n",
    "    def shock_wave(self):\n",
    "        return \"%s使用氣功波！\" % self.name\n",
    "\n",
    "class Goku(DBFighter):\n",
    "    '''\n",
    "    孫悟空類別\n",
    "    '''\n",
    "    def __init__(self, name, original_name):          #在__init__這裡新增屬性original_name\n",
    "        super().__init__(name)\n",
    "        self.original_name = original_name\n",
    "    def kamehameha(self):\n",
    "        return \"%s使用龜派氣功！\" % self.name \n",
    "    \n",
    "class Vegeta(DBFighter):\n",
    "    '''\n",
    "    貝基塔類別\n",
    "    '''\n",
    "    def final_flash(self):\n",
    "        return \"%s使用終極閃光！\" % self.name\n",
    "\n",
    "vegeta = Vegeta(\"貝基塔\")\n",
    "goku = Goku(\"孫悟空\", \"Kakarot\")                       #在Goku這個類別 做出goku物件， 因為有新增一個屬性original_name，所以不要忘記\n",
    "\n",
    "print(vegeta.name)\n",
    "print(vegeta.final_flash())\n",
    "print(goku.original_name)\n",
    "print(goku.kamehameha())"
   ]
  },
  {
   "cell_type": "code",
   "execution_count": 10,
   "metadata": {},
   "outputs": [
    {
     "name": "stdout",
     "output_type": "stream",
     "text": [
      "[  3.      5.     10.     21.     42.195]\n",
      "[  1.986411     3.310685     6.62137     13.904877    27.93887072]\n"
     ]
    }
   ],
   "source": [
    "#Numpy                 \n",
    "\n",
    "#介紹一個新的資料結構ndarray，多維度陣列，可以做元素級別的運算      N, D=dimension , ND代表N個維度--------->想像成N個column\n",
    "\n",
    "#我想一次把這幾個距離從公里換算成英里\n",
    "#km_list = [3, 5, 10, 21, 42.195]\n",
    "#km_to_mile = 0.621371192\n",
    "\n",
    "\n",
    "#python無法做小數的乘法(乘數不能是小數)\n",
    "#而且乘法阿，一個list是可以乘整數，但會保留原本的list，再append結果，最後全部輸出，很不方便\n",
    "\n",
    "#用for迴圈\n",
    "#用map()         :    list(map(lambda()))\n",
    "#我只是要做元素級別的運算，這些也是很麻煩\n",
    "\n",
    "#Numpy 有ndarray!!!!!!!!!!!\n",
    "\n",
    "import numpy as np\n",
    "\n",
    "km_list = [3, 5, 10, 21, 42.195]\n",
    "km_array = np.array(km_list)\n",
    "print(km_array)\n",
    "print(km_array * 0.662137)\n"
   ]
  },
  {
   "cell_type": "code",
   "execution_count": 22,
   "metadata": {},
   "outputs": [
    {
     "name": "stdout",
     "output_type": "stream",
     "text": [
      "[ 21.85171573  20.97505669  21.75028214  24.7473475   21.44127836]\n"
     ]
    }
   ],
   "source": [
    "import numpy as np\n",
    "\n",
    "heights = [173, 168, 171, 189, 179]\n",
    "weights = [65.4, 59.2, 63.6, 88.4, 68.7]\n",
    "\n",
    "heights_array = np.array(heights)\n",
    "weights_array = np.array(weights)\n",
    "\n",
    "\n",
    "\n",
    "print((weights_array)/(heights_array/100)**2)"
   ]
  },
  {
   "cell_type": "code",
   "execution_count": 23,
   "metadata": {
    "collapsed": true
   },
   "outputs": [],
   "source": [
    "#建立 ndarray 的方法\n",
    "#方法\t描述\n",
    "#numpy.array()\t基本的建立\n",
    "\n",
    "#numpy.arange()\t類似 range()                     print(np.arange(0, 10 ,3)) ---->[0, 3, 6, 9]用逗號 ； 可以跳著選!!!!!!!\n",
    "\n",
    "#numpy.linspace()\t建立等距切分的陣列\n",
    "\n",
    "#numpy.ones()\t建立都是 1 的陣列                錯誤版本 : print(np.ones(2, 5))   每一個圖片是__像素*__像素，所以是2維\n",
    "                                         #print(np.ones((2, 5)))才對，因為np.ones(裡面放一個tuple)\n",
    "                                         #維度 :          2 row *5 column\n",
    "    \n",
    "                                               #print(np.ones((3, 2, 4, 1)))\n",
    "                                         #維度 : 3個大array(大區塊)，裡面各有兩個小單位(2個4row*1column矩陣)\n",
    "\n",
    "#numpy.zeros()\t建立都是 0 的陣列\n",
    "\n",
    "#numpy.eye()\t建立單位矩陣\n",
    "\n",
    "#numpy.random.rand()\t建立符合均勻分布的陣列\n",
    "\n",
    "#numpy.random.randn()\t建立符合常態分布的陣列\n",
    "\n",
    "#numpy.random.randint()\t建立隨機整數的陣列\n",
    "\n",
    "\n",
    "\n",
    "\n",
    "\n"
   ]
  },
  {
   "cell_type": "code",
   "execution_count": 3,
   "metadata": {},
   "outputs": [
    {
     "data": {
      "image/png": "[encoded data removed]",
      "text/plain": [
       "<matplotlib.figure.Figure at 0x6ca3090>"
      ]
     },
     "metadata": {},
     "output_type": "display_data"
    }
   ],
   "source": [
    "import numpy as np\n",
    "import matplotlib.pyplot as plt\n",
    "\n",
    "x_arr = np.random.rand(1000)\n",
    "plt.hist(x_arr)                              #做完元件之後\n",
    "plt.show()                                   #再show出來\n"
   ]
  },
  {
   "cell_type": "code",
   "execution_count": 1,
   "metadata": {},
   "outputs": [
    {
     "name": "stdout",
     "output_type": "stream",
     "text": [
      "[ 44 186  96 101  70  37  81 136  66 199]\n"
     ]
    }
   ],
   "source": [
    "import numpy as np\n",
    "\n",
    "x_arr = np.random.randint(1, 200, 10)\n",
    "print(x_arr)"
   ]
  },
  {
   "cell_type": "code",
   "execution_count": 8,
   "metadata": {},
   "outputs": [
    {
     "name": "stdout",
     "output_type": "stream",
     "text": [
      "[-2.         -1.91836735 -1.83673469 -1.75510204 -1.67346939 -1.59183673\n",
      " -1.51020408 -1.42857143 -1.34693878 -1.26530612 -1.18367347 -1.10204082\n",
      " -1.02040816 -0.93877551 -0.85714286 -0.7755102  -0.69387755 -0.6122449\n",
      " -0.53061224 -0.44897959 -0.36734694 -0.28571429 -0.20408163 -0.12244898\n",
      " -0.04081633  0.04081633  0.12244898  0.20408163  0.28571429  0.36734694\n",
      "  0.44897959  0.53061224  0.6122449   0.69387755  0.7755102   0.85714286\n",
      "  0.93877551  1.02040816  1.10204082  1.18367347  1.26530612  1.34693878\n",
      "  1.42857143  1.51020408  1.59183673  1.67346939  1.75510204  1.83673469\n",
      "  1.91836735  2.        ]\n",
      "\n",
      "\n",
      "[[ 1.  0.  0.  0.  0.]\n",
      " [ 0.  1.  0.  0.  0.]\n",
      " [ 0.  0.  1.  0.  0.]\n",
      " [ 0.  0.  0.  1.  0.]\n",
      " [ 0.  0.  0.  0.  1.]]\n",
      "\n",
      "\n",
      "[165 108 120 102 104]\n"
     ]
    }
   ],
   "source": [
    "#建立 ndarray 的方法（11）\n",
    "\n",
    "#練習在 [-2, 2] 之間均分出 50 個數字的數列\n",
    "import numpy as np\n",
    "\n",
    "arr = np.linspace(-2, 2, 50)\n",
    "print(arr)\n",
    "print(\"\\n\")\n",
    "\n",
    "#練習建立一個 (5, 5) 的單位矩陣\n",
    "import numpy as np\n",
    "\n",
    "arr = np.eye(5)\n",
    "print(arr)\n",
    "print(\"\\n\")\n",
    "\n",
    "#練習在隨機產出 5 個介於 100 與 200 之間整數的數列\n",
    "import numpy as np\n",
    "\n",
    "arr = np.random.randint(100, 200, size = 5)\n",
    "print(arr)"
   ]
  },
  {
   "cell_type": "code",
   "execution_count": 11,
   "metadata": {},
   "outputs": [
    {
     "name": "stdout",
     "output_type": "stream",
     "text": [
      "[1 1 1 1 1]\n",
      "int64\n"
     ]
    }
   ],
   "source": [
    "#資料類型\n",
    "#使用 dtype 屬性來指定或檢視\n",
    "#整數 int\n",
    "#int8\n",
    "#int16\n",
    "#int32\n",
    "#int64（預設）\n",
    "\n",
    "\n",
    "import numpy as np\n",
    "\n",
    "arr = np.ones(5 ,dtype = \"int64\")\n",
    "print(arr)\n",
    "print(arr.dtype)\n",
    "\n",
    "\n",
    "\n",
    "#資料類型（5）\n",
    "#使用 dtype 屬性來指定或檢視\n",
    "#文字\n",
    "#string_（一個字元以一個 byte 儲存）\n",
    "#unicode_（預設）\n",
    "\n",
    "#import numpy as np\n",
    "\n",
    "#arr = np.array((\"1\", \"中文\", \"English\")) # 預設為 unicode\n",
    "#print(arr)\n",
    "#print(arr.dtype)\n",
    "#arr = np.array((\"1\", \"English\"), dtype = 'string_') # 中文一個字元要以兩個 byte 儲存，所以不能儲存為 string_\n",
    "#print(arr)\n",
    "#print(arr.dtype)\n",
    "\n",
    "#['1' '中文' 'English']\n",
    "#<U7                                         #所以上面dtype不要亂動ex改成<U5，那會只取5個字母，變成Engli\"而已。他預設都取最長的\n",
    "#[b'1' b'English']\n",
    "#|S7\n"
   ]
  },
  {
   "cell_type": "code",
   "execution_count": null,
   "metadata": {
    "collapsed": true
   },
   "outputs": [],
   "source": [
    "#ndarray 只能容許一個變數類型------uni variable type--------->只有數值的話--優先順序:Complex -> Float -> Iinteger\n",
    "#                                                  -------->有文字的話--優先全部轉成文字\n",
    "#同時儲存有數值，布林值，會被自動轉換為數值\n",
    "#同時儲存有數值，布林值與文字，會被自動轉換為文字\n",
    "\n",
    "\n",
    "#ndarray 只能容許一個變數類型\n",
    "#舉例 : \n",
    "#list[]本來可以儲存多種變數類型嘛，但進入ndarray之後全轉成浮點數，才能做元素級別的運算!!!!!!!!!!!!!!!!!!!!!!!!!!\n",
    "\n"
   ]
  },
  {
   "cell_type": "code",
   "execution_count": 27,
   "metadata": {},
   "outputs": [
    {
     "name": "stdout",
     "output_type": "stream",
     "text": [
      "2\n",
      "\n",
      "\n",
      "[[False False False False False]\n",
      " [ True  True  True  True  True]]\n",
      "[ 6  7  8  9 10]\n",
      "\n",
      "\n",
      "[ 2  4  6  8 10]\n",
      "\n",
      "\n",
      "[ 2  4  6  8 10]\n"
     ]
    }
   ],
   "source": [
    "#選擇 ndarray 的元素（3）\n",
    "import numpy as np\n",
    "\n",
    "arr = np.array([\n",
    "    [1,2,3,4,5],\n",
    "    [6,7,8,9,10]\n",
    "])\n",
    "\n",
    "print(arr[0, 1])       #row=2，所以row有索引值0, 1 ，column=5，所以column有索引值0, 1, 2, 3, 4\n",
    "print(\"\\n\")\n",
    "\n",
    "\n",
    "num_filter = arr > 5\n",
    "print(num_filter)\n",
    "print(arr[num_filter])\n",
    "print(\"\\n\")\n",
    "\n",
    "num_filter = arr % 2 == 0\n",
    "print(arr[num_filter])\n",
    "#map() : 每一個元素應用同一個函數，搭配lambda\n",
    "#上面的效果就跟numpy一樣\n",
    "print(\"\\n\")\n",
    "\n",
    "\n",
    "print(arr[arr % 2 == 0])"
   ]
  },
  {
   "cell_type": "code",
   "execution_count": 25,
   "metadata": {},
   "outputs": [
    {
     "ename": "ValueError",
     "evalue": "The truth value of an array with more than one element is ambiguous. Use a.any() or a.all()",
     "output_type": "error",
     "traceback": [
      "\u001b[1;31m---------------------------------------------------------------------------\u001b[0m",
      "\u001b[1;31mValueError\u001b[0m                                Traceback (most recent call last)",
      "\u001b[1;32m<ipython-input-25-8a8d8d63e45c>\u001b[0m in \u001b[0;36m<module>\u001b[1;34m()\u001b[0m\n\u001b[0;32m      7\u001b[0m \u001b[0marr\u001b[0m \u001b[1;33m=\u001b[0m \u001b[0mnp\u001b[0m\u001b[1;33m.\u001b[0m\u001b[0marray\u001b[0m\u001b[1;33m(\u001b[0m\u001b[0mage\u001b[0m\u001b[1;33m)\u001b[0m\u001b[1;33m\u001b[0m\u001b[0m\n\u001b[0;32m      8\u001b[0m \u001b[1;33m\u001b[0m\u001b[0m\n\u001b[1;32m----> 9\u001b[1;33m \u001b[0mage_filter\u001b[0m \u001b[1;33m=\u001b[0m \u001b[1;33m(\u001b[0m\u001b[1;36m20\u001b[0m \u001b[1;33m<\u001b[0m \u001b[0marr\u001b[0m \u001b[1;33m<\u001b[0m \u001b[1;36m30\u001b[0m\u001b[1;33m)\u001b[0m\u001b[1;33m\u001b[0m\u001b[0m\n\u001b[0m\u001b[0;32m     10\u001b[0m \u001b[0mprint\u001b[0m\u001b[1;33m(\u001b[0m\u001b[0mage_filter\u001b[0m\u001b[1;33m)\u001b[0m\u001b[1;33m\u001b[0m\u001b[0m\n\u001b[0;32m     11\u001b[0m \u001b[0mprint\u001b[0m\u001b[1;33m(\u001b[0m\u001b[0marr\u001b[0m\u001b[1;33m[\u001b[0m\u001b[0mage_filter\u001b[0m\u001b[1;33m]\u001b[0m\u001b[1;33m)\u001b[0m\u001b[1;33m\u001b[0m\u001b[0m\n",
      "\u001b[1;31mValueError\u001b[0m: The truth value of an array with more than one element is ambiguous. Use a.any() or a.all()"
     ]
    }
   ],
   "source": [
    "#選擇 ndarray 的元素（5）\n",
    "#練習選出未滿 20 與超過 30 的元素\n",
    "\n",
    "#bug\n",
    "\n",
    "import numpy as np\n",
    "\n",
    "age = [19, 21, 20, 19, 21, 17, 30, 36, 90]\n",
    "arr = np.array(age)\n",
    "\n",
    "age_filter = 20 < arr and arr > 30\n",
    "print(age_filter)\n",
    "print(arr[age_filter])"
   ]
  },
  {
   "cell_type": "code",
   "execution_count": null,
   "metadata": {
    "collapsed": true
   },
   "outputs": [],
   "source": [
    "#選擇 ndarray 的元素（6）\n",
    "#練習從五人中選出 BMI > 21 的元素\n",
    "\n",
    "import numpy as np\n",
    "\n",
    "heights = [173, 168, 171, 189, 179]\n",
    "weights = [65.4, 59.2, 63.6, 88.4, 68.7]\n",
    "\n",
    "heights_array = np.array(heights)\n",
    "weights_array = np.array(weights)\n",
    "\n",
    "\n",
    "\n",
    "print((weights_array)/(heights_array/100)**2)"
   ]
  },
  {
   "cell_type": "code",
   "execution_count": 39,
   "metadata": {},
   "outputs": [
    {
     "name": "stdout",
     "output_type": "stream",
     "text": [
      "[19 19 17 36 90]\n",
      "[ 21.85171573  21.75028214  24.7473475   21.44127836]\n",
      "['Lisa Kudrow' 'Matthew Perry']\n",
      "[False False  True False  True False]\n"
     ]
    }
   ],
   "source": [
    "#選擇 ndarray 的元素（5）\n",
    "#練習選出未滿 20 與超過 30 的元素\n",
    "\n",
    "#老師版\n",
    "\n",
    "import numpy as np\n",
    "\n",
    "age = np.array([19, 21, 20, 19, 21, 17, 30, 36, 90])\n",
    "print(age[(age < 20) | (age > 30)])            #要用小括號括起來! (age < 20) ，不能寫or，只能用 |，或在python原生語法是np.bitwise_or\n",
    "\n",
    "\n",
    "#選擇 ndarray 的元素（6）\n",
    "#練習從五人中選出 BMI > 21 的元素\n",
    "\n",
    "#老師版\n",
    "\n",
    "\n",
    "heights = np.array([173, 168, 171, 189, 179])\n",
    "weights = np.array([65.4, 59.2, 63.6, 88.4, 68.7])\n",
    "BMI = weights / (heights / 100)**2\n",
    "print(BMI[BMI > 21])\n",
    "\n",
    "\n",
    "\n",
    "\n",
    "\n",
    "#練習使用布林選出 Matthew Perry 與 Lisa Kudrow\n",
    "friends_stars = np.array([\"Jennifer Aniston\", \"Courteney Cox\", \"Lisa Kudrow\",\n",
    "\"Matt LeBlanc\", \"Matthew Perry\", \"David Schwimmer\"])\n",
    "\n",
    "print(friends_stars[(friends_stars == \"Lisa Kudrow\") | (friends_stars == \"Matthew Perry\")])\n",
    "print(np.in1d(friends_stars, [\"Lisa Kudrow\", \"Matthew Perry\"]))    #不能用in，在numpy要改用in1d\n",
    "\n"
   ]
  },
  {
   "cell_type": "code",
   "execution_count": 40,
   "metadata": {},
   "outputs": [
    {
     "name": "stdout",
     "output_type": "stream",
     "text": [
      "[19 19 17 36 90]\n",
      "[19 19 17 36 90]\n",
      "[ 21.85171573  21.75028214  24.7473475   21.44127836]\n",
      "['Lisa Kudrow' 'Matthew Perry']\n",
      "['Lisa Kudrow' 'Matthew Perry']\n"
     ]
    }
   ],
   "source": [
    "#INSTACODE\n",
    "import numpy as np\n",
    "\n",
    "age = np.array([19, 21, 20, 19, 21, 17, 30, 36, 90])\n",
    "print(age[(age < 20) | (age > 30)])\n",
    "print(age[np.bitwise_or(age < 20, age > 30)])\n",
    "\n",
    "heights = np.array([173, 168, 171, 189, 179])\n",
    "weights = np.array([65.4, 59.2, 63.6, 88.4, 68.7])\n",
    "bmis = weights / (heights / 100)**2\n",
    "print(bmis[bmis > 21])\n",
    "\n",
    "friends_stars = np.array([\"Jennifer Aniston\", \"Courteney Cox\", \"Lisa Kudrow\",\n",
    "\"Matt LeBlanc\", \"Matthew Perry\", \"David Schwimmer\"])\n",
    "print(friends_stars[(friends_stars == \"Lisa Kudrow\") | (friends_stars == \"Matthew Perry\")])\n",
    "print(friends_stars[np.in1d(friends_stars, [\"Lisa Kudrow\", \"Matthew Perry\"])])\n",
    "\n"
   ]
  }
 ],
 "metadata": {
  "kernelspec": {
   "display_name": "Python 3",
   "language": "python",
   "name": "python3"
  },
  "language_info": {
   "codemirror_mode": {
    "name": "ipython",
    "version": 3
   },
   "file_extension": ".py",
   "mimetype": "text/x-python",
   "name": "python",
   "nbconvert_exporter": "python",
   "pygments_lexer": "ipython3",
   "version": "3.6.1"
  }
 },
 "nbformat": 4,
 "nbformat_minor": 2
}
