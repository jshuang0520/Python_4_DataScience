{
 "cells": [
  {
   "cell_type": "code",
   "execution_count": 15,
   "metadata": {},
   "outputs": [
    {
     "name": "stdout",
     "output_type": "stream",
     "text": [
      "captain          Monkey D. Luffy\n",
      "sniper                     Usopp\n",
      "archaeologist         Nico Robin\n",
      "dtype: object\n",
      "\n",
      "\n",
      "navigator              Nami\n",
      "archaeologist    Nico Robin\n",
      "dtype: object\n"
     ]
    }
   ],
   "source": [
    "import pandas as pd\n",
    "\n",
    "crew_dict = {\n",
    "    \"captain\": \"Monkey D. Luffy\",\n",
    "    \"swordsman\": \"Roronoa Zoro\",\n",
    "    \"navigator\": \"Nami\",\n",
    "    \"sniper\": \"Usopp\",\n",
    "    \"chef\": \"Vinsmoke Sanji\",\n",
    "    \"doctor\": \"Tony Tony Chopper\",\n",
    "    \"archaeologist\": \"Nico Robin\",\n",
    "    \"shipwright\": \"Franky\",\n",
    "    \"musician\": \"Brook\"\n",
    "}\n",
    "ser = pd.Series(crew_dict, index = crew_dict.keys()) # 排序與原 dict 相同\n",
    "\n",
    "print(ser[['captain', 'sniper', 'archaeologist']])\n",
    "print(\"\\n\")\n",
    "name_filter = ser.isin((\"Nami\", \"Nico Robin\"))\n",
    "print(ser[name_filter])"
   ]
  },
  {
   "cell_type": "code",
   "execution_count": 19,
   "metadata": {},
   "outputs": [
    {
     "name": "stdout",
     "output_type": "stream",
     "text": [
      "<class 'pandas.core.frame.DataFrame'>\n",
      "   age  is_male               name\n",
      "0   19     True    Monkey D. Luffy\n",
      "1   21     True       Roronoa Zoro\n",
      "2   20    False               Nami\n",
      "3   19     True              Usopp\n",
      "4   21     True     Vinsmoke Sanji\n",
      "5   17     True  Tony Tony Chopper\n",
      "6   30    False         Nico Robin\n",
      "7   36     True             Franky\n",
      "8   90     True              Brook\n"
     ]
    }
   ],
   "source": [
    "import pandas as pd\n",
    "\n",
    "straw_hat_dict = {\"name\": [\"Monkey D. Luffy\", \"Roronoa Zoro\", \"Nami\", \"Usopp\", \"Vinsmoke Sanji\", \"Tony Tony Chopper\", \"Nico Robin\", \"Franky\", \"Brook\"],\n",
    "                  \"age\": [19, 21, 20, 19, 21, 17, 30, 36, 90],\n",
    "                  \"is_male\": [True, True, False, True, True, True, False, True, True]\n",
    "}\n",
    "\n",
    "df = pd.DataFrame(straw_hat_dict) # 欄標籤預設排序\n",
    "print(type(df))\n",
    "print(df)"
   ]
  },
  {
   "cell_type": "code",
   "execution_count": 36,
   "metadata": {},
   "outputs": [
    {
     "name": "stdout",
     "output_type": "stream",
     "text": [
      "[['20' 'False']\n",
      " ['19' 'True']\n",
      " ['21' 'True']\n",
      " ['17' 'True']\n",
      " ['30' 'False']\n",
      " ['36' 'True']\n",
      " ['90' 'True']]\n"
     ]
    },
    {
     "data": {
      "text/html": [
       "<div>\n",
       "<style>\n",
       "    .dataframe thead tr:only-child th {\n",
       "        text-align: right;\n",
       "    }\n",
       "\n",
       "    .dataframe thead th {\n",
       "        text-align: left;\n",
       "    }\n",
       "\n",
       "    .dataframe tbody tr th {\n",
       "        vertical-align: top;\n",
       "    }\n",
       "</style>\n",
       "<table border=\"1\" class=\"dataframe\">\n",
       "  <thead>\n",
       "    <tr style=\"text-align: right;\">\n",
       "      <th></th>\n",
       "      <th>name</th>\n",
       "      <th>age</th>\n",
       "      <th>is_male</th>\n",
       "    </tr>\n",
       "  </thead>\n",
       "  <tbody>\n",
       "    <tr>\n",
       "      <th>0</th>\n",
       "      <td>Monkey D. Luffy</td>\n",
       "      <td>19</td>\n",
       "      <td>True</td>\n",
       "    </tr>\n",
       "    <tr>\n",
       "      <th>1</th>\n",
       "      <td>Roronoa Zoro</td>\n",
       "      <td>21</td>\n",
       "      <td>True</td>\n",
       "    </tr>\n",
       "    <tr>\n",
       "      <th>2</th>\n",
       "      <td>Nami</td>\n",
       "      <td>20</td>\n",
       "      <td>False</td>\n",
       "    </tr>\n",
       "    <tr>\n",
       "      <th>3</th>\n",
       "      <td>Usopp</td>\n",
       "      <td>19</td>\n",
       "      <td>True</td>\n",
       "    </tr>\n",
       "    <tr>\n",
       "      <th>4</th>\n",
       "      <td>Vinsmoke Sanji</td>\n",
       "      <td>21</td>\n",
       "      <td>True</td>\n",
       "    </tr>\n",
       "    <tr>\n",
       "      <th>5</th>\n",
       "      <td>Tony Tony Chopper</td>\n",
       "      <td>17</td>\n",
       "      <td>True</td>\n",
       "    </tr>\n",
       "    <tr>\n",
       "      <th>6</th>\n",
       "      <td>Nico Robin</td>\n",
       "      <td>30</td>\n",
       "      <td>False</td>\n",
       "    </tr>\n",
       "    <tr>\n",
       "      <th>7</th>\n",
       "      <td>Franky</td>\n",
       "      <td>36</td>\n",
       "      <td>True</td>\n",
       "    </tr>\n",
       "    <tr>\n",
       "      <th>8</th>\n",
       "      <td>Brook</td>\n",
       "      <td>90</td>\n",
       "      <td>True</td>\n",
       "    </tr>\n",
       "  </tbody>\n",
       "</table>\n",
       "</div>"
      ],
      "text/plain": [
       "                name age is_male\n",
       "0    Monkey D. Luffy  19    True\n",
       "1       Roronoa Zoro  21    True\n",
       "2               Nami  20   False\n",
       "3              Usopp  19    True\n",
       "4     Vinsmoke Sanji  21    True\n",
       "5  Tony Tony Chopper  17    True\n",
       "6         Nico Robin  30   False\n",
       "7             Franky  36    True\n",
       "8              Brook  90    True"
      ]
     },
     "execution_count": 36,
     "metadata": {},
     "output_type": "execute_result"
    }
   ],
   "source": [
    "import numpy as np\n",
    "import pandas as pd\n",
    "\n",
    "arr = np.array([\n",
    "    [\"Monkey D. Luffy\", 19, True],\n",
    "    [\"Roronoa Zoro\", 21, True],\n",
    "    [\"Nami\", 20, False],\n",
    "    [\"Usopp\", 19, True],\n",
    "    [\"Vinsmoke Sanji\", 21, True],\n",
    "    [\"Tony Tony Chopper\", 17, True],\n",
    "    [\"Nico Robin\", 30, False],\n",
    "    [\"Franky\", 36, True],\n",
    "    [\"Brook\", 90, True]\n",
    "])\n",
    "\n",
    "print(arr[2:,1:])\n",
    "df = pd.DataFrame(arr, columns = [\"name\", \"age\", \"is_male\"])\n",
    "df"
   ]
  }
 ],
 "metadata": {
  "kernelspec": {
   "display_name": "Python 3",
   "language": "python",
   "name": "python3"
  },
  "language_info": {
   "codemirror_mode": {
    "name": "ipython",
    "version": 3
   },
   "file_extension": ".py",
   "mimetype": "text/x-python",
   "name": "python",
   "nbconvert_exporter": "python",
   "pygments_lexer": "ipython3",
   "version": "3.6.1"
  }
 },
 "nbformat": 4,
 "nbformat_minor": 2
}
