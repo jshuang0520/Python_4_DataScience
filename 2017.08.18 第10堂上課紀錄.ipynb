{
 "cells": [
  {
   "cell_type": "code",
   "execution_count": 5,
   "metadata": {},
   "outputs": [
    {
     "data": {
      "image/png": "[encoded data removed]",
      "text/plain": [
       "<matplotlib.figure.Figure at 0x91e49b0>"
      ]
     },
     "metadata": {},
     "output_type": "display_data"
    }
   ],
   "source": [
    "#決策樹\n",
    "#好解釋的分類器\n",
    "#用不同的門檻值切分變數\n",
    "\n",
    "#以最大化資訊增益值為目標  (已經不是用成本函數來衡量了)\n",
    "# \"節點\"\n",
    "\n",
    "#IG(Dp)=I(Dp)−NleftNpI(Dleft)−NrightNpI(Dright)\n",
    "#母節點的資訊增益值-左邊子節點的資訊增益值-右邊子節點的資訊增益值\n",
    "\n",
    "#決策樹（5）\n",
    "#             A\n",
    "#          母節點\n",
    "#         (40, 40)\n",
    "#  (30, 10)      (10, 30)\n",
    "#  左子節點       右子節點        (如果把左40當成一類，右40當成另外一類。其實A分類器分得不好 : 因為沒有把左邊或右邊任何一類分乾淨)\n",
    "\n",
    "#             B\n",
    "#          母節點\n",
    "#         (40, 40)\n",
    "#  (20, 40)      (20, 0)\n",
    "#  左子節點       右子節點        (如果把左40當成一類，右40當成另外一類。其實B分類器分得不錯 : 因為把左右邊那一類分得很乾淨)\n",
    "\n",
    "\n",
    "\n",
    "\n",
    "#decision_tree.py\n",
    "\n",
    "from sklearn import datasets\n",
    "from sklearn.model_selection import train_test_split\n",
    "from sklearn.tree import DecisionTreeClassifier\n",
    "from matplotlib.colors import ListedColormap\n",
    "import matplotlib.pyplot as plt\n",
    "import numpy as np\n",
    "\n",
    "# 決策區域圖\n",
    "def plot_decision_region(X, y, classifier, resolution = 0.02):\n",
    "    markers = ('o', 'x', '^')\n",
    "    colors = ('red', 'green', 'blue')\n",
    "    cmap = ListedColormap(colors[:len(np.unique(y))])\n",
    "\n",
    "    x1_min, x1_max = X[:, 0].min() - 1, X[:, 0].max() + 1\n",
    "    x2_min, x2_max = X[:, 1].min() - 1, X[:, 1].max() + 1\n",
    "    xx1, xx2 = np.meshgrid(np.arange(x1_min, x1_max, resolution), np.arange(x2_min, x2_max, resolution))\n",
    "    Z = classifier.predict(np.array([xx1.ravel(), xx2.ravel()]).T)\n",
    "    Z = Z.reshape(xx1.shape)\n",
    "    plt.contourf(xx1, xx2, Z, alpha = 0.3, cmap = cmap)\n",
    "    plt.xlim(xx1.min(), xx1.max())\n",
    "    plt.ylim(xx2.min(), xx2.max())\n",
    "    for idx, cl in enumerate(np.unique(y)):\n",
    "        plt.scatter(x = X[y == cl, 0], y = X[y == cl, 1], c = cmap(idx), marker = markers[idx], label = cl)\n",
    "\n",
    "iris = datasets.load_iris()\n",
    "X = iris.data[:, 2:] # 花瓣長度與花瓣寬度\n",
    "y = iris.target\n",
    "X_train, X_test, y_train, y_test = train_test_split(X, y, test_size = 0.3)\n",
    "tree = DecisionTreeClassifier(criterion = \"entropy\", max_depth = 10)    #參數max_depth調得越高，越容易出現over fitting\n",
    "tree.fit(X_train, y_train)\n",
    "plot_decision_region(X = X, y = y, classifier = tree)\n",
    "plt.show()\n",
    "\n",
    "\n",
    "\n",
    "\n",
    "\n",
    "#Logistic Regression 調 lambda(alpha)\n",
    "#SVM 調 gamma\n",
    "#決策樹 調 max_depth   decision boundary : 用哪一個變數的門檻值去分類，可以讓資訊增益值最大，我就用這個值當作decision boundary\n",
    "#決策樹沒有θ^T x\n",
    "#K最近鄰沒有θ^T x\n",
    "#那些參數調得越高，越容易出現over fitting\n",
    "\n",
    "#以 http://yaojenkuo.io/python_4_ds/ch12.slides.html#/6/8 的圖來說\n",
    "#門檻值就是紅色直的切下來一刀、藍的橫切一刀、藍的直切一刀\n",
    "\n",
    "\n",
    "\n",
    "#如果X的feature很多，不只是兩個的話，那就沒有辦法用視覺化的方式呈現decision boundary，就只能用accuracy來判斷這個模型表現好不好\n",
    "\n",
    "\n"
   ]
  },
  {
   "cell_type": "code",
   "execution_count": null,
   "metadata": {
    "collapsed": true
   },
   "outputs": [],
   "source": [
    "#分群問題（6）\n",
    "#K-means 分群方法的成本函數\n",
    "#c:分群的索引值\n",
    "#c:分群的索引值\n",
    "#μk:不同分群的中心點\n",
    "#μk:不同分群的中心點\n",
    "#μc:計算距離後收斂的不同分群中心點\n",
    "#μc:計算距離後收斂的不同分群中心點\n",
    "#minimize:J(c,μk)=1m∑i=1m(xi−μc)2\n",
    "\n",
    "#分群問題（7）\n",
    "#K-means 演算的方式\n",
    "\n",
    "#K-means會迭代!!\n",
    "#圖(B) : 一開始 \"隨便\" 放兩個XX\n",
    "#圖(C) : 距離紅XX較近的綠色點都漆成紅色，距離藍XX較近的綠色點都漆成藍色\n",
    "#圖(D) : 把目前紅色的中心點當作新的紅XX，把目前藍色的中心點當作新的藍XX，然後迭代，一直做下去\n",
    "#K-means 分群方法的成本函數    minimize:J(c,μk)=1m∑i=1m(xi−μc)2\n",
    "\n",
    "\n",
    "\n",
    "#分群問題（8）\n",
    "#初始 K 個中心點的位置對結果有決定性的影響\n",
    "#那怎麼解決? 就一開始的\"隨便\" 放兩個XX有這麼決定性影響的話，那就\"一開始\"的那個流程多做幾次阿，多跑幾次結果，最後再挑成本最小的那個\n",
    "#亦即分群問題（9）\n",
    "#透過多進行幾次初始化 K 個中心點的位置來進行校正\n",
    "#從多次的分群中選擇一個 J(c,μk)J(c,μk) 最小的分群\n",
    "\n",
    "#分群問題（10）\n",
    "#如何選擇一個合適的 K？\n",
    "\n",
    "#性別（2 群）\n",
    "#血型（4 群）\n",
    "#星座（12 群）\n",
    "#出生月日（366 群）\n",
    "#DNA（75+ 億群）\n",
    "\n",
    "#我要分群(內差異小、組間差異大) ， 同時又要節省成本\n",
    "#每次我有n筆資料，你把資料分成n群，當然是最符合內差異小、組間差異大。 但我也很不滿意阿，這樣哪有省到成本，還要找你來分群幹嘛\n",
    "\n",
    "#那怎麼挑要分成幾類呢?\n",
    "#找邊際效益開始銳減那附近的Elbow point(不至於到邊際效益為負的地方)     利用陡坡圖（Scree plot）尋找手肘點（Elbow point）\n",
    "#肘點(指由坡度變為較平緩的轉折點)\n",
    "\n",
    "\n"
   ]
  },
  {
   "cell_type": "code",
   "execution_count": null,
   "metadata": {
    "collapsed": true
   },
   "outputs": [],
   "source": [
    "#Kaggle 機器學習競賽（3）\n",
    "#流程：\n",
    "#步驟 \t內容\n",
    "#第一步\t暸解資料外觀與內容\n",
    "#第二步\t資料預處理\n",
    "#第三步\t分類器\n",
    "#第四步\t預測、模型評估\n",
    "#第五步\t應用預測資料\n",
    "#第六步\t上傳\n",
    "\n",
    "\n",
    "#暸解資料外觀與內容\n",
    "\n",
    "\n",
    "#做好資料預處理 (feature engineering / pre-processing)\n",
    "# 1. 填補遺漏值 : Embarked, Age\n",
    "# 2. 把類別變數化成dummy variables  (類別標籤編碼轉換（使用 One-hot encoding） :  Sex,  Embarked)\n",
    "#確定training data沒有遺漏值\n",
    "\n",
    "\n",
    "#選定分類器\n",
    "\n",
    "\n",
    "#module建立好，\n",
    "#做好test data資料預處理，再確定test data沒有遺漏值\n",
    "\n",
    "\n",
    "#那就去預測吧!\n",
    "#然後要把資料整理好，符合kaggle要求的格式\n",
    "\n",
    "#第一次上傳吧!"
   ]
  },
  {
   "cell_type": "code",
   "execution_count": 10,
   "metadata": {},
   "outputs": [
    {
     "name": "stdout",
     "output_type": "stream",
     "text": [
      "PassengerId      0\n",
      "Survived         0\n",
      "Pclass           0\n",
      "Name             0\n",
      "Sex              0\n",
      "Age            177\n",
      "SibSp            0\n",
      "Parch            0\n",
      "Ticket           0\n",
      "Fare             0\n",
      "Cabin          687\n",
      "Embarked         2\n",
      "dtype: int64\n"
     ]
    }
   ],
   "source": [
    "#kaggle競賽\n",
    "#第一步\t暸解資料外觀與內容\n",
    "\n",
    "\n",
    "\n",
    "import pandas as pd\n",
    "\n",
    "train_url = \"https://storage.googleapis.com/py_ml_datasets/train.csv\"\n",
    "train = pd.read_csv(train_url)\n",
    "train.head()\n",
    "# print(train.isnull())  #做遺漏值判斷\n",
    "# print(train.isnull().sum())  #加總起來就知道遺漏值有幾個\n"
   ]
  },
  {
   "cell_type": "code",
   "execution_count": 20,
   "metadata": {},
   "outputs": [
    {
     "name": "stdout",
     "output_type": "stream",
     "text": [
      "0    468\n",
      "1    109\n",
      "Name: Survived, dtype: int64\n",
      "\n",
      "\n",
      "1    233\n",
      "0     81\n",
      "Name: Survived, dtype: int64\n",
      "\n",
      "\n",
      "因為本來男生女生的乘客數量就不一樣，所以改看比例\n",
      "0    0.811092\n",
      "1    0.188908\n",
      "Name: Survived, dtype: float64\n",
      "\n",
      "\n",
      "0    0.257962\n",
      "1    0.742038\n",
      "Name: Survived, dtype: float64\n",
      "\n",
      "\n"
     ]
    },
    {
     "data": {
      "image/png": "[encoded data removed]",
      "text/plain": [
       "<matplotlib.figure.Figure at 0xc29ed10>"
      ]
     },
     "metadata": {},
     "output_type": "display_data"
    }
   ],
   "source": [
    "#性別 : 男性 VS 女性 的存活比例\n",
    "\n",
    "print(train.Survived[train.Sex == 'male'].value_counts())\n",
    "print(\"\\n\")\n",
    "print(train.Survived[train.Sex == 'female'].value_counts())\n",
    "print(\"\\n\")\n",
    "\n",
    "\n",
    "print(\"因為本來男生女生的乘客數量就不一樣，所以改看比例\")\n",
    "\n",
    "print(train.Survived[train.Sex == 'male'].value_counts(normalize =True))\n",
    "print(\"\\n\")\n",
    "print(train.Survived[train.Sex == 'female'].value_counts(normalize =True, sort = False))\n",
    "print(\"\\n\")\n",
    "\n",
    "\n",
    "\n",
    "\n",
    "\n",
    "import numpy as np\n",
    "import matplotlib.pyplot as plt\n",
    "\n",
    "def bar_plotting(lst_1, lst_2, group_1, group_2):\n",
    "    N = len(lst_1)\n",
    "    ind = np.arange(N)\n",
    "    width = 0.35\n",
    "    fig, ax = plt.subplots()\n",
    "    rects1 = ax.bar(ind, lst_1, width, color='r')\n",
    "    rects2 = ax.bar(ind + width, lst_2, width, color='g')\n",
    "    ax.set_xticks(ind + width / 2)\n",
    "    ax.set_xticklabels((0, 1))\n",
    "    ax.set_xlabel(\"Survived\")\n",
    "    ax.set_ylabel('Survived Percentage')\n",
    "    ax.legend((rects1[0], rects2[0]), (group_1, group_2))\n",
    "\n",
    "male_survived = list(train.Survived[train.Sex == 'male'].value_counts(normalize = True, sort = False))\n",
    "female_survived = list(train.Survived[train.Sex == 'female'].value_counts(normalize = True, sort = False))\n",
    "bar_plotting(male_survived, female_survived, 'Men', 'Women')\n",
    "plt.title('Survived Percentage by Gender')\n",
    "plt.show()"
   ]
  },
  {
   "cell_type": "code",
   "execution_count": 23,
   "metadata": {},
   "outputs": [
    {
     "name": "stdout",
     "output_type": "stream",
     "text": [
      "0    0.460177\n",
      "1    0.539823\n",
      "Name: Survived, dtype: float64\n",
      "\n",
      "\n",
      "0    0.623377\n",
      "1    0.376623\n",
      "Name: Survived, dtype: float64\n",
      "\n",
      "\n"
     ]
    },
    {
     "data": {
      "image/png": "[encoded data removed]",
      "text/plain": [
       "<matplotlib.figure.Figure at 0xc32a250>"
      ]
     },
     "metadata": {},
     "output_type": "display_data"
    }
   ],
   "source": [
    "#年紀 : 小孩(<18) VS 成人(>=18) 的存活比例\n",
    "\n",
    "child = pd.Series(np.empty(train.shape[0]))\n",
    "train.Child = child\n",
    "age_filter_under_18 = train.Age < 18\n",
    "age_filter_above_18 = train.Age >= 18\n",
    "train.Child[age_filter_under_18] = 1\n",
    "train.Child[age_filter_above_18] = 0\n",
    "print(train.Survived[train.Child == 1].value_counts(normalize = True, sort = False))\n",
    "print(\"\\n\")\n",
    "print(train.Survived[train.Child == 0].value_counts(normalize = True, sort = False))\n",
    "print(\"\\n\")\n",
    "\n",
    "\n",
    "\n",
    "child_survived = list(train.Survived[train.Child == 1].value_counts(normalize = True, sort = False))\n",
    "adult_survived = list(train.Survived[train.Child == 0].value_counts(normalize = True, sort = False))\n",
    "\n",
    "bar_plotting(child_survived, adult_survived, 'Children', 'Adults')\n",
    "plt.title('Survived Percentage by Age')\n",
    "plt.show()"
   ]
  },
  {
   "cell_type": "code",
   "execution_count": null,
   "metadata": {
    "collapsed": true
   },
   "outputs": [],
   "source": [
    "#模擬一下決策樹分類器，怎麼分這891筆資料? 怎麼分誰會死亡，誰不會死亡?\n",
    "#看一個變數 : 性別sex  --> 看到女性-分成1 會存活這一類，看到男性-分成0 會死亡這一類\n",
    "#看一個變數 : 年紀     --> 看到小孩-分成1 會存活這一類，看到成人-分成0 會死亡這一類\n",
    "#那如果今天有測試資料 : 又是男性又是成人 --> 八九不離十，分類器會分成0 會死亡這一類"
   ]
  },
  {
   "cell_type": "code",
   "execution_count": 27,
   "metadata": {},
   "outputs": [
    {
     "name": "stdout",
     "output_type": "stream",
     "text": [
      "S    644\n",
      "C    168\n",
      "Q     77\n",
      "Name: Embarked, dtype: int64\n",
      "0\n",
      "0\n"
     ]
    },
    {
     "data": {
      "text/html": [
       "<div>\n",
       "<style>\n",
       "    .dataframe thead tr:only-child th {\n",
       "        text-align: right;\n",
       "    }\n",
       "\n",
       "    .dataframe thead th {\n",
       "        text-align: left;\n",
       "    }\n",
       "\n",
       "    .dataframe tbody tr th {\n",
       "        vertical-align: top;\n",
       "    }\n",
       "</style>\n",
       "<table border=\"1\" class=\"dataframe\">\n",
       "  <thead>\n",
       "    <tr style=\"text-align: right;\">\n",
       "      <th></th>\n",
       "      <th>Sex_female</th>\n",
       "      <th>Sex_male</th>\n",
       "      <th>Embarked_C</th>\n",
       "      <th>Embarked_Q</th>\n",
       "      <th>Embarked_S</th>\n",
       "    </tr>\n",
       "  </thead>\n",
       "  <tbody>\n",
       "    <tr>\n",
       "      <th>0</th>\n",
       "      <td>0</td>\n",
       "      <td>1</td>\n",
       "      <td>0</td>\n",
       "      <td>0</td>\n",
       "      <td>1</td>\n",
       "    </tr>\n",
       "    <tr>\n",
       "      <th>1</th>\n",
       "      <td>1</td>\n",
       "      <td>0</td>\n",
       "      <td>1</td>\n",
       "      <td>0</td>\n",
       "      <td>0</td>\n",
       "    </tr>\n",
       "    <tr>\n",
       "      <th>2</th>\n",
       "      <td>1</td>\n",
       "      <td>0</td>\n",
       "      <td>0</td>\n",
       "      <td>0</td>\n",
       "      <td>1</td>\n",
       "    </tr>\n",
       "    <tr>\n",
       "      <th>3</th>\n",
       "      <td>1</td>\n",
       "      <td>0</td>\n",
       "      <td>0</td>\n",
       "      <td>0</td>\n",
       "      <td>1</td>\n",
       "    </tr>\n",
       "    <tr>\n",
       "      <th>4</th>\n",
       "      <td>0</td>\n",
       "      <td>1</td>\n",
       "      <td>0</td>\n",
       "      <td>0</td>\n",
       "      <td>1</td>\n",
       "    </tr>\n",
       "  </tbody>\n",
       "</table>\n",
       "</div>"
      ],
      "text/plain": [
       "   Sex_female  Sex_male  Embarked_C  Embarked_Q  Embarked_S\n",
       "0           0         1           0           0           1\n",
       "1           1         0           1           0           0\n",
       "2           1         0           0           0           1\n",
       "3           1         0           0           0           1\n",
       "4           0         1           0           0           1"
      ]
     },
     "execution_count": 27,
     "metadata": {},
     "output_type": "execute_result"
    }
   ],
   "source": [
    "#第二步\t資料預處理\n",
    "\n",
    "\n",
    "#資料預處理 (feature engineering / pre-processing)\n",
    "\n",
    "#   (這一項其實不太算是預處理)  X 不要納入編號（PassengerId, Ticket）、姓名（Name）與遺漏值過多的變數（Cabin） : 沒辦法把這些拿去預測Y\n",
    "# 1. 填補遺漏值 : Embarked, Age\n",
    "# 2. 把類別變數化成dummy variables  (類別標籤編碼轉換（使用 One-hot encoding） :  Sex,  Embarked)\n",
    "\n",
    "#-------------------------------------------------------------------------------------------------------------\n",
    "\n",
    "\n",
    "# 1. 填補遺漏值 : Embarked, Age\n",
    "\n",
    "# Embarked 的遺漏值都以 \"S\" 填補\n",
    "train_url = \"https://storage.googleapis.com/py_ml_datasets/train.csv\"\n",
    "train = pd.read_csv(train_url)\n",
    "print(train.Embarked.value_counts())\n",
    "most_embarked = train.Embarked.value_counts().index[0]\n",
    "train.Embarked = train.Embarked.fillna(most_embarked)\n",
    "print(sum(train.Embarked.isnull()))\n",
    "\n",
    "\n",
    "# Age 的遺漏值以中位數填補\n",
    "age_median = train.Age.median()\n",
    "train.Age = train.Age.fillna(age_median)\n",
    "print(sum(train.Age.isnull()))\n",
    "\n",
    "# train.isnull().sum()     填補遺漏值之後先來確認是否還有沒填補到的\n",
    "\n",
    "\n",
    "\n",
    "\n",
    "\n",
    "\n",
    "\n",
    "\n",
    "\n",
    "\n",
    "# 2. 把類別變數化成dummy variables  (類別標籤編碼轉換（使用 One-hot encoding） :  Sex,  Embarked)\n",
    "\n",
    "\n",
    "# 使用 one-hot encoding 進行類別標籤編碼轉換\n",
    "train_sex_embarked_dummies = pd.get_dummies(train.loc[:, [\"Sex\", \"Embarked\"]])\n",
    "train_sex_embarked_ohe = train_sex_embarked_dummies.values.astype(float)  #透過.values先換成ndarray，因為後面都要ndarray跑計算\n",
    "train_sex_embarked_dummies.head()\n",
    "\n",
    "\n"
   ]
  },
  {
   "cell_type": "code",
   "execution_count": 29,
   "metadata": {},
   "outputs": [
    {
     "data": {
      "text/plain": [
       "DecisionTreeClassifier(class_weight=None, criterion='entropy', max_depth=None,\n",
       "            max_features=None, max_leaf_nodes=None,\n",
       "            min_impurity_split=1e-07, min_samples_leaf=1,\n",
       "            min_samples_split=2, min_weight_fraction_leaf=0.0,\n",
       "            presort=False, random_state=87, splitter='best')"
      ]
     },
     "execution_count": 29,
     "metadata": {},
     "output_type": "execute_result"
    }
   ],
   "source": [
    "#第三步\t分類器\n",
    "\n",
    "\n",
    "#分類器\n",
    "#決策樹分類器\n",
    "\n",
    "\n",
    "\n",
    "\n",
    "from sklearn import tree\n",
    "\n",
    "# 整理 features 跟 target\n",
    "train_features = np.hstack((train.loc[:, [\"Pclass\", \"Age\", \"SibSp\", \"Parch\", \"Fare\"]].values, train_sex_embarked_ohe))\n",
    "target = train.Survived.values\n",
    "\n",
    "# 建立模型\n",
    "tree_clf = tree.DecisionTreeClassifier(criterion = 'entropy', random_state = 87)\n",
    "tree_clf.fit(train_features, target)\n"
   ]
  },
  {
   "cell_type": "code",
   "execution_count": 30,
   "metadata": {},
   "outputs": [
    {
     "name": "stdout",
     "output_type": "stream",
     "text": [
      "[ 0.08141882  0.29239577  0.02738117  0.01737284  0.30813586  0.23919358\n",
      "  0.          0.02053509  0.00339779  0.01016907]\n",
      "0.979797979798\n"
     ]
    }
   ],
   "source": [
    "#第四步\t預測、模型評估\n",
    "\n",
    "\n",
    "#預測、模型評估\n",
    "\n",
    "\n",
    "\n",
    "\n",
    "print(tree_clf.feature_importances_)\n",
    "print(tree_clf.score(train_features, target))"
   ]
  },
  {
   "cell_type": "code",
   "execution_count": 34,
   "metadata": {},
   "outputs": [
    {
     "name": "stdout",
     "output_type": "stream",
     "text": [
      "(418, 11)\n",
      "PassengerId      int64\n",
      "Pclass           int64\n",
      "Name            object\n",
      "Sex             object\n",
      "Age            float64\n",
      "SibSp            int64\n",
      "Parch            int64\n",
      "Ticket          object\n",
      "Fare           float64\n",
      "Cabin           object\n",
      "Embarked        object\n",
      "dtype: object\n",
      "PassengerId      0\n",
      "Pclass           0\n",
      "Name             0\n",
      "Sex              0\n",
      "Age             86\n",
      "SibSp            0\n",
      "Parch            0\n",
      "Ticket           0\n",
      "Fare             1\n",
      "Cabin          327\n",
      "Embarked         0\n",
      "dtype: int64\n",
      "0\n",
      "0\n",
      "[0 0 0 1 1 0 0 0 0 0 0 0 1 0 1 1 0 1 1 0 1 1 1 1 1 0 1 1 1 0 0 0 1 0 1 1 1\n",
      " 0 0 1 0 1 0 1 1 0 0 0 1 1 0 0 1 0 1 0 0 0 0 1 0 0 0 1 1 0 0 0 0 1 1 0 0 0\n",
      " 1 0 0 0 0 1 1 0 0 0 0 0 1 0 1 1 1 1 0 0 0 0 1 1 1 1 1 0 0 0 1 0 0 0 1 0 0\n",
      " 1 1 0 1 1 0 1 1 1 1 0 1 0 0 1 0 1 0 0 1 0 0 0 0 0 0 0 0 0 0 1 1 0 0 0 0 0\n",
      " 1 0 1 0 0 1 0 0 1 0 0 0 1 1 1 1 0 1 1 0 0 0 0 0 0 0 0 1 1 1 1 1 0 0 1 0 1\n",
      " 0 1 0 0 0 0 0 1 1 1 0 1 0 0 1 1 1 0 1 0 0 0 0 1 0 0 0 0 1 0 0 1 0 1 0 1 0\n",
      " 1 1 1 0 0 1 0 0 0 1 1 0 1 0 1 1 1 1 1 1 0 0 0 0 1 0 1 0 1 0 0 0 0 0 0 0 1\n",
      " 0 0 0 1 1 0 0 1 0 1 0 1 0 1 1 0 1 0 0 0 0 0 1 1 0 0 0 0 0 0 0 0 0 0 0 0 0\n",
      " 0 0 0 0 1 0 0 0 1 1 0 1 0 0 0 1 0 0 1 1 1 0 0 0 0 0 0 1 1 0 1 0 0 0 1 0 0\n",
      " 1 0 0 0 0 0 0 0 0 0 1 0 1 0 0 0 1 1 0 0 0 0 0 1 0 0 1 0 1 1 1 1 0 0 1 1 1\n",
      " 0 1 0 0 1 1 0 0 0 0 0 0 1 1 0 1 0 0 0 0 1 1 0 0 0 1 0 1 0 0 1 0 1 0 0 1 0\n",
      " 0 1 1 1 1 0 0 1 0 0 0]\n"
     ]
    }
   ],
   "source": [
    "#第五步\t應用預測資料\n",
    "\n",
    "\n",
    "\n",
    "#應用預測資料\n",
    "\n",
    "\n",
    "\n",
    "test_url = \"https://storage.googleapis.com/py_ml_datasets/test.csv\"\n",
    "test = pd.read_csv(test_url)\n",
    "test.head(3)\n",
    "\n",
    "\n",
    "#少了變數Y嘛，就是少了存活與否的那個變數\n",
    "\n",
    "\n",
    "\n",
    "print(test.shape)\n",
    "print(test.dtypes)\n",
    "\n",
    "\n",
    "\n",
    "print(test.isnull().sum())\n",
    "#再檢查test data的遺漏值\n",
    "#Age             86\n",
    "#Fare             1\n",
    "#Cabin          327\n",
    "\n",
    "\n",
    "# Age 的遺漏值以中位數填補\n",
    "age_median = test.Age.median()\n",
    "test.Age = test.Age.fillna(age_median)\n",
    "print(sum(test.Age.isnull()))\n",
    "\n",
    "# Fare 的遺漏值以平均數填補\n",
    "fare_median = test.Fare.median()\n",
    "test.Fare = test.Fare.fillna(fare_median)\n",
    "print(sum(test.Fare.isnull()))\n",
    "\n",
    "# 使用 one-hot encoding 進行類別標籤編碼轉換\n",
    "test_sex_embarked_dummies = pd.get_dummies(test.loc[:, [\"Sex\", \"Embarked\"]])\n",
    "test_sex_embarked_ohe = test_sex_embarked_dummies.values.astype(float)\n",
    "test_sex_embarked_dummies.head()\n",
    "\n",
    "\n",
    "# 整理 test_features\n",
    "test_features = np.hstack((test.loc[:, [\"Pclass\", \"Age\", \"SibSp\", \"Parch\", \"Fare\"]].values, test_sex_embarked_ohe))\n",
    "\n",
    "# 預估\n",
    "predictions = tree_clf.predict(test_features)\n",
    "print(predictions)"
   ]
  },
  {
   "cell_type": "code",
   "execution_count": 36,
   "metadata": {},
   "outputs": [
    {
     "name": "stdout",
     "output_type": "stream",
     "text": [
      "     Survived\n",
      "892         0\n",
      "893         0\n",
      "894         0\n",
      "895         1\n",
      "896         1\n",
      "(418, 1)\n"
     ]
    }
   ],
   "source": [
    "#第六步\t上傳\n",
    "\n",
    "\n",
    "\n",
    "\n",
    "\n",
    "#module建立好，\n",
    "\n",
    "#做好資料預處理 (feature engineering / pre-processing)\n",
    "# 1. 填補遺漏值 : Embarked, Age\n",
    "# 2. 把類別變數化成dummy variables  (類別標籤編碼轉換（使用 One-hot encoding） :  Sex,  Embarked)\n",
    "\n",
    "#確定沒有遺漏值\n",
    "\n",
    "#那就去預測吧!\n",
    "#然後要把資料整理好，符合kaggle要求的格式\n",
    "\n",
    "#第一次上傳吧!\n",
    "PassengerId =np.array(test[\"PassengerId\"]).astype(int)\n",
    "my_solution = pd.DataFrame(predictions, PassengerId, columns = [\"Survived\"])\n",
    "print(my_solution.head())\n",
    "print(my_solution.shape)\n",
    "my_solution.to_csv(\"my_first_solution.csv\", index_label = [\"PassengerId\"])"
   ]
  },
  {
   "cell_type": "code",
   "execution_count": null,
   "metadata": {
    "collapsed": true
   },
   "outputs": [],
   "source": [
    "#第二次嘗試\n",
    "\n",
    "#這次調整分類器裡面的參數(Parameter)\n",
    "\n",
    "#分類器\n",
    "#設定決策樹的參數：\n",
    "#max_depth                  (max_depth第一次採用預設，預設值是大到把你資料分類分乾淨為止)\n",
    "#min_samples_split          (至少幾個觀測值以上，才能做門檻切分) \n",
    "\n",
    "#調 max_depth,  min_samples_split -->都是為了不要過度配適 over fitting   \n",
    "\n",
    "\n",
    "\n",
    "#再作一次prediction，就上傳    (因為就像在做實驗，一次只調整一個變因，這次調整分類器裡面的參數(Parameter))"
   ]
  },
  {
   "cell_type": "code",
   "execution_count": null,
   "metadata": {
    "collapsed": true
   },
   "outputs": [],
   "source": [
    "#第三次嘗試\n",
    "\n",
    "#這次調變數(Feature)，新增了一個變數family_size\n",
    "\n",
    "\n",
    "\n",
    "#資料預處理\n",
    "#將 SibSp 與 Parch 相加再加 1（自己）成為 family_size\n",
    "\n",
    "#那在training data做資料預處理，多了變數family_size\n",
    "#同樣tset data 也要做資料預處理，新增變數family_size\n",
    "\n",
    "\n",
    "#再作一次prediction，就上傳    (因為就像在做實驗，一次只調整一個變因，這次調變數(Feature)，新增了一個變數family_size)"
   ]
  },
  {
   "cell_type": "code",
   "execution_count": null,
   "metadata": {
    "collapsed": true
   },
   "outputs": [],
   "source": [
    "#第四次嘗試\n",
    "\n",
    "#整體學習\n",
    "#將數個分類器的預測結果綜合考慮\n",
    "\n",
    "\n",
    "#前題 : 以一題是非題來說!!!!!!!!!!!!!!!!!!!\n",
    "#以一題是非題來說，假如我們使用一個銅板來決定答案要填是還是非，答對的機率是 50%\n",
    "#使用兩個銅板來決定答案，答對的機率是 1−(50%)^2=75%1−(50%)2=75%，如果銅板的數目來到 5 枚，答對的機率是 1−(50%)^5=96.875%\n",
    "\n",
    "\n",
    "\n",
    "#training data長這樣  :  (891, 12)        891筆資料，(11個變數 + 1個想要預測的那個變數)\n",
    "\n",
    "            \n",
    "#        11    np.random.randint(1, 11, size = n)\n",
    "#     _______\n",
    "#     |     |     \n",
    "#     |     |   891    np.random.randint(1, 891, size = m)\n",
    "#     |     |\n",
    "#     -------\n",
    "\n",
    "\n",
    "#random forest : random在m個觀測值，n個feature\n",
    "\n",
    "# 用(m1, n1), 藉此來建立第一棵決策樹tree(1st)，其中m1<=891, n1<=11\n",
    "# 用(m2, n2), 藉此來建立第一棵決策樹tree(2nd)，其中m2<=891, n2<=11\n",
    "#..........\n",
    "\n",
    "\n",
    "#             xi  \n",
    "#tree(1st)    0\n",
    "#tree(2nd)    1         -->假設結果總共有 \"0\" : 51個， \"1\" : 49個\n",
    "#...         ...\n",
    "#tree(100)    1\n",
    "\n",
    "\n",
    "\n",
    "\n"
   ]
  },
  {
   "cell_type": "code",
   "execution_count": null,
   "metadata": {
    "collapsed": true
   },
   "outputs": [],
   "source": [
    "#調整方向:\n",
    "#*Parameter : lambda(alpha) , n_estimators , gamma , ...\n",
    "#*Features  : meaningful features    (多數時間都在feature engineering : 填補遺漏值 、 dummy variables)\n",
    "#*Model     : SVM , RF , LR , ... "
   ]
  },
  {
   "cell_type": "code",
   "execution_count": null,
   "metadata": {
    "collapsed": true
   },
   "outputs": [],
   "source": [
    "#電信公司很流行 \n",
    "# churn model -  0 : stay\n",
    "#                1 : churn(6個月後non-buy) 或(np)\n",
    "\n",
    "#現實生活中不像kaggle一樣可以對答案，適有過去資料可以對阿，但生活中以這個為例，就真的要等6個月後才能印證我這模型做得準不準"
   ]
  },
  {
   "cell_type": "markdown",
   "metadata": {},
   "source": [
    "先在上面調成Markdown而不是code模式\n",
    "\n",
    "## Titanic\n"
   ]
  },
  {
   "cell_type": "code",
   "execution_count": null,
   "metadata": {
    "collapsed": true
   },
   "outputs": [],
   "source": [
    "#網站  dribble         -->做profolio!!\n",
    "\n",
    "#網站 github  -->可以作profolio!管理，因為他可以直接秀jupyter notebook的內容\n",
    "#ipynb\n",
    "\n",
    "\n",
    "#reveal.js     (以ml_intro.ipynb這個檔案為例)\n",
    "#在資料夾下指令 jupyter nbtconvert --to slides ml_intro.ipynb --reveal-prefix=reveal.js\n",
    "#open\n",
    "\n",
    "\n",
    "\n",
    "\n",
    "#網路搜尋jupyter nbtconvert"
   ]
  },
  {
   "cell_type": "code",
   "execution_count": null,
   "metadata": {
    "collapsed": true
   },
   "outputs": [],
   "source": [
    "#Career\n",
    "#data analyst     中等\n",
    "#     engineering 程式中要\n",
    "#     scientist   數學重要\n",
    "\n",
    "\n",
    "#研究所的話 : 可以念computer science (CS) 再找裡面的data science (DS)組"
   ]
  },
  {
   "cell_type": "code",
   "execution_count": null,
   "metadata": {
    "collapsed": true
   },
   "outputs": [],
   "source": [
    "#是不是作數據分析只分成兩塊\n",
    "#變數是\n",
    "\n",
    "#數值         或 類別\n",
    "\n",
    "#迴歸(正規化) 或 分類器"
   ]
  }
 ],
 "metadata": {
  "kernelspec": {
   "display_name": "Python 3",
   "language": "python",
   "name": "python3"
  },
  "language_info": {
   "codemirror_mode": {
    "name": "ipython",
    "version": 3
   },
   "file_extension": ".py",
   "mimetype": "text/x-python",
   "name": "python",
   "nbconvert_exporter": "python",
   "pygments_lexer": "ipython3",
   "version": "3.6.1"
  }
 },
 "nbformat": 4,
 "nbformat_minor": 2
}
