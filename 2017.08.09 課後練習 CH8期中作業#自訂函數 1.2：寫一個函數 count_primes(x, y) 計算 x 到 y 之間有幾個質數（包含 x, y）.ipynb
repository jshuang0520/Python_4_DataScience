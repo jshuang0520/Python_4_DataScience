{
 "cells": [
  {
   "cell_type": "code",
   "execution_count": 17,
   "metadata": {},
   "outputs": [
    {
     "name": "stdout",
     "output_type": "stream",
     "text": [
      "在閉區間[0 , 101]中，共有 26 個質數。\n"
     ]
    }
   ],
   "source": [
    "#CH8期中作業#自訂函數 1.2：寫一個函數 count_primes(x, y) 計算 x 到 y 之間有幾個質數（包含 x, y）\n",
    "#運用1.1改寫的函式\n",
    "x = 0               #必須要在呼叫函數(這裡使用print)之前，宣告好input。  為了顯眼起見放到最前面，就確定一定是在呼叫函數之前宣告好輸入值\n",
    "y = 101\n",
    "def is_prime(x) :\n",
    "    try :\n",
    "        if x <= 0 :\n",
    "            return False\n",
    "        elif x == 1 :\n",
    "            return False\n",
    "        elif x == 2 :\n",
    "            return True\n",
    "        else :\n",
    "            for a in range(2, x) :\n",
    "                while x % a == 0 :\n",
    "                    return False\n",
    "                    break\n",
    "        return True\n",
    "    except :\n",
    "        return False \n",
    "#1.2開始 - step1 : 定義一個函數來數質數個數     \n",
    "def count_primes_1(x) :\n",
    "    '''\n",
    "    檢視在你所輸入的數以內，共有幾個質數\n",
    "    '''\n",
    "    prime_list = []   \n",
    "    for i in range(1, x+1) :\n",
    "        if is_prime(i) == True :\n",
    "            prime_list.append(i)\n",
    "    return len(prime_list) \n",
    "#         step2 : 寫一個函數 count_primes(x, y) 計算 x 到 y 之間有幾個質數（包含 x, y）\n",
    "def count_primes(x, y) :\n",
    "    '''\n",
    "    檢視在你所輸入的[x,y]閉區間內，共有幾個質數\n",
    "    '''    \n",
    "    return count_primes_2(y) - count_primes_1(x)\n",
    "                                                                  #debug心得 : 必須要在呼叫函數(這裡是使用print)之前，宣告好input\n",
    "                                                                     #不然python會顯示說，诶，我要呼叫這個函數準備輸出了，但你沒輸入\n",
    "print(\"在閉區間[%s , %s]中，共有 %s 個質數。\" % (x, y, count_primes(x, y)))  #python會找不到變數!!!\n",
    "  "
   ]
  },
  {
   "cell_type": "code",
   "execution_count": 14,
   "metadata": {},
   "outputs": [
    {
     "name": "stdout",
     "output_type": "stream",
     "text": [
      "在閉區間[0 , 3]中，共有 2 個質數。\n",
      "在閉區間[0 , 10]中，共有 4 個質數。\n",
      "在閉區間[3 , 10]中，共有 2 個質數。\n"
     ]
    }
   ],
   "source": [
    "#CH8期中作業#自訂函數 1.2：寫一個函數 count_primes(x, y) 計算 x 到 y 之間有幾個質數（包含 x, y）\n",
    "\n",
    "#運用1.1改寫的函式\n",
    "\n",
    "x = 3\n",
    "y = 10\n",
    "\n",
    "def is_prime(x) :\n",
    "    try :\n",
    "        if x <= 0 :\n",
    "            return False\n",
    "        elif x == 1 :\n",
    "            return False\n",
    "        elif x == 2 :\n",
    "            return True\n",
    "        else :\n",
    "            for a in range(2, x) :\n",
    "                while x % a == 0 :\n",
    "                    return False\n",
    "                    break\n",
    "        return True\n",
    "    except :\n",
    "        return False \n",
    "\n",
    "#1.2開始 - step1 : 定義一個函數     \n",
    "def count_primes_1(x) :\n",
    "    '''\n",
    "    檢視在你所輸入的數以內，共有幾個質數\n",
    "    '''\n",
    "    prime_list = []   \n",
    "    for i in range(1, x+1) :\n",
    "        if is_prime(i) == True :\n",
    "            prime_list.append(i)\n",
    "    return len(prime_list)\n",
    "\n",
    "print(\"在閉區間[0 , %s]中，共有 %s 個質數。\" % (x, count_primes_1(x)))\n",
    "\n",
    "def count_primes_2(y) :\n",
    "    '''\n",
    "    檢視在你所輸入的數以內，共有幾個質數\n",
    "    '''\n",
    "    prime_list = []   \n",
    "    for i in range(1, y+1) :\n",
    "        if is_prime(i) == True :\n",
    "            prime_list.append(i)\n",
    "    return len(prime_list)\n",
    "\n",
    "print(\"在閉區間[0 , %s]中，共有 %s 個質數。\" % (y, count_primes_2(y)))\n",
    "\n",
    "def count_primes(x, y) :\n",
    "    '''\n",
    "    檢視在你所輸入的[x,y]閉區間內，共有幾個質數\n",
    "    '''    \n",
    "    return count_primes_2(y) - count_primes_1(x)\n",
    "\n",
    "\n",
    "print(\"在閉區間[%s , %s]中，共有 %s 個質數。\" % (x, y, count_primes(x, y)))\n",
    "  "
   ]
  },
  {
   "cell_type": "code",
   "execution_count": null,
   "metadata": {
    "collapsed": true
   },
   "outputs": [],
   "source": []
  },
  {
   "cell_type": "code",
   "execution_count": 5,
   "metadata": {},
   "outputs": [
    {
     "name": "stdout",
     "output_type": "stream",
     "text": [
      "False\n"
     ]
    }
   ],
   "source": [
    "def is_prime(x) :\n",
    "    try :\n",
    "        if x <= 0 :\n",
    "            return False\n",
    "        elif x == 1 :\n",
    "            return False\n",
    "        elif x == 2 :\n",
    "            return True\n",
    "        else :\n",
    "            for a in range(2, x) :\n",
    "                while x % a == 0 :\n",
    "                    return False\n",
    "                    break\n",
    "        return True\n",
    "    except :\n",
    "        return False \n",
    "\n",
    "print(is_prime(x))\n",
    "x = 10"
   ]
  },
  {
   "cell_type": "code",
   "execution_count": 3,
   "metadata": {},
   "outputs": [
    {
     "name": "stdout",
     "output_type": "stream",
     "text": [
      "([2, 3, 5, 7, 11, 13], 6)\n"
     ]
    }
   ],
   "source": [
    "def list_and_count_primes(x) :\n",
    "    '''\n",
    "    檢視在你所輸入的數以內，共有幾個質數\n",
    "    '''\n",
    "    prime_list = []   \n",
    "    for i in range(1, x+1) :\n",
    "        if is_prime(i) == True :\n",
    "            prime_list.append(i)\n",
    "    return prime_list, len(prime_list)\n",
    "print(list_and_count_primes(x))\n",
    "\n",
    "x = 15"
   ]
  },
  {
   "cell_type": "code",
   "execution_count": 4,
   "metadata": {},
   "outputs": [
    {
     "name": "stdout",
     "output_type": "stream",
     "text": [
      "True\n",
      "----------------\n",
      "[2, 3, 5, 7, 11, 13, 17, 19, 23, 29, 31, 37, 41, 43, 47, 53, 59, 61, 67, 71, 73, 79, 83, 89, 97, 101]\n",
      "26\n"
     ]
    }
   ],
   "source": [
    "def is_prime(x) :\n",
    "    '''\n",
    "    這是一個自訂函數，用來判斷輸入的正整數是否為質數\n",
    "    '''\n",
    "    try :\n",
    "        if x <= 0 :\n",
    "            return False\n",
    "        elif x == 1 :\n",
    "            return False\n",
    "        elif x == 2 :\n",
    "            return True\n",
    "        else :\n",
    "            for a in range(2, x) :\n",
    "                while x % a == 0 :\n",
    "                    return False\n",
    "                    break\n",
    "        return True\n",
    "    except :\n",
    "            return False \n",
    "print(is_prime(11))\n",
    "\n",
    "\n",
    "\n",
    "\n",
    "print(\"----------------\")\n",
    "#以下實驗成功!!!#以下實驗成功!!!#以下實驗成功!!!#以下實驗成功!!!#以下實驗成功!!!#以下實驗成功!!!#以下實驗成功!!!#以下實驗成功!!!\n",
    "\n",
    "\n",
    "\n",
    "x = 101\n",
    "\n",
    "prime_list = []\n",
    "for i in range(1, x+1) :\n",
    "    if is_prime(i) == True :\n",
    "        prime_list.append(i)\n",
    "print(prime_list)\n",
    "print(len(prime_list))\n",
    "\n",
    "#以上實驗成功!!!#以上實驗成功!!!#以上實驗成功!!!#以上實驗成功!!!#以上實驗成功!!!#以上實驗成功!!!#以上實驗成功!!!#以上實驗成功!!!"
   ]
  },
  {
   "cell_type": "code",
   "execution_count": 37,
   "metadata": {},
   "outputs": [
    {
     "name": "stdout",
     "output_type": "stream",
     "text": [
      "None\n"
     ]
    }
   ],
   "source": [
    "#自訂函數 1.2：寫一個函數 count_primes(x, y) 計算 x 到 y 之間有幾個質數（包含 x, y）\n",
    "\n",
    "#想法:再定義函數，分別計算x和y內共有幾個質數，最後再相減就是這個自訂函數需要的\n",
    "def is_prime(x) :\n",
    "    '''\n",
    "    這是一個自訂函數，用來判斷輸入的正整數是否為質數\n",
    "    '''\n",
    "    try :\n",
    "        if x <= 0 :\n",
    "            return False\n",
    "        elif x == 1 :\n",
    "            return False\n",
    "        elif x == 2 :\n",
    "            return True\n",
    "        else :\n",
    "            for a in range(2, x) :\n",
    "                while x % a == 0 :\n",
    "                    return False\n",
    "                    break\n",
    "        return True\n",
    "    except :\n",
    "            return False \n",
    "        \n",
    "def count_primes(x) :\n",
    "    prime_list=[2]\n",
    "    if is_prime(x) == True :\n",
    "        prime_list.append(x)\n",
    "    else :\n",
    "        None\n",
    "    return len(prime_list)\n",
    "\n",
    "\n",
    "\n",
    "x = 3            \n",
    "y = 4 \n",
    "\n",
    "def count_primes(x, y) :\n",
    "    '''\n",
    "    這是一個自訂函數，用來計算在此[x,y]閉區間內，共有幾個質數，其中，x小於等於y\n",
    "    '''\n",
    "    try :\n",
    "        x<=y\n",
    "        return count_primes(y)-count_primes(x)\n",
    "    except :\n",
    "        None\n",
    "        \n",
    "print(count_primes(x, y))"
   ]
  },
  {
   "cell_type": "code",
   "execution_count": 14,
   "metadata": {},
   "outputs": [
    {
     "ename": "IndentationError",
     "evalue": "expected an indented block (<ipython-input-14-ed89bc082f17>, line 7)",
     "output_type": "error",
     "traceback": [
      "\u001b[1;36m  File \u001b[1;32m\"<ipython-input-14-ed89bc082f17>\"\u001b[1;36m, line \u001b[1;32m7\u001b[0m\n\u001b[1;33m    '''\u001b[0m\n\u001b[1;37m       \n^\u001b[0m\n\u001b[1;31mIndentationError\u001b[0m\u001b[1;31m:\u001b[0m expected an indented block\n"
     ]
    }
   ],
   "source": [
    "#自訂函數 1.2：寫一個函數 count_primes(x, y) 計算 x 到 y 之間有幾個質數（包含 x, y）\n",
    "\n",
    "def count_primes(x, y) :\n",
    "    def is_prime(x) :\n",
    "    '''\n",
    "    這是一個自訂函數，用來判斷輸入的正整數是否為質數\n",
    "    '''\n",
    "        try :\n",
    "            if x <= 0 :\n",
    "                return False\n",
    "            elif x == 1 :\n",
    "                return False\n",
    "            elif x == 2 :\n",
    "                return True\n",
    "            else :\n",
    "                for a in range(2, x) :\n",
    "                    while x % a == 0 :\n",
    "                        return False\n",
    "                        break\n",
    "            return True\n",
    "        except :\n",
    "                return False \n",
    "    \n",
    "    def count_primes(x) :\n",
    "        prime_list=[]\n",
    "        if is_prime(x) == True :\n",
    "            prime_list.append(x)\n",
    "        else :\n",
    "            None\n",
    "        return len(prime_list)\n",
    "    print(count_primes(10))\n",
    "        \n",
    "        \n",
    "        \n",
    "        \n",
    "        \n",
    "        \n",
    "        \n",
    "        \n",
    "    \n",
    "\n",
    "    \n",
    "    \n",
    "    "
   ]
  },
  {
   "cell_type": "code",
   "execution_count": 63,
   "metadata": {
    "scrolled": false
   },
   "outputs": [
    {
     "name": "stdout",
     "output_type": "stream",
     "text": [
      "您所輸入的是-1.000000。不好意思，請輸入正整數!\n",
      "您所輸入的是-1.200000。不好意思，請輸入正整數!\n",
      "您所輸入的是0.000000。不好意思，請輸入正整數!\n",
      "您所輸入的是0.200000。不好意思，請輸入正整數!\n",
      "1既不是質數，也不是合數!\n",
      "2是質數\n",
      "您所輸入的是2.200000。不好意思，請輸入正整數!\n",
      "3是質數\n",
      "4不是質數喔!\n",
      "5是質數\n",
      "6不是質數喔!\n",
      "7是質數\n",
      "8不是質數喔!\n",
      "9是質數\n",
      "10不是質數喔!\n",
      "15是質數\n",
      "21是質數\n",
      "83是質數\n",
      "89是質數\n",
      "97是質數\n",
      "101是質數\n",
      "1000000000000不是質數喔!\n",
      "1000000000001是質數\n"
     ]
    }
   ],
   "source": [
    "#bug\n",
    "#自訂函數 1.1：寫一個判斷輸入的正整數是否為質數的函數 is_prime()\n",
    "def is_prime(x) :\n",
    "    '''\n",
    "    這是一個自訂函數，用來判斷輸入的正整數是否為質數\n",
    "    '''\n",
    "    try :\n",
    "        if x <= 0 :\n",
    "            return \"您所輸入的是%f。不好意思，請輸入正整數!\" % x\n",
    "        elif x == 1 :\n",
    "            return \"1既不是質數，也不是合數!\" \n",
    "        elif x == 2 :\n",
    "            return \"2是質數\"\n",
    "        elif x :\n",
    "            for a in range(2, x) :\n",
    "                if x % a == 0 :\n",
    "                    return \"%i不是質數喔!\" % x  \n",
    "                else : \n",
    "                    return \"%i是質數\" % x     \n",
    "        else :\n",
    "            return \"您所輸入的是%f。不好意思，請輸入正整數!\" % x\n",
    "    except :\n",
    "            return \"您所輸入的是%f。不好意思，請輸入正整數!\" % x\n",
    "print(is_prime(-1))\n",
    "print(is_prime(-1.2)) \n",
    "print(is_prime(0))\n",
    "print(is_prime(0.2))    \n",
    "print(is_prime(1))    \n",
    "print(is_prime(2))\n",
    "print(is_prime(2.2)) \n",
    "print(is_prime(3))\n",
    "print(is_prime(4))\n",
    "print(is_prime(5))\n",
    "print(is_prime(6))\n",
    "print(is_prime(7))\n",
    "print(is_prime(8))\n",
    "print(is_prime(9))\n",
    "print(is_prime(10))\n",
    "print(is_prime(15))\n",
    "print(is_prime(21))\n",
    "print(is_prime(83))\n",
    "print(is_prime(89))\n",
    "print(is_prime(97))\n",
    "print(is_prime(101))\n",
    "print(is_prime(1000000000000))\n",
    "print(is_prime(1000000000001))\n"
   ]
  },
  {
   "cell_type": "code",
   "execution_count": 40,
   "metadata": {},
   "outputs": [
    {
     "ename": "NameError",
     "evalue": "name 'is_prime' is not defined",
     "output_type": "error",
     "traceback": [
      "\u001b[1;31m---------------------------------------------------------------------------\u001b[0m",
      "\u001b[1;31mNameError\u001b[0m                                 Traceback (most recent call last)",
      "\u001b[1;32m<ipython-input-40-2a0fd15f9c3b>\u001b[0m in \u001b[0;36m<module>\u001b[1;34m()\u001b[0m\n\u001b[0;32m     34\u001b[0m \u001b[1;33m\u001b[0m\u001b[0m\n\u001b[0;32m     35\u001b[0m \u001b[0mx\u001b[0m\u001b[1;33m=\u001b[0m\u001b[1;36m7\u001b[0m\u001b[1;33m\u001b[0m\u001b[0m\n\u001b[1;32m---> 36\u001b[1;33m \u001b[0mprint\u001b[0m\u001b[1;33m(\u001b[0m\u001b[0mis_prime\u001b[0m\u001b[1;33m(\u001b[0m\u001b[0mx\u001b[0m\u001b[1;33m)\u001b[0m\u001b[1;33m)\u001b[0m\u001b[1;33m\u001b[0m\u001b[0m\n\u001b[0m\u001b[0;32m     37\u001b[0m \u001b[0mprint\u001b[0m\u001b[1;33m(\u001b[0m\u001b[0mcount_primes\u001b[0m\u001b[1;33m(\u001b[0m\u001b[0mx\u001b[0m\u001b[1;33m)\u001b[0m\u001b[1;33m)\u001b[0m\u001b[1;33m\u001b[0m\u001b[0m\n",
      "\u001b[1;31mNameError\u001b[0m: name 'is_prime' is not defined"
     ]
    }
   ],
   "source": [
    "def count_primes(x) :\n",
    "    '''\n",
    "    這是一個自訂函數，用來判斷輸入的正整數是否為質數\n",
    "    '''\n",
    "    def is_prime(x) :\n",
    "        try :\n",
    "            if x <= 0 :\n",
    "                return False\n",
    "            elif x == 1 :\n",
    "                return False\n",
    "            elif x == 2 :\n",
    "                return True\n",
    "            elif x :\n",
    "                for a in range(3, x) :\n",
    "                    if x % a == 0 :\n",
    "                        return False  \n",
    "                    else : \n",
    "                        return True     \n",
    "            else :\n",
    "                return False\n",
    "        except :\n",
    "                return False\n",
    "\n",
    "\n",
    "    temp_list = []    \n",
    "            #困擾點:想要說for x in 在函數is_prime(x)集合理面的數，但寫不出來\n",
    "    for x in range(0, x) :\n",
    "        if is_prime(x) == True :\n",
    "            temp_list.append(x)\n",
    "        else :\n",
    "            None\n",
    "    return len(temp_list)\n",
    "    \n",
    "\n",
    "x=7\n",
    "print(is_prime(x))\n",
    "print(count_primes(x))\n"
   ]
  },
  {
   "cell_type": "code",
   "execution_count": 9,
   "metadata": {},
   "outputs": [
    {
     "ename": "IndentationError",
     "evalue": "unexpected indent (<ipython-input-9-c1a80b708b6b>, line 27)",
     "output_type": "error",
     "traceback": [
      "\u001b[1;36m  File \u001b[1;32m\"<ipython-input-9-c1a80b708b6b>\"\u001b[1;36m, line \u001b[1;32m27\u001b[0m\n\u001b[1;33m    for x in range(0, x) :\u001b[0m\n\u001b[1;37m    ^\u001b[0m\n\u001b[1;31mIndentationError\u001b[0m\u001b[1;31m:\u001b[0m unexpected indent\n"
     ]
    }
   ],
   "source": [
    "def count_primes(x) :\n",
    "    '''\n",
    "    這是一個自訂函數，用來判斷輸入的正整數是否為質數\n",
    "    '''\n",
    "    def is_prime(x) :\n",
    "        try :\n",
    "            if x <= 0 :\n",
    "                return False\n",
    "            elif x == 1 :\n",
    "                return False\n",
    "            elif x == 2 :\n",
    "                return True\n",
    "            elif x :\n",
    "                for a in range(3, x) :\n",
    "                    if x % a == 0 :\n",
    "                        return False  \n",
    "                    else : \n",
    "                        return True     \n",
    "            else :\n",
    "                return False\n",
    "        except :\n",
    "                return False\n",
    "\n",
    "            \n",
    "prime_seq = []    \n",
    "            #困擾點:想要說for x in 在函數is_prime(x)集合理面的數，但寫不出來\n",
    "    for x in range(0, x) :\n",
    "        if is_prime(x) == True :\n",
    "            prime_seq.append(x)\n",
    "        else :\n",
    "            None\n",
    "    return len(prime_seq)\n",
    "\n",
    "\n",
    "\n",
    "print(prime_seq)"
   ]
  },
  {
   "cell_type": "code",
   "execution_count": 25,
   "metadata": {},
   "outputs": [
    {
     "name": "stdout",
     "output_type": "stream",
     "text": [
      "0\n",
      "1\n",
      "3\n"
     ]
    }
   ],
   "source": [
    "\n",
    "for x in range(0, x):\n",
    "    a = a+x\n",
    "    print(a)\n",
    "\n",
    "a=0\n",
    "x=3\n"
   ]
  },
  {
   "cell_type": "code",
   "execution_count": 84,
   "metadata": {},
   "outputs": [
    {
     "name": "stdout",
     "output_type": "stream",
     "text": [
      "100\n"
     ]
    }
   ],
   "source": [
    "    def my_length(input_list):\n",
    "        '計算個數'\n",
    "        temp_length = 0\n",
    "        for i in input_list:\n",
    "            temp_length += 1\n",
    "        return temp_length\n",
    "    print(my_length(range(1,101)))"
   ]
  },
  {
   "cell_type": "code",
   "execution_count": 110,
   "metadata": {},
   "outputs": [
    {
     "ename": "SyntaxError",
     "evalue": "invalid syntax (<ipython-input-110-2e5e86f62718>, line 8)",
     "output_type": "error",
     "traceback": [
      "\u001b[1;36m  File \u001b[1;32m\"<ipython-input-110-2e5e86f62718>\"\u001b[1;36m, line \u001b[1;32m8\u001b[0m\n\u001b[1;33m    return x, y = y, x+y\u001b[0m\n\u001b[1;37m                ^\u001b[0m\n\u001b[1;31mSyntaxError\u001b[0m\u001b[1;31m:\u001b[0m invalid syntax\n"
     ]
    }
   ],
   "source": [
    "#自訂函數 2：寫一個 Fibonacci 數列的產生函數，有三個輸入：第一個數字 f1、第二個數字 f2 與數列長度 fib_len fib_gen(f1, f2, fib_len)\n",
    "\n",
    "fib = [f1, f2]\n",
    "\n",
    "def Fibonacci(f1, f2) :\n",
    "    try:\n",
    "        for f1 in range(x) :\n",
    "            return x, y = y, x+y\n",
    "    except:\n",
    "        return None\n",
    "print(Fibonacci(1, 5))    "
   ]
  },
  {
   "cell_type": "code",
   "execution_count": 130,
   "metadata": {},
   "outputs": [
    {
     "name": "stdout",
     "output_type": "stream",
     "text": [
      "[0, 1, 1, 2, 3, 5, 8, 13, 21, 34, 55, 89, 144, 233, 377, 610, 987, 1597, 2584, 4181]\n",
      "\n",
      "\n"
     ]
    }
   ],
   "source": [
    "f1 = 0\n",
    "f2 = 1\n",
    "fib = [f1, f2]\n",
    "fib_len = 20\n",
    "for i in range(fib_len - 2):\n",
    "    fib.append(f1 + f2)\n",
    "    f1, f2 = f2, f1 + f2\n",
    "\n",
    "print(fib)\n",
    "print(\"\\n\")\n",
    "\n",
    "def Fibonacci(f1, f2, fib_len) :\n",
    "    \n",
    "    "
   ]
  },
  {
   "cell_type": "code",
   "execution_count": 72,
   "metadata": {},
   "outputs": [
    {
     "name": "stdout",
     "output_type": "stream",
     "text": [
      "[0, 1, 1, 2, 3, 5, 8, 13, 21, 34, 55, 89, 144, 233, 377, 610, 987, 1597, 2584, 4181, 6765, 10946, 17711, 28657, 46368, 75025, 121393, 196418, 317811, 514229]\n"
     ]
    }
   ],
   "source": [
    "N =30\n",
    "F = [0,1]\n",
    "for i in range(2,N):\n",
    "    F.append(sum(F[-2:]))\n",
    "print(F)    "
   ]
  }
 ],
 "metadata": {
  "kernelspec": {
   "display_name": "Python 3",
   "language": "python",
   "name": "python3"
  },
  "language_info": {
   "codemirror_mode": {
    "name": "ipython",
    "version": 3
   },
   "file_extension": ".py",
   "mimetype": "text/x-python",
   "name": "python",
   "nbconvert_exporter": "python",
   "pygments_lexer": "ipython3",
   "version": "3.6.1"
  }
 },
 "nbformat": 4,
 "nbformat_minor": 2
}
