{
 "cells": [
  {
   "cell_type": "code",
   "execution_count": 1,
   "metadata": {},
   "outputs": [
    {
     "name": "stdout",
     "output_type": "stream",
     "text": [
      "<class 'list'>\n",
      "六人行有 10 季。\n",
      "Chandler Bing 是由 Matthew Perry 飾演。\n"
     ]
    }
   ],
   "source": [
    "genre = \"SitCom\"\n",
    "seasons = 10\n",
    "episodes = 236\n",
    "stars = [\"Jennifer Aniston\", \"Courteney Cox\", \"Lisa Kudrow\",\n",
    "\"Matt LeBlanc\", \"Matthew Perry\", \"David Schwimmer\"]\n",
    "\n",
    "friends_list = [genre, seasons, episodes, stars]\n",
    "print(type(friends_list))\n",
    "print(\"六人行有 %i 季。\" % friends_list[1])\n",
    "print(\"Chandler Bing 是由 %s 飾演。\" % friends_list[3][4])"
   ]
  },
  {
   "cell_type": "code",
   "execution_count": 6,
   "metadata": {},
   "outputs": [
    {
     "name": "stdout",
     "output_type": "stream",
     "text": [
      "我的身高是：170 公分；\n",
      "體重是：60 公斤；\n",
      "BMI 是：20.76\n"
     ]
    }
   ],
   "source": [
    "height_cm = 170\n",
    "weight_kg = 60\n",
    "height_m = height_cm / 100\n",
    "BMI = weight_kg / (height_m)**2\n",
    "\n",
    "print(\"我的身高是：%i 公分；\\n體重是：%i 公斤；\\nBMI 是：%.2f\" % (height_cm, weight_kg, BMI))"
   ]
  },
  {
   "cell_type": "code",
   "execution_count": 7,
   "metadata": {},
   "outputs": [
    {
     "name": "stdout",
     "output_type": "stream",
     "text": [
      "1.12.1\n",
      "0.20.1\n",
      "2.0.2\n",
      "0.18.1\n"
     ]
    }
   ],
   "source": [
    "import numpy as np\n",
    "import pandas as pd\n",
    "import matplotlib\n",
    "import sklearn\n",
    "\n",
    "print(np.__version__)\n",
    "print(pd.__version__)\n",
    "print(matplotlib.__version__)\n",
    "print(sklearn.__version__)"
   ]
  },
  {
   "cell_type": "code",
   "execution_count": null,
   "metadata": {
    "collapsed": true
   },
   "outputs": [],
   "source": []
  }
 ],
 "metadata": {
  "kernelspec": {
   "display_name": "Python 3",
   "language": "python",
   "name": "python3"
  },
  "language_info": {
   "codemirror_mode": {
    "name": "ipython",
    "version": 3
   },
   "file_extension": ".py",
   "mimetype": "text/x-python",
   "name": "python",
   "nbconvert_exporter": "python",
   "pygments_lexer": "ipython3",
   "version": "3.6.1"
  }
 },
 "nbformat": 4,
 "nbformat_minor": 2
}
