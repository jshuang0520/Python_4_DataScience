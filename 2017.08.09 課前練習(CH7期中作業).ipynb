{
 "cells": [
  {
   "cell_type": "code",
   "execution_count": 12,
   "metadata": {},
   "outputs": [
    {
     "name": "stdout",
     "output_type": "stream",
     "text": [
      "[1, 2, 3, 4, 5, 6, 7, 8, 9, 10, 11, 12, 13, 14, 15, 16, 17, 18, 19, 20, 21, 22, 23, 24, 25, 26, 27, 28, 29, 30, 31, 32, 33, 34, 35, 36, 37, 38, 39, 40, 41, 42, 43, 44, 45, 46, 47, 48, 49, 50, 51, 52, 53, 54, 55, 56, 57, 58, 59, 60, 61, 62, 63, 64, 65, 66, 67, 68, 69, 70, 71, 72, 73, 74, 75, 76, 77, 78, 79, 80, 81, 82, 83, 84, 85, 86, 87]\n",
      "\n",
      "\n",
      "1 是87的因數。\n",
      "3 是87的因數。\n",
      "29 是87的因數。\n",
      "87 是87的因數。\n"
     ]
    }
   ],
   "source": [
    "seq_1到87 = list(range(1,88))\n",
    "print(seq_1到87)\n",
    "print(\"\\n\")\n",
    "\n",
    "for a in seq_1到87 :\n",
    "    if 87 % a == 0 :\n",
    "        print(\"%i 是87的因數。\" % a)\n",
    "    else:\n",
    "        None"
   ]
  },
  {
   "cell_type": "code",
   "execution_count": 1,
   "metadata": {},
   "outputs": [
    {
     "name": "stdout",
     "output_type": "stream",
     "text": [
      "[1, 2, 3, 4, 5, 6, 7, 8, 9, 10, 11, 12, 13, 14, 15, 16, 17, 18, 19, 20, 21, 22, 23, 24, 25, 26, 27, 28, 29, 30, 31, 32, 33, 34, 35, 36, 37, 38, 39, 40, 41, 42, 43, 44, 45, 46, 47, 48, 49, 50, 51, 52, 53, 54, 55, 56, 57, 58, 59, 60, 61, 62, 63, 64, 65, 66, 67, 68, 69, 70, 71, 72, 73, 74, 75, 76, 77, 78, 79, 80, 81, 82, 83, 84, 85, 86, 87, 88, 89, 90, 91, 92, 93, 94, 95, 96, 97, 98, 99, 100]\n",
      "\n",
      "\n",
      "3 是3的倍數。Bingo!\n",
      "5 是5的倍數。Awesome!\n",
      "6 是3的倍數。Bingo!\n",
      "9 是3的倍數。Bingo!\n",
      "10 是5的倍數。Awesome!\n",
      "12 是3的倍數。Bingo!\n",
      "15 是15的倍數。Fantastic!\n",
      "18 是3的倍數。Bingo!\n",
      "20 是5的倍數。Awesome!\n",
      "21 是3的倍數。Bingo!\n",
      "24 是3的倍數。Bingo!\n",
      "25 是5的倍數。Awesome!\n",
      "27 是3的倍數。Bingo!\n",
      "30 是15的倍數。Fantastic!\n",
      "33 是3的倍數。Bingo!\n",
      "35 是5的倍數。Awesome!\n",
      "36 是3的倍數。Bingo!\n",
      "39 是3的倍數。Bingo!\n",
      "40 是5的倍數。Awesome!\n",
      "42 是3的倍數。Bingo!\n",
      "45 是15的倍數。Fantastic!\n",
      "48 是3的倍數。Bingo!\n",
      "50 是5的倍數。Awesome!\n",
      "51 是3的倍數。Bingo!\n",
      "54 是3的倍數。Bingo!\n",
      "55 是5的倍數。Awesome!\n",
      "57 是3的倍數。Bingo!\n",
      "60 是15的倍數。Fantastic!\n",
      "63 是3的倍數。Bingo!\n",
      "65 是5的倍數。Awesome!\n",
      "66 是3的倍數。Bingo!\n",
      "69 是3的倍數。Bingo!\n",
      "70 是5的倍數。Awesome!\n",
      "72 是3的倍數。Bingo!\n",
      "75 是15的倍數。Fantastic!\n",
      "78 是3的倍數。Bingo!\n",
      "80 是5的倍數。Awesome!\n",
      "81 是3的倍數。Bingo!\n",
      "84 是3的倍數。Bingo!\n",
      "85 是5的倍數。Awesome!\n",
      "87 是3的倍數。Bingo!\n",
      "90 是15的倍數。Fantastic!\n",
      "93 是3的倍數。Bingo!\n",
      "95 是5的倍數。Awesome!\n",
      "96 是3的倍數。Bingo!\n",
      "99 是3的倍數。Bingo!\n",
      "100 是5的倍數。Awesome!\n"
     ]
    }
   ],
   "source": [
    "seq_1到100 = list(range(1,101))\n",
    "print(seq_1到100)\n",
    "print(\"\\n\")\n",
    "\n",
    "for a in seq_1到100 :\n",
    "    if a % 15 == 0 :\n",
    "        print(\"%i 是15的倍數。Fantastic!\" % a)\n",
    "    elif a % 3 == 0 :\n",
    "        print(\"%i 是3的倍數。Bingo!\" % a)\n",
    "    elif a % 5 == 0 :\n",
    "        print(\"%i 是5的倍數。Awesome!\" % a)\n",
    "    else :\n",
    "        None"
   ]
  },
  {
   "cell_type": "code",
   "execution_count": 27,
   "metadata": {},
   "outputs": [
    {
     "name": "stdout",
     "output_type": "stream",
     "text": [
      "sgn(x) = 1\n",
      "sgn(x) = 0\n",
      "sgn(x) = -1\n"
     ]
    }
   ],
   "source": [
    "def sgn(x) :\n",
    "    '''\n",
    "    這是自訂函數sign，\n",
    "    請輸入一個整數。\n",
    "    ''' \n",
    "    if x > 0 :\n",
    "        return(\"sgn(x) = 1\")\n",
    "    elif x == 0 :\n",
    "        return(\"sgn(x) = 0\")\n",
    "    elif x < 0 :\n",
    "        return(\"sgn(x) = -1\")\n",
    "    else : \n",
    "        None\n",
    "\n",
    "\n",
    "    \n",
    "print(sgn(5))\n",
    "print(sgn(0))\n",
    "print(sgn(-5))"
   ]
  },
  {
   "cell_type": "code",
   "execution_count": 2,
   "metadata": {},
   "outputs": [
    {
     "name": "stdout",
     "output_type": "stream",
     "text": [
      "Help on function sgn in module __main__:\n",
      "\n",
      "sgn(x)\n",
      "    這是自訂函數sgn，\n",
      "    請輸入一個整數。\n",
      "\n",
      "sgn(10) = 1\n",
      "sgn(1000) = 1\n",
      "sgn(0) = 0\n",
      "sgn(-100) = -1\n",
      "sgn(12345) = 1\n",
      "sgn(0) = 0\n",
      "sgn(-12356) = -1\n"
     ]
    }
   ],
   "source": [
    "def sgn(x) :\n",
    "    '''\n",
    "    這是自訂函數sgn，\n",
    "    請輸入一個整數。\n",
    "    ''' \n",
    "    if x > 0 :\n",
    "        return \"sgn(%s) = 1\" % x\n",
    "    elif x == 0 :\n",
    "        return \"sgn(%s) = 0\" % x\n",
    "    elif x < 0 :\n",
    "        return \"sgn(%s) = -1\" % x\n",
    "    else : \n",
    "        None\n",
    "\n",
    "help(sgn)\n",
    "print(sgn(10))\n",
    "print(sgn(1000))\n",
    "print(sgn(0))\n",
    "print(sgn(-100))\n",
    "print(sgn(12345))\n",
    "print(sgn(0))\n",
    "print(sgn(-12356))"
   ]
  }
 ],
 "metadata": {
  "kernelspec": {
   "display_name": "Python 3",
   "language": "python",
   "name": "python3"
  },
  "language_info": {
   "codemirror_mode": {
    "name": "ipython",
    "version": 3
   },
   "file_extension": ".py",
   "mimetype": "text/x-python",
   "name": "python",
   "nbconvert_exporter": "python",
   "pygments_lexer": "ipython3",
   "version": "3.6.1"
  }
 },
 "nbformat": 4,
 "nbformat_minor": 2
}
