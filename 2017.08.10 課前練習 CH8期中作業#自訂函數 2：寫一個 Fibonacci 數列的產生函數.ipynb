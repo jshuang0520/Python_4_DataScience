{
 "cells": [
  {
   "cell_type": "code",
   "execution_count": 30,
   "metadata": {},
   "outputs": [
    {
     "name": "stdout",
     "output_type": "stream",
     "text": [
      "[30, 11, 41, 52, 93, 145, 238, 383, 621, 1004, 1625, 2629, 4254, 6883, 11137, 18020, 29157, 47177, 76334, 123511, 199845, 323356, 523201, 846557, 1369758, 2216315, 3586073, 5802388, 9388461, 15190849, 24579310, 39770159, 64349469, 104119628, 168469097, 272588725, 441057822, 713646547, 1154704369, 1868350916, 3023055285, 4891406201, 7914461486, 12805867687, 20720329173, 33526196860, 54246526033, 87772722893, 142019248926, 229791971819, 371811220745, 601603192564, 973414413309, 1575017605873, 2548432019182, 4123449625055, 6671881644237, 10795331269292, 17467212913529, 28262544182821, 45729757096350, 73992301279171, 119722058375521, 193714359654692, 313436418030213, 507150777684905, 820587195715118, 1327737973400023, 2148325169115141, 3476063142515164, 5624388311630305, 9100451454145469, 14724839765775774]\n"
     ]
    }
   ],
   "source": [
    "#自訂函數 2：寫一個 Fibonacci 數列的產生函數，有三個輸入：第一個數字 f1、第二個數字 f2 與數列長度 fib_len fib_gen(f1, f2, fib_len)\n",
    "#已修正bug版本\n",
    "def Fibonacci(f1, f2, fib_len) :\n",
    "    '''\n",
    "    依據輸入的f1、f2與 fib_len 參數，產生一組首項、第二項及數列長度由你決定的Fibonacci數列\n",
    "    ''' \n",
    "    fib_list = [f1, f2]\n",
    "    for i in range(fib_len - 2):\n",
    "        fib_list.append(f1 + f2)\n",
    "        f1, f2 = f2, f1 + f2\n",
    "    return fib_list\n",
    "\n",
    "\n",
    "f1 = 30\n",
    "f2 = 11\n",
    "fib_len = 73\n",
    "\n",
    "print(Fibonacci(f1, f2, fib_len))\n"
   ]
  },
  {
   "cell_type": "code",
   "execution_count": 61,
   "metadata": {},
   "outputs": [
    {
     "name": "stdout",
     "output_type": "stream",
     "text": [
      "[10, 11, 21, 32, 53, 85, 138, 223, 361, 584, 945, 1529, 2474, 4003, 6477]\n"
     ]
    }
   ],
   "source": [
    "#自訂函數 2：寫一個 Fibonacci 數列的產生函數，有三個輸入：第一個數字 f1、第二個數字 f2 與數列長度 fib_len fib_gen(f1, f2, fib_len)\n",
    "#自己看順眼的版本\n",
    "def Fibonacci(f1, f2, fib_len) :\n",
    "    '''\n",
    "    依據輸入的f1、f2與 fib_len 參數，產生一組首項、第二項及數列長度由你決定的Fibonacci 數列\n",
    "    ''' \n",
    "f1 = a\n",
    "f2 = b\n",
    "fib_len = N\n",
    "fib_list = [f1, f2]\n",
    "for i in range(fib_len - 2):\n",
    "    fib_list.append(f1 + f2)\n",
    "    f1, f2 = f2, f1 + f2\n",
    "print(fib_list)\n",
    "\n",
    "\n",
    "a, b, N = (10, 11, 15)"
   ]
  },
  {
   "cell_type": "code",
   "execution_count": 1,
   "metadata": {},
   "outputs": [
    {
     "name": "stdout",
     "output_type": "stream",
     "text": [
      "[0, 1]\n",
      "[0, 1, 1, 2, 3, 5, 8, 13, 21, 34, 55, 89, 144, 233, 377, 610, 987, 1597, 2584, 4181]\n",
      "\n",
      "\n",
      "--------------------------------------------------------------------------------\n",
      "Help on function circle_calculate in module __main__:\n",
      "\n",
      "circle_calculate(radius, is_area)\n",
      "    依據輸入的半徑與 is_area 參數，計算圓形的面積或周長\n",
      "\n",
      "28.274333882308138\n",
      "18.84955592153876\n",
      "\n",
      "\n",
      "--------------------------------------------------------------------------------\n",
      "89\n"
     ]
    }
   ],
   "source": [
    "#自訂函數 2：寫一個 Fibonacci 數列的產生函數，有三個輸入：第一個數字 f1、第二個數字 f2 與數列長度 fib_len fib_gen(f1, f2, fib_len)\n",
    "#參考資料\n",
    "\n",
    "f1 = 0\n",
    "f2 = 1\n",
    "\n",
    "費氏數列 = [f1 , f2]\n",
    "print(費氏數列)\n",
    "\n",
    "while len(費氏數列) < 20 :\n",
    "    f1, f2 = f2, f1+f2\n",
    "    費氏數列.append(f2)\n",
    "print(費氏數列)\n",
    "print('\\n')\n",
    "print(\"--------------------------------------------------------------------------------\")\n",
    "import math # 要使用 pi 得引入套件 math\n",
    "            # 定義自訂函數\n",
    "def circle_calculate(radius, is_area):\n",
    "    '''\n",
    "    依據輸入的半徑與 is_area 參數，計算圓形的面積或周長\n",
    "    '''\n",
    "    circle_area = math.pi * radius**2\n",
    "    circle_circum = 2 * math.pi * radius\n",
    "    if is_area == True:\n",
    "        return circle_area\n",
    "    else:\n",
    "        return circle_circum\n",
    "# 呼叫自訂函數\n",
    "help(circle_calculate) # 查詢自訂函數\n",
    "my_radius = 3\n",
    "print(circle_calculate(my_radius, is_area = True)) # 指定參數回傳面積\n",
    "print(circle_calculate(my_radius, is_area = False)) # 指定參數回傳周長\n",
    "print('\\n')\n",
    "print(\"--------------------------------------------------------------------------------\")\n",
    "def sum(a, b):\n",
    "    return a + b\n",
    " \n",
    "def fib(n):\n",
    "    i = 1\n",
    "    j = 1\n",
    "    while sum(i, j) < n:\n",
    "        i, j = j, sum(i, j)\n",
    "     \n",
    "    return j\n",
    " \n",
    "print(fib(100))\n",
    "\n",
    "\n",
    "    "
   ]
  },
  {
   "cell_type": "code",
   "execution_count": 31,
   "metadata": {},
   "outputs": [
    {
     "ename": "NameError",
     "evalue": "name '費氏數列' is not defined",
     "output_type": "error",
     "traceback": [
      "\u001b[1;31m---------------------------------------------------------------------------\u001b[0m",
      "\u001b[1;31mNameError\u001b[0m                                 Traceback (most recent call last)",
      "\u001b[1;32m<ipython-input-31-1ca55b5b952b>\u001b[0m in \u001b[0;36m<module>\u001b[1;34m()\u001b[0m\n\u001b[0;32m     16\u001b[0m \u001b[0mmy_f2\u001b[0m \u001b[1;33m=\u001b[0m \u001b[1;36m100\u001b[0m\u001b[1;33m\u001b[0m\u001b[0m\n\u001b[0;32m     17\u001b[0m \u001b[0mmy_fib_len\u001b[0m \u001b[1;33m=\u001b[0m \u001b[1;36m5\u001b[0m\u001b[1;33m\u001b[0m\u001b[0m\n\u001b[1;32m---> 18\u001b[1;33m \u001b[0mprint\u001b[0m\u001b[1;33m(\u001b[0m\u001b[0mFibonacci\u001b[0m\u001b[1;33m(\u001b[0m\u001b[0mmy_f1\u001b[0m\u001b[1;33m,\u001b[0m \u001b[0mmy_f2\u001b[0m\u001b[1;33m,\u001b[0m \u001b[0mmy_fib_len\u001b[0m\u001b[1;33m)\u001b[0m\u001b[1;33m)\u001b[0m      \u001b[1;31m# <------------------只能印出my_f1 , my_f2\u001b[0m\u001b[1;33m\u001b[0m\u001b[0m\n\u001b[0m",
      "\u001b[1;32m<ipython-input-31-1ca55b5b952b>\u001b[0m in \u001b[0;36mFibonacci\u001b[1;34m(f1, f2, fib_len)\u001b[0m\n\u001b[0;32m      7\u001b[0m     \u001b[0mf2\u001b[0m \u001b[1;33m=\u001b[0m \u001b[0mmy_f2\u001b[0m\u001b[1;33m\u001b[0m\u001b[0m\n\u001b[0;32m      8\u001b[0m     \u001b[0mF_list\u001b[0m \u001b[1;33m=\u001b[0m \u001b[1;33m[\u001b[0m\u001b[0mf1\u001b[0m \u001b[1;33m,\u001b[0m \u001b[0mf2\u001b[0m\u001b[1;33m]\u001b[0m\u001b[1;33m\u001b[0m\u001b[0m\n\u001b[1;32m----> 9\u001b[1;33m     \u001b[1;32mwhile\u001b[0m \u001b[0mlen\u001b[0m\u001b[1;33m(\u001b[0m\u001b[0m費氏數列\u001b[0m\u001b[1;33m)\u001b[0m \u001b[1;33m<\u001b[0m \u001b[1;33m(\u001b[0m\u001b[0mmy_fib_len\u001b[0m\u001b[1;33m)\u001b[0m \u001b[1;33m:\u001b[0m\u001b[1;33m\u001b[0m\u001b[0m\n\u001b[0m\u001b[0;32m     10\u001b[0m         \u001b[0mf1\u001b[0m\u001b[1;33m,\u001b[0m \u001b[0mf2\u001b[0m \u001b[1;33m=\u001b[0m \u001b[0mf2\u001b[0m\u001b[1;33m,\u001b[0m \u001b[0mf1\u001b[0m\u001b[1;33m+\u001b[0m\u001b[0mf2\u001b[0m\u001b[1;33m\u001b[0m\u001b[0m\n\u001b[0;32m     11\u001b[0m         \u001b[0mF_list\u001b[0m\u001b[1;33m.\u001b[0m\u001b[0mappend\u001b[0m\u001b[1;33m(\u001b[0m\u001b[0mf2\u001b[0m\u001b[1;33m)\u001b[0m\u001b[1;33m\u001b[0m\u001b[0m\n",
      "\u001b[1;31mNameError\u001b[0m: name '費氏數列' is not defined"
     ]
    }
   ],
   "source": [
    "#自訂函數 2：寫一個 Fibonacci 數列的產生函數，有三個輸入：第一個數字 f1、第二個數字 f2 與數列長度 fib_len fib_gen(f1, f2, fib_len)\n",
    "def Fibonacci(f1, f2, fib_len) :\n",
    "    '''\n",
    "    依據輸入的f1、f2與 fib_len 參數，產生一組首項、第二項及數列長度由你決定的Fibonacci 數列\n",
    "    ''' \n",
    "    f1 = my_f1\n",
    "    f2 = my_f2\n",
    "    F_list = [f1 , f2]\n",
    "    while len(費氏數列) < (my_fib_len) :\n",
    "        f1, f2 = f2, f1+f2\n",
    "        F_list.append(f2)\n",
    "    return F_list    \n",
    "    \n",
    "    \n",
    "my_f1 = 50   \n",
    "my_f2 = 100               \n",
    "my_fib_len = 5    \n",
    "print(Fibonacci(my_f1, my_f2, my_fib_len))      # <------------------只能印出my_f1 , my_f2"
   ]
  },
  {
   "cell_type": "code",
   "execution_count": null,
   "metadata": {
    "collapsed": true
   },
   "outputs": [],
   "source": []
  },
  {
   "cell_type": "code",
   "execution_count": 2,
   "metadata": {},
   "outputs": [
    {
     "name": "stdout",
     "output_type": "stream",
     "text": [
      "[30, 11, 41, 52, 93, 145, 238, 383, 621, 1004, 1625, 2629, 4254, 6883, 11137, 18020, 29157, 47177, 76334, 123511, 199845, 323356, 523201, 846557, 1369758, 2216315, 3586073, 5802388, 9388461, 15190849, 24579310, 39770159, 64349469, 104119628, 168469097, 272588725, 441057822, 713646547, 1154704369, 1868350916, 3023055285, 4891406201, 7914461486, 12805867687, 20720329173, 33526196860, 54246526033, 87772722893, 142019248926, 229791971819, 371811220745, 601603192564, 973414413309, 1575017605873, 2548432019182, 4123449625055, 6671881644237, 10795331269292, 17467212913529, 28262544182821, 45729757096350, 73992301279171, 119722058375521, 193714359654692, 313436418030213, 507150777684905, 820587195715118, 1327737973400023, 2148325169115141, 3476063142515164, 5624388311630305, 9100451454145469, 14724839765775774]\n"
     ]
    }
   ],
   "source": [
    "#自訂函數 2：寫一個 Fibonacci 數列的產生函數，有三個輸入：第一個數字 f1、第二個數字 f2 與數列長度 fib_len fib_gen(f1, f2, fib_len)\n",
    "\n",
    "#bug版本 : \n",
    "#因為def後面沒有配retrun，再print所定義的函數\n",
    "#相反的，因為下面for迴圈的內容，我直接print出來，就得到和預期一樣的結果，所以就以為是對的了\n",
    "\n",
    "def Fibonacci(f1, f2, fib_len) :\n",
    "    '''\n",
    "    依據輸入的f1、f2與 fib_len 參數，產生一組首項、第二項及數列長度由你決定的Fibonacci數列\n",
    "    ''' \n",
    "\n",
    "f1 = 30\n",
    "f2 = 11\n",
    "fib_len = 73\n",
    "fib_list = [f1, f2]\n",
    "for i in range(fib_len - 2):\n",
    "    fib_list.append(f1 + f2)\n",
    "    f1, f2 = f2, f1 + f2\n",
    "print(fib_list)\n",
    "\n",
    "\n",
    "\n"
   ]
  }
 ],
 "metadata": {
  "kernelspec": {
   "display_name": "Python 3",
   "language": "python",
   "name": "python3"
  },
  "language_info": {
   "codemirror_mode": {
    "name": "ipython",
    "version": 3
   },
   "file_extension": ".py",
   "mimetype": "text/x-python",
   "name": "python",
   "nbconvert_exporter": "python",
   "pygments_lexer": "ipython3",
   "version": "3.6.1"
  }
 },
 "nbformat": 4,
 "nbformat_minor": 2
}
